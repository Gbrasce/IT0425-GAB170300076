{
  "nbformat": 4,
  "nbformat_minor": 0,
  "metadata": {
    "colab": {
      "provenance": []
    },
    "kernelspec": {
      "name": "python3",
      "display_name": "Python 3"
    },
    "language_info": {
      "name": "python"
    }
  },
  "cells": [
    {
      "cell_type": "markdown",
      "source": [
        "#IT0425 - Introducción a la Inteligencia Artificial\n",
        "\n",
        "### Otoño 2023\n",
        "\n",
        "### IT0425_Lab_1-1\n",
        "\n",
        "**Profesor Enrique Naredo García**\n",
        "\n",
        "<font size = 2>\n",
        "©️ Todos los derechos reservados. All rights reserved.\n",
        "\n",
        "*Nota: El presente documento es una herramienta diseñada única y exclusivamente para los estudiantes de la asignatura arriba mencionada. Se recuerda no compartir esta información fuera de los integrantes registrados en este curso. La reproducción total o parcial de este documento requiere autorización por escrito del titular del copyright.*\n",
        "</font>"
      ],
      "metadata": {
        "id": "cHtZnQSQJMDR"
      }
    },
    {
      "cell_type": "markdown",
      "source": [],
      "metadata": {
        "id": "lw5tVa6sFZrU"
      }
    },
    {
      "cell_type": "markdown",
      "source": [
        "#Perceptrón"
      ],
      "metadata": {
        "id": "b8iN9im8NGQC"
      }
    },
    {
      "cell_type": "markdown",
      "source": [
        "En el campo de las Redes Neuronales, el **[perceptrón](https://es.wikipedia.org/wiki/Perceptrón)**, creado por Frank Rosenblatt,​ se refiere a:\n",
        "\n",
        "* La neurona artificial o unidad básica de inferencia en forma de discriminador lineal.\n",
        "* A partir de lo cual se desarrolla un algoritmo capaz de generar un criterio para seleccionar un subgrupo a partir de un grupo de componentes más grande.\n",
        "* La limitación de este algoritmo es que si dibujamos en un gráfico estos elementos.\n",
        "* Se deben poder separar con un hiperplano únicamente los elementos \"deseados\" discriminándolos (separándolos) de los \"no deseados\".\n",
        "\n",
        "* El perceptrón puede utilizarse con otros tipos de perceptrones o de neurona artificial, para formar una red neuronal artificial más compleja."
      ],
      "metadata": {
        "id": "6-W9PuB4NBxV"
      }
    },
    {
      "cell_type": "markdown",
      "source": [
        "En el campo del Machine Learning, el Perceptrón es un Algoritmo de Aprendizaje Supervisado para clasificadores binarios.\n",
        "\n",
        "El Modelo Perceptrón implementa la siguiente función:\n",
        "$$\\widehat{y} = \\;\\Theta \\;(w_1 x_1 + \\cdots + w_n x_n + b)$$\n",
        "\n",
        "que en notación vectorial queda de la siguiente manera:\n",
        "$$\\widehat{y} = \\;\\Theta \\;(\\mathbf{w} \\cdot \\mathbf{x}+b)$$\n",
        "\n",
        "donde $\\mathbf{w}=(w_1,\\cdots w_n)$, $\\mathbf{x}=(x_1,\\cdots x_n)$ son vectores, y\n",
        "\n",
        "$$\\Theta(v) = \\left\\{\\begin{matrix}\n",
        "1 \\;, & \\text{si} \\;\\; v \\geq 0 \\\\\n",
        "0 \\;, & \\text{de lo contrario}\n",
        "\\end{matrix}\\right.$$\n",
        "es la función escalón.\n",
        "\n",
        "<br>\n",
        "<br>\n",
        "<br>\n",
        "<br>\n",
        "<br>\n",
        "\n",
        "Nota: Código basado en esta [página](https://www.geeksforgeeks.org/implementation-of-perceptron-algorithm-for-not-logic-gate/)."
      ],
      "metadata": {
        "id": "rCqyVfuqJpwE"
      }
    },
    {
      "cell_type": "code",
      "source": [
        "# librerías\n",
        "import numpy as np"
      ],
      "metadata": {
        "id": "JaFK7fApGf2J"
      },
      "execution_count": 12,
      "outputs": []
    },
    {
      "cell_type": "markdown",
      "source": [
        "##Implementación de Perceptrón"
      ],
      "metadata": {
        "id": "LE8LdP7JTqOW"
      }
    },
    {
      "cell_type": "markdown",
      "source": [
        "Implementación de la función [escalón](https://es.wikipedia.org/wiki/Función_escalonada).\n"
      ],
      "metadata": {
        "id": "5cBumj-oQkXI"
      }
    },
    {
      "cell_type": "code",
      "source": [
        "# función escalón\n",
        "def escalon(v):\n",
        "\tif v >= 0:\n",
        "\t\treturn 1\n",
        "\telse:\n",
        "\t\treturn 0"
      ],
      "metadata": {
        "id": "CgEkG4AUGjzN"
      },
      "execution_count": 13,
      "outputs": []
    },
    {
      "cell_type": "code",
      "source": [
        "# perceptron\n",
        "def perceptron(x, w, b):\n",
        "\tv = np.dot(w, x) + b\n",
        "\ty = escalon(v)\n",
        "\treturn y"
      ],
      "metadata": {
        "id": "zrXXBqIjGlNs"
      },
      "execution_count": 14,
      "outputs": []
    },
    {
      "cell_type": "code",
      "source": [
        "# Prueba\n",
        "def Prueba(x):\n",
        "  # parámetros\n",
        "\tw = -1\n",
        "\tb = 0.5\n",
        "\treturn perceptron(x, w, b)\n"
      ],
      "metadata": {
        "id": "eoyvbFcTGmbS"
      },
      "execution_count": 40,
      "outputs": []
    },
    {
      "cell_type": "markdown",
      "source": [
        "## Prueba del Perceptrón"
      ],
      "metadata": {
        "id": "lJSj3BVeToMJ"
      }
    },
    {
      "cell_type": "code",
      "source": [
        "# prueba del modelo del perceptron\n",
        "valor1 = np.array(1)\n",
        "print(\"Clasifica({}) = {}\".format(1, Prueba(valor1)))"
      ],
      "metadata": {
        "colab": {
          "base_uri": "https://localhost:8080/"
        },
        "id": "frsSenVqG0KT",
        "outputId": "3b3de727-728c-44a4-8232-0778df9da0f1"
      },
      "execution_count": 48,
      "outputs": [
        {
          "output_type": "stream",
          "name": "stdout",
          "text": [
            "Clasifica(1) = 0\n"
          ]
        }
      ]
    },
    {
      "cell_type": "code",
      "source": [
        "# prueba del modelo del perceptron\n",
        "valor2 = np.array(2)\n",
        "print(\"Clasifica({}) = {}\".format(1, Prueba(valor2)))"
      ],
      "metadata": {
        "colab": {
          "base_uri": "https://localhost:8080/"
        },
        "id": "_8IbRcQdG5S6",
        "outputId": "e0b5e749-f71b-4657-e05e-546f4e1508d5"
      },
      "execution_count": 42,
      "outputs": [
        {
          "output_type": "stream",
          "name": "stdout",
          "text": [
            "NOT(1) = 0\n"
          ]
        }
      ]
    },
    {
      "cell_type": "code",
      "source": [
        "# prueba del modelo del perceptron\n",
        "valor3 = np.array(3)\n",
        "print(\"Clasifica({}) = {}\".format(1, Prueba(valor3)))"
      ],
      "metadata": {
        "colab": {
          "base_uri": "https://localhost:8080/"
        },
        "id": "ZpwzJ2FaG86_",
        "outputId": "acb05f2e-7916-463c-e4d3-20796126abed"
      },
      "execution_count": 43,
      "outputs": [
        {
          "output_type": "stream",
          "name": "stdout",
          "text": [
            "NOT(1) = 0\n"
          ]
        }
      ]
    },
    {
      "cell_type": "code",
      "source": [
        "# prueba del modelo del perceptron\n",
        "valor4 = np.array(-1)\n",
        "print(\"Clasifica({}) = {}\".format(1, Prueba(valor4)))"
      ],
      "metadata": {
        "colab": {
          "base_uri": "https://localhost:8080/"
        },
        "id": "7mMdmRXAHAn_",
        "outputId": "d9a6c5f7-0b7c-48e1-8a93-2f36b70b12fa"
      },
      "execution_count": 44,
      "outputs": [
        {
          "output_type": "stream",
          "name": "stdout",
          "text": [
            "NOT(1) = 1\n"
          ]
        }
      ]
    },
    {
      "cell_type": "code",
      "source": [
        "# prueba del modelo del perceptron\n",
        "valor5 = np.array(-4)\n",
        "print(\"Clasifica({}) = {}\".format(1, Prueba(valor5)))"
      ],
      "metadata": {
        "colab": {
          "base_uri": "https://localhost:8080/"
        },
        "id": "oYvbWEjdT7z7",
        "outputId": "a465d972-a50c-40e7-89f6-e26c72f8ff87"
      },
      "execution_count": 45,
      "outputs": [
        {
          "output_type": "stream",
          "name": "stdout",
          "text": [
            "NOT(1) = 1\n"
          ]
        }
      ]
    },
    {
      "cell_type": "markdown",
      "source": [
        "## Ejemplo con lista de valores"
      ],
      "metadata": {
        "id": "5XVsriy3VTqP"
      }
    },
    {
      "cell_type": "code",
      "source": [
        "# lista de valores\n",
        "valores = [1, 7, 0, 6, -2, -5, 6]\n",
        "\n",
        "# convierte la lista a un arreglo\n",
        "arreglo = np.array(valores)\n",
        "\n",
        "# muestra la lista\n",
        "print (\"Lista: \", valores)\n",
        "\n",
        "# displamuestra el arreglo\n",
        "print (\"Arreglo: \", arreglo)"
      ],
      "metadata": {
        "colab": {
          "base_uri": "https://localhost:8080/"
        },
        "id": "7iX6G1jeVFit",
        "outputId": "cffbbc01-225f-45b6-c62b-6af8ed6e3d73"
      },
      "execution_count": 73,
      "outputs": [
        {
          "output_type": "stream",
          "name": "stdout",
          "text": [
            "Lista:  [1, 7, 0, 6, -2, -5, 6]\n",
            "Arreglo:  [ 1  7  0  6 -2 -5  6]\n"
          ]
        }
      ]
    },
    {
      "cell_type": "code",
      "source": [
        "# usando lista\n",
        "for v in valores:\n",
        "  print(\"Clasifica({}) = {}\".format(v, Prueba(v)))"
      ],
      "metadata": {
        "colab": {
          "base_uri": "https://localhost:8080/"
        },
        "id": "E9rdeiz-ayQk",
        "outputId": "6cd121e1-997d-4ec3-d8fe-81a94936808b"
      },
      "execution_count": 76,
      "outputs": [
        {
          "output_type": "stream",
          "name": "stdout",
          "text": [
            "Clasifica(1) = 0\n",
            "Clasifica(7) = 0\n",
            "Clasifica(0) = 1\n",
            "Clasifica(6) = 0\n",
            "Clasifica(-2) = 1\n",
            "Clasifica(-5) = 1\n",
            "Clasifica(6) = 0\n"
          ]
        }
      ]
    },
    {
      "cell_type": "code",
      "source": [
        "# usando arreglo\n",
        "for v in arreglo:\n",
        "  print(\"Clasifica({}) = {}\".format(v, Prueba(v)))"
      ],
      "metadata": {
        "colab": {
          "base_uri": "https://localhost:8080/"
        },
        "id": "lMbMxF_5bOUS",
        "outputId": "3ce14620-e124-4bc3-aac3-a86ff7b10663"
      },
      "execution_count": 77,
      "outputs": [
        {
          "output_type": "stream",
          "name": "stdout",
          "text": [
            "Clasifica(1) = 0\n",
            "Clasifica(7) = 0\n",
            "Clasifica(0) = 1\n",
            "Clasifica(6) = 0\n",
            "Clasifica(-2) = 1\n",
            "Clasifica(-5) = 1\n",
            "Clasifica(6) = 0\n"
          ]
        }
      ]
    },
    {
      "cell_type": "code",
      "source": [
        "V = []\n",
        "for i in valores:\n",
        "  v = Prueba(i)\n",
        "  V.append(v)\n",
        "V = np.array(V)\n",
        "print(V)"
      ],
      "metadata": {
        "colab": {
          "base_uri": "https://localhost:8080/"
        },
        "id": "FZSaAsG7dPUD",
        "outputId": "8c6654e3-e2e0-4d83-a9ea-90fdebc9ccc2"
      },
      "execution_count": 82,
      "outputs": [
        {
          "output_type": "stream",
          "name": "stdout",
          "text": [
            "[0 0 1 0 1 1 0]\n"
          ]
        }
      ]
    },
    {
      "cell_type": "code",
      "source": [
        "print(\"Prueba = \",valores, \"\\nClasificación = \",V)"
      ],
      "metadata": {
        "colab": {
          "base_uri": "https://localhost:8080/"
        },
        "id": "YXP-B6qdeaAo",
        "outputId": "d8c04509-adb6-4258-ef76-faed6fbe48de"
      },
      "execution_count": 83,
      "outputs": [
        {
          "output_type": "stream",
          "name": "stdout",
          "text": [
            "Prueba =  [1, 7, 0, 6, -2, -5, 6] \n",
            "Clasificación =  [0 0 1 0 1 1 0]\n"
          ]
        }
      ]
    }
  ]
}
