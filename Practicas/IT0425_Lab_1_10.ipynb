{
  "nbformat": 4,
  "nbformat_minor": 0,
  "metadata": {
    "colab": {
      "provenance": []
    },
    "kernelspec": {
      "name": "python3",
      "display_name": "Python 3"
    },
    "language_info": {
      "name": "python"
    }
  },
  "cells": [
    {
      "cell_type": "markdown",
      "source": [
        "#IT0425 - Introducción a la Inteligencia Artificial\n",
        "\n",
        "### Otoño 2023\n",
        "\n",
        "### IT0425_Lab_1-10\n",
        "\n",
        "**Profesor Enrique Naredo García**\n",
        "\n",
        "<font size = 2>\n",
        "©️ Todos los derechos reservados. All rights reserved.\n",
        "\n",
        "*Nota: El presente documento es una herramienta diseñada única y exclusivamente para los estudiantes de la asignatura arriba mencionada. Se recuerda no compartir esta información fuera de los integrantes registrados en este curso. La reproducción total o parcial de este documento requiere autorización por escrito del titular del copyright.*\n",
        "</font>"
      ],
      "metadata": {
        "id": "DqcuZvqhdItf"
      }
    },
    {
      "cell_type": "markdown",
      "source": [
        "#Juego del \"gato #\""
      ],
      "metadata": {
        "id": "qcZMOWgXgY8I"
      }
    },
    {
      "cell_type": "markdown",
      "source": [
        "\n",
        "El tres en línea, también conocido en México como juego del gato, también conocido en otros lugares como ceros y cruces, tres en raya, cerito cruz, michi, triqui, cuadritos, juego del gato, gato, tatetí, totito, triqui traka, equis cero, o la vieja.\n",
        "\n",
        "* Es un juego de lápiz y papel (en sus origenes) entre dos jugadores: O y X, que marcan los espacios de un tablero de $3×3$ alternadamente."
      ],
      "metadata": {
        "id": "QVA5-43egTrn"
      }
    },
    {
      "cell_type": "code",
      "source": [
        "# lirerías\n",
        "import numpy as np\n",
        "import random\n",
        "from time import sleep"
      ],
      "metadata": {
        "id": "-hAAbSg-g0kb"
      },
      "execution_count": 1,
      "outputs": []
    },
    {
      "cell_type": "code",
      "source": [
        "# creación de tablero vacio\n",
        "def crea_tablero():\n",
        "\treturn( np.array(\n",
        "          [[0, 0, 0],\n",
        "\t\t\t\t\t[0, 0, 0],\n",
        "\t\t\t\t\t[0, 0, 0]]\n",
        "          )\n",
        "        )"
      ],
      "metadata": {
        "id": "L2efR3Hwg3rX"
      },
      "execution_count": 2,
      "outputs": []
    },
    {
      "cell_type": "code",
      "source": [
        "# verifica celdas vacias en el tablero\n",
        "def celdas_vacias(tablero):\n",
        "\tlista = []\n",
        "  # ciclo\n",
        "\tfor i in range(len(tablero)):\n",
        "\t\tfor j in range(len(tablero)):\n",
        "      # si esta vacia agregala a la lista\n",
        "\t\t\tif tablero[i][j] == 0:\n",
        "\t\t\t\tlista.append((i, j))\n",
        "  # regeresa la lista\n",
        "\treturn lista"
      ],
      "metadata": {
        "id": "qlTj6HiuhREo"
      },
      "execution_count": 3,
      "outputs": []
    },
    {
      "cell_type": "code",
      "source": [
        "# seleciona aleatoriamente una celda\n",
        "def movimiento_aleatorio(tablero, jugador):\n",
        "\tseleccion = celdas_vacias(tablero)\n",
        "\tnueva_posicion = random.choice(seleccion)\n",
        "\ttablero[nueva_posicion] = jugador\n",
        "\treturn tablero"
      ],
      "metadata": {
        "id": "yyUe_Dm9h455"
      },
      "execution_count": 4,
      "outputs": []
    },
    {
      "cell_type": "code",
      "source": [
        "# verifica si ya ganó\n",
        "# si tiene 3 en línea horizontalmente\n",
        "def gana_horizontal(tablero, jugador):\n",
        "  # recorre horizontalmente\n",
        "  for x in range(len(tablero)):\n",
        "    # asume que ya ganó\n",
        "    gana = True\n",
        "    # recorre verticalmente\n",
        "    for y in range(len(tablero)):\n",
        "      # si no hay 3 en línea\n",
        "      if tablero[x, y] != jugador:\n",
        "        # pues realmente no ha ganado\n",
        "        gana = False\n",
        "        # continua con el siguiente\n",
        "        continue\n",
        "    # si realmente ganó\n",
        "    if gana == True:\n",
        "      return gana\n",
        "  # regresa gana\n",
        "  return gana"
      ],
      "metadata": {
        "id": "ROc93XSmiaSW"
      },
      "execution_count": 5,
      "outputs": []
    },
    {
      "cell_type": "code",
      "source": [
        "# verifica si ya ganó\n",
        "# si tiene 3 en línea verticalmente\n",
        "def gana_vertical(tablero, jugador):\n",
        "  # recorre horizontalmente\n",
        "  for x in range(len(tablero)):\n",
        "    # asume que ya ganó\n",
        "    gana = True\n",
        "    # recorre verticalmente\n",
        "    for y in range(len(tablero)):\n",
        "      # si no hay 3 en línea\n",
        "      if tablero[y][x] != jugador:\n",
        "        # pues realmente no ha ganado\n",
        "        gana = False\n",
        "        # continua con el siguiente\n",
        "        continue\n",
        "    # si realmente ganó\n",
        "    if gana == True:\n",
        "      return gana\n",
        "  # regresa gana\n",
        "  return gana"
      ],
      "metadata": {
        "id": "EINKVDVymwqr"
      },
      "execution_count": 6,
      "outputs": []
    },
    {
      "cell_type": "code",
      "source": [
        "# verifica si ya ganó\n",
        "# si tiene 3 en línea diagonalmente\n",
        "def gana_diagonal(tablero, jugador):\n",
        "  # asume que ya ganó\n",
        "  gana = True\n",
        "  # inicia en la primer celda vertical\n",
        "  y = 0\n",
        "  # recorre horizontalmente\n",
        "  for x in range(len(tablero)):\n",
        "    # si no hay 3 en línea\n",
        "    # usa el mismo valor de x en y\n",
        "    # para checar la diagonal, ej: (2,2)\n",
        "    if tablero[x, x] != jugador:\n",
        "      # pues realmente no ha ganado\n",
        "      gana = False\n",
        "  # si realmente ganó\n",
        "  if gana:\n",
        "    return gana\n",
        "  gana = True\n",
        "  # si aún no gana\n",
        "  if gana:\n",
        "    for x in range(len(tablero)):\n",
        "      y = len(tablero) - 1 - x\n",
        "      if tablero[x, y] != jugador:\n",
        "        gana = False\n",
        "  # regresa gana\n",
        "  return gana"
      ],
      "metadata": {
        "id": "0WGyCb_17HWT"
      },
      "execution_count": 7,
      "outputs": []
    },
    {
      "cell_type": "code",
      "source": [
        "# verifica si hay empate\n",
        "def evalua(tablero):\n",
        "  # asume que\n",
        "  ganador = 0\n",
        "  # verifica ambos jugadores\n",
        "  for jugador in [1, 2]:\n",
        "    # verifica todas las opciones de ganar\n",
        "    if (gana_horizontal(tablero, jugador) or\n",
        "      gana_vertical(tablero, jugador) or\n",
        "      gana_diagonal(tablero, jugador)):\n",
        "      # el ganador es el jugador actual\n",
        "      ganador = jugador\n",
        "  # prueba si son verdaderos\n",
        "  if np.all(tablero != 0) and ganador == 0:\n",
        "    ganador = -1\n",
        "  # regresa ganador\n",
        "  return ganador\n"
      ],
      "metadata": {
        "id": "NCc4BuOZqq74"
      },
      "execution_count": 8,
      "outputs": []
    },
    {
      "cell_type": "code",
      "source": [
        "# inicia el juego\n",
        "def inicia_juego():\n",
        "  # crea tablero y asigna jugadores (0,1)\n",
        "  print(\"Tablero incial\")\n",
        "  tablero, ganador, contador = crea_tablero(), 0, 1\n",
        "  # muestra tablero\n",
        "  print(tablero,\"\\n\")\n",
        "  # pausa por 2 segundos\n",
        "  sleep(2)\n",
        "  # verifica ganador\n",
        "  while ganador == 0:\n",
        "    # verifica ambos jugadores\n",
        "    for jugador in [1, 2]:\n",
        "      # realiza una jugada\n",
        "      tablero = movimiento_aleatorio(tablero, jugador)\n",
        "      print(\"Tablero después del movimiento: \" + str(contador))\n",
        "      print(tablero,\"\\n\")\n",
        "      sleep(2)\n",
        "      contador += 1\n",
        "      ganador = evalua(tablero)\n",
        "      if ganador != 0:\n",
        "        break\n",
        "  return ganador"
      ],
      "metadata": {
        "id": "WIYBUk7tumLp"
      },
      "execution_count": 9,
      "outputs": []
    },
    {
      "cell_type": "code",
      "execution_count": 11,
      "metadata": {
        "colab": {
          "base_uri": "https://localhost:8080/"
        },
        "id": "l9W-QiNLdIF-",
        "outputId": "2bb05f3d-98ad-420e-ad54-74f718927fb7"
      },
      "outputs": [
        {
          "output_type": "stream",
          "name": "stdout",
          "text": [
            "Tablero incial\n",
            "[[0 0 0]\n",
            " [0 0 0]\n",
            " [0 0 0]] \n",
            "\n",
            "Tablero después del movimiento: 1\n",
            "[[0 0 0]\n",
            " [0 0 1]\n",
            " [0 0 0]] \n",
            "\n",
            "Tablero después del movimiento: 2\n",
            "[[0 0 0]\n",
            " [0 2 1]\n",
            " [0 0 0]] \n",
            "\n",
            "Tablero después del movimiento: 3\n",
            "[[0 0 0]\n",
            " [0 2 1]\n",
            " [1 0 0]] \n",
            "\n",
            "Tablero después del movimiento: 4\n",
            "[[0 0 2]\n",
            " [0 2 1]\n",
            " [1 0 0]] \n",
            "\n",
            "Tablero después del movimiento: 5\n",
            "[[1 0 2]\n",
            " [0 2 1]\n",
            " [1 0 0]] \n",
            "\n",
            "Tablero después del movimiento: 6\n",
            "[[1 0 2]\n",
            " [2 2 1]\n",
            " [1 0 0]] \n",
            "\n",
            "Tablero después del movimiento: 7\n",
            "[[1 0 2]\n",
            " [2 2 1]\n",
            " [1 1 0]] \n",
            "\n",
            "Tablero después del movimiento: 8\n",
            "[[1 2 2]\n",
            " [2 2 1]\n",
            " [1 1 0]] \n",
            "\n",
            "Tablero después del movimiento: 9\n",
            "[[1 2 2]\n",
            " [2 2 1]\n",
            " [1 1 1]] \n",
            "\n",
            "El ganador es: 1\n"
          ]
        }
      ],
      "source": [
        "# prueba el código\n",
        "print(\"El ganador es: \" + str(inicia_juego()))\n"
      ]
    }
  ]
}