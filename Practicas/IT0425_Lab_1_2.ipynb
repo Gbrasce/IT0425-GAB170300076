{
  "nbformat": 4,
  "nbformat_minor": 0,
  "metadata": {
    "colab": {
      "provenance": []
    },
    "kernelspec": {
      "name": "python3",
      "display_name": "Python 3"
    },
    "language_info": {
      "name": "python"
    }
  },
  "cells": [
    {
      "cell_type": "markdown",
      "source": [
        "#IT0425 - Introducción a la Inteligencia Artificial\n",
        "\n",
        "### Otoño 2023\n",
        "\n",
        "### IT0425_Lab_1-2\n",
        "\n",
        "**Profesor Enrique Naredo García**\n",
        "\n",
        "<font size = 2>\n",
        "©️ Todos los derechos reservados. All rights reserved.\n",
        "\n",
        "*Nota: El presente documento es una herramienta diseñada única y exclusivamente para los estudiantes de la asignatura arriba mencionada. Se recuerda no compartir esta información fuera de los integrantes registrados en este curso. La reproducción total o parcial de este documento requiere autorización por escrito del titular del copyright.*\n",
        "</font>"
      ],
      "metadata": {
        "id": "qpDVtLfeWBWj"
      }
    },
    {
      "cell_type": "markdown",
      "source": [
        "# Programación Genética"
      ],
      "metadata": {
        "id": "6aDoGXNeaXKw"
      }
    },
    {
      "cell_type": "markdown",
      "source": [
        "En la inteligencia artificial, la programación genética (GP, de sus siglas en inglés: Genetic Programming)\n",
        "\n",
        "* Es una metodología basada en los algoritmos evolutivos.\n",
        "* Inspirada en la evolución biológica.\n",
        "* Para crear automáticamente programas de computadoras.\n",
        "* Que puedan resolver una tarea definida por el usuario.\n",
        "* Es una especialización de los algoritmos genéticos.\n",
        "* Donde cada individuo es un programa de computadora.\n",
        "* Una forma convencional de representar los individuos es a través de árboles.\n"
      ],
      "metadata": {
        "id": "eaXorG5MaVFF"
      }
    },
    {
      "cell_type": "markdown",
      "source": [
        "En Ciencias de la computación, un árbol es una estructura de datos que imita la estructura de un árbol al revés.\n",
        "* La raíz está en la parte superior.\n",
        "* Hacia abajo contiene sub-árboles.\n",
        "* Los nodos descendientes o inferiores son llamados nodos hoja.\n",
        "* Un árbol es un tipo de Grafo que no tiene ciclos."
      ],
      "metadata": {
        "id": "auys6IsVZdti"
      }
    },
    {
      "cell_type": "markdown",
      "source": [
        "##Binarytree"
      ],
      "metadata": {
        "id": "7dck5bk2cI3N"
      }
    },
    {
      "cell_type": "markdown",
      "source": [
        "Utilizaremos una librería de Python para graficar en forma árboles las instrucciones que creemos manualmente.\n",
        "\n",
        "* [Binarytree](https://pypi.org/project/binarytree/) es una librería de Python que permite generar, visualizar, inspeccionar y manipular árboles binarios."
      ],
      "metadata": {
        "id": "OiDlXtQSY5-7"
      }
    },
    {
      "cell_type": "code",
      "source": [
        "!pip install binarytree"
      ],
      "metadata": {
        "colab": {
          "base_uri": "https://localhost:8080/"
        },
        "id": "v34zHupdirRA",
        "outputId": "09bc7fef-0b07-436d-ebaa-4e071d8ce6aa"
      },
      "execution_count": 2,
      "outputs": [
        {
          "output_type": "stream",
          "name": "stdout",
          "text": [
            "Collecting binarytree\n",
            "  Downloading binarytree-6.5.1-py3-none-any.whl (18 kB)\n",
            "Requirement already satisfied: graphviz in /usr/local/lib/python3.10/dist-packages (from binarytree) (0.20.1)\n",
            "Requirement already satisfied: setuptools>=60.8.2 in /usr/local/lib/python3.10/dist-packages (from binarytree) (67.7.2)\n",
            "Collecting setuptools-scm[toml]>=5.0.1 (from binarytree)\n",
            "  Downloading setuptools_scm-7.1.0-py3-none-any.whl (43 kB)\n",
            "\u001b[2K     \u001b[90m━━━━━━━━━━━━━━━━━━━━━━━━━━━━━━━━━━━━━━━━\u001b[0m \u001b[32m43.8/43.8 kB\u001b[0m \u001b[31m1.5 MB/s\u001b[0m eta \u001b[36m0:00:00\u001b[0m\n",
            "\u001b[?25hRequirement already satisfied: packaging>=20.0 in /usr/local/lib/python3.10/dist-packages (from setuptools-scm[toml]>=5.0.1->binarytree) (23.1)\n",
            "Requirement already satisfied: typing-extensions in /usr/local/lib/python3.10/dist-packages (from setuptools-scm[toml]>=5.0.1->binarytree) (4.7.1)\n",
            "Requirement already satisfied: tomli>=1.0.0 in /usr/local/lib/python3.10/dist-packages (from setuptools-scm[toml]>=5.0.1->binarytree) (2.0.1)\n",
            "Installing collected packages: setuptools-scm, binarytree\n",
            "Successfully installed binarytree-6.5.1 setuptools-scm-7.1.0\n"
          ]
        }
      ]
    },
    {
      "cell_type": "markdown",
      "source": [
        "Librería para crear árboles utilizando listas."
      ],
      "metadata": {
        "id": "uzz7I1Rib6TG"
      }
    },
    {
      "cell_type": "code",
      "source": [
        "from binarytree import build"
      ],
      "metadata": {
        "id": "RXYHnPh6ihrp"
      },
      "execution_count": 3,
      "outputs": []
    },
    {
      "cell_type": "markdown",
      "source": [
        "##Ejemplo-1"
      ],
      "metadata": {
        "id": "-0qNEEQ2cxYc"
      }
    },
    {
      "cell_type": "markdown",
      "source": [
        "### Lista de nodos"
      ],
      "metadata": {
        "id": "hSfQCZjncFje"
      }
    },
    {
      "cell_type": "code",
      "source": [
        "# lista de nodos\n",
        "nodos =[\"mult\",\n",
        "        \"resta\", 2,\n",
        "        -5, \"log\", None, None,\n",
        "        None, None, None, 7\n",
        "        ]"
      ],
      "metadata": {
        "id": "Dy__LgSi4D3r"
      },
      "execution_count": 52,
      "outputs": []
    },
    {
      "cell_type": "code",
      "source": [
        "# construcción de árbol\n",
        "arbol = build(nodos)"
      ],
      "metadata": {
        "id": "khxOJeTgcT6S"
      },
      "execution_count": 53,
      "outputs": []
    },
    {
      "cell_type": "markdown",
      "source": [
        "### Impresión de expresión."
      ],
      "metadata": {
        "id": "PDUuNYS2cXX2"
      }
    },
    {
      "cell_type": "code",
      "source": [
        "# Individuo-1\n",
        "print('\\nIndividuo-1:\\n', arbol.values,'\\n\\n')"
      ],
      "metadata": {
        "colab": {
          "base_uri": "https://localhost:8080/"
        },
        "id": "denoUTX_ihoG",
        "outputId": "15bbec6f-d404-4f0d-b512-f17d7de73af6"
      },
      "execution_count": 54,
      "outputs": [
        {
          "output_type": "stream",
          "name": "stdout",
          "text": [
            "\n",
            "Individuo-1:\n",
            " ['mult', 'resta', 2, -5, 'log', None, None, None, None, None, 7] \n",
            "\n",
            "\n"
          ]
        }
      ]
    },
    {
      "cell_type": "markdown",
      "source": [
        "###Impresión de árbol."
      ],
      "metadata": {
        "id": "kV5TQjhSchCy"
      }
    },
    {
      "cell_type": "code",
      "source": [
        "# Individuo-1\n",
        "print('Arbol-1:\\n', arbol)"
      ],
      "metadata": {
        "colab": {
          "base_uri": "https://localhost:8080/"
        },
        "id": "5-os7krU4io8",
        "outputId": "3c881379-e342-4841-e643-781a5b77aec0"
      },
      "execution_count": 55,
      "outputs": [
        {
          "output_type": "stream",
          "name": "stdout",
          "text": [
            "Arbol-1:\n",
            " \n",
            "       ________mult\n",
            "      /            \\\n",
            "  _resta_           2\n",
            " /       \\\n",
            "-5       log\n",
            "            \\\n",
            "             7\n",
            "\n"
          ]
        }
      ]
    },
    {
      "cell_type": "markdown",
      "source": [
        "##Ejemplo-2"
      ],
      "metadata": {
        "id": "Ebk_kwT3c6yh"
      }
    },
    {
      "cell_type": "markdown",
      "source": [
        "### Lista de nodos"
      ],
      "metadata": {
        "id": "sEw1S84Dc6yi"
      }
    },
    {
      "cell_type": "code",
      "source": [
        "# lista de nodos\n",
        "nodos =[\"suma\",\n",
        "        \"mult\",                                  \"resta\",\n",
        "        \"suma\",       \"raiz\",                    \"div\",                                  \"coseno\",\n",
        "        -3, 4,        None,         10,           8,                          \"seno\",    -6,          \"div\",\n",
        "        None, None,   None, None,   None, None,   None, None,   None, None,   None, 20,  None, None,  4, -1\n",
        "        ]"
      ],
      "metadata": {
        "id": "d3u1q-3Kc6yj"
      },
      "execution_count": 56,
      "outputs": []
    },
    {
      "cell_type": "code",
      "source": [
        "# construcción de árbol\n",
        "arbol = build(nodos)"
      ],
      "metadata": {
        "id": "fqLNL_5Tc6yj"
      },
      "execution_count": 57,
      "outputs": []
    },
    {
      "cell_type": "markdown",
      "source": [
        "### Impresión de expresión."
      ],
      "metadata": {
        "id": "gPlRkvL5c6yk"
      }
    },
    {
      "cell_type": "code",
      "source": [
        "# Individuo-2\n",
        "print('\\nIndividuo-2:\\n', arbol.values,'\\n\\n')"
      ],
      "metadata": {
        "colab": {
          "base_uri": "https://localhost:8080/"
        },
        "outputId": "b94a3550-12d9-4146-e933-e16430a92d40",
        "id": "otBJuSWlc6yk"
      },
      "execution_count": 58,
      "outputs": [
        {
          "output_type": "stream",
          "name": "stdout",
          "text": [
            "\n",
            "Individuo-2:\n",
            " ['suma', 'mult', 'resta', 'suma', 'raiz', 'div', 'coseno', -3, 4, None, 10, 8, 'seno', -6, 'div', None, None, None, None, None, None, None, None, None, None, None, 20, None, None, 4, -1] \n",
            "\n",
            "\n"
          ]
        }
      ]
    },
    {
      "cell_type": "markdown",
      "source": [
        "###Impresión de árbol."
      ],
      "metadata": {
        "id": "aHOUlMufc6yl"
      }
    },
    {
      "cell_type": "code",
      "source": [
        "# Individuo-2\n",
        "print('Arbol-2:\\n', arbol)"
      ],
      "metadata": {
        "colab": {
          "base_uri": "https://localhost:8080/"
        },
        "outputId": "d0e33113-c187-4a8e-c75c-6bd4f4937f32",
        "id": "yNGUwKKbc6ym"
      },
      "execution_count": 59,
      "outputs": [
        {
          "output_type": "stream",
          "name": "stdout",
          "text": [
            "Arbol-2:\n",
            " \n",
            "             __________suma________________\n",
            "            /                              \\\n",
            "      ____mult_                  _________resta_____\n",
            "     /         \\                /                   \\\n",
            "  _suma        raiz           div_                _coseno___\n",
            " /     \\           \\         /    \\              /          \\\n",
            "-3      4           10      8     seno          -6          div\n",
            "                                      \\                    /   \\\n",
            "                                       20                 4     -1\n",
            "\n"
          ]
        }
      ]
    }
  ]
}
