{
  "nbformat": 4,
  "nbformat_minor": 0,
  "metadata": {
    "colab": {
      "provenance": []
    },
    "kernelspec": {
      "name": "python3",
      "display_name": "Python 3"
    },
    "language_info": {
      "name": "python"
    }
  },
  "cells": [
    {
      "cell_type": "markdown",
      "source": [
        "#IT0425 - Introducción a la Inteligencia Artificial\n",
        "\n",
        "### Otoño 2023\n",
        "\n",
        "### IT0425_Lab_1-3\n",
        "\n",
        "**Profesor Enrique Naredo García**\n",
        "\n",
        "<font size = 2>\n",
        "©️ Todos los derechos reservados. All rights reserved.\n",
        "\n",
        "*Nota: El presente documento es una herramienta diseñada única y exclusivamente para los estudiantes de la asignatura arriba mencionada. Se recuerda no compartir esta información fuera de los integrantes registrados en este curso. La reproducción total o parcial de este documento requiere autorización por escrito del titular del copyright.*\n",
        "</font>"
      ],
      "metadata": {
        "id": "a2j6gjljnolT"
      }
    },
    {
      "cell_type": "markdown",
      "source": [
        "#Algoritmo de Perceptrón"
      ],
      "metadata": {
        "id": "pOjgWC_cnvnk"
      }
    },
    {
      "cell_type": "markdown",
      "source": [
        "El Perceptrón es un algoritmo de clasificación lineal.\n",
        "* Esto significa que aprende un límite de decisión que separa dos clases mediante una línea (llamada hiperplano) en el espacio de características.\n",
        "* Los ejemplos del conjunto de datos de entrenamiento se muestran al modelo uno a la vez, el modelo hace una predicción y se calcula el error.\n",
        "* Luego, los pesos del modelo se actualizan para reducir los errores del ejemplo.\n",
        "* Esto se llama regla de actualización del Perceptrón.\n",
        "* Este proceso se repite para todos los ejemplos del conjunto de datos de entrenamiento, lo que se denomina época.\n",
        "* Este proceso de actualización del modelo mediante ejemplos se repite durante muchas épocas.\n",
        "* El entrenamiento se detiene cuando el error cometido por el modelo cae a un nivel bajo o ya no mejora, o se realiza un número máximo de épocas."
      ],
      "metadata": {
        "id": "EQcjBFUJpGjt"
      }
    },
    {
      "cell_type": "markdown",
      "source": [
        "##Implementación"
      ],
      "metadata": {
        "id": "jhAM-oHpujsO"
      }
    },
    {
      "cell_type": "code",
      "source": [
        "# Genera un problema de clasificación aleatorio de n clases.\n",
        "from sklearn.datasets import make_classification"
      ],
      "metadata": {
        "id": "A-HjMIB4pPmn"
      },
      "execution_count": 38,
      "outputs": []
    },
    {
      "cell_type": "code",
      "source": [
        "# Perceptron: Clasificador líneal\n",
        "from sklearn.linear_model import Perceptron"
      ],
      "metadata": {
        "id": "rk_5pCJrm7e-"
      },
      "execution_count": 39,
      "outputs": []
    },
    {
      "cell_type": "markdown",
      "source": [
        "## Creación de datos"
      ],
      "metadata": {
        "id": "p2erowFgupBi"
      }
    },
    {
      "cell_type": "code",
      "source": [
        "# crea un conjunto de datos de entrenamiento\n",
        "# con 100 muestras, cada una con 10 características\n",
        "X, y = make_classification(n_samples=100, n_features=10, n_informative=10, n_redundant=0, random_state=1)"
      ],
      "metadata": {
        "id": "a3cX2W7znBzX"
      },
      "execution_count": 40,
      "outputs": []
    },
    {
      "cell_type": "code",
      "source": [
        "print(\"Número de muestras: \",len(X),\"\\n\")\n",
        "print(X)"
      ],
      "metadata": {
        "colab": {
          "base_uri": "https://localhost:8080/"
        },
        "id": "JQi_BavQp6tC",
        "outputId": "7e293ec0-53b3-4f52-e715-ac5de15c2b8b"
      },
      "execution_count": 41,
      "outputs": [
        {
          "output_type": "stream",
          "name": "stdout",
          "text": [
            "Número de muestras:  100 \n",
            "\n",
            "[[-6.14894338e-01 -3.23601621e+00  5.77892455e+00 -2.81475968e-01\n",
            "   2.04823813e+00  3.10341491e+00 -3.59926117e+00 -2.85031997e-01\n",
            "  -1.74564519e+00  6.86177196e-01]\n",
            " [-3.84555363e+00  3.11370763e+00  2.57876304e+00  8.97581650e-02\n",
            "   1.36477994e+00  1.83378199e+00 -5.48552404e-01  1.11728135e+00\n",
            "  -2.74190846e-01 -1.13014594e+00]\n",
            " [-7.69123905e-02  8.15201771e-01 -2.11697432e+00  2.84869872e+00\n",
            "   2.51488901e-01  1.35888384e-01 -4.12664913e+00 -4.99454369e-01\n",
            "  -1.32216992e+00  6.63697607e-01]\n",
            " [ 4.59146689e-02  1.91118657e+00 -1.12530375e+00 -1.38998023e+00\n",
            "  -6.22427554e-01 -1.62879930e-01 -5.79437900e-02  3.04351452e-01\n",
            "  -1.76583649e+00 -1.63360999e+00]\n",
            " [-2.93989808e+00  2.41757804e-01  2.03066486e+00  2.82711060e-01\n",
            "   2.12448367e+00  1.54538855e+00 -3.34604362e-01 -4.36000045e+00\n",
            "  -4.62388702e+00 -8.10171365e-01]\n",
            " [-4.96137637e-01  3.12889103e-01  1.33795253e+00 -2.09309357e+00\n",
            "   4.65560737e-01 -1.57644928e+00 -7.61841780e-01 -7.90381960e-01\n",
            "   2.12100694e-01  6.38382653e-01]\n",
            " [-1.31578040e+00 -1.29728480e+00 -3.68481294e+00 -6.18018254e+00\n",
            "  -2.47870736e+00  2.58331442e+00  4.41903742e-01 -9.36816781e-01\n",
            "   5.35952424e-01 -1.42366794e+00]\n",
            " [ 3.26152207e-01  9.36634011e-01  1.86374537e-01  1.66728036e+00\n",
            "   9.45364125e-01  1.68464166e+00  1.22910922e+00 -1.91144119e+00\n",
            "  -3.42574560e+00  5.58208118e-01]\n",
            " [ 3.10516190e-02 -3.61035695e-01  3.08538894e-01  6.01939992e-01\n",
            "   4.92908829e-03 -5.30888013e-01 -6.70225147e-01 -1.72091569e-03\n",
            "  -1.85544394e-01 -1.43582563e+00]\n",
            " [-1.23918869e+00 -5.03522482e-01  2.08644079e+00  2.71674066e+00\n",
            "   1.35119723e+00 -1.52488515e-01  4.06300215e+00 -4.84656392e-01\n",
            "   2.67141300e+00 -2.20606549e+00]\n",
            " [ 1.78106493e+00 -1.71468369e+00 -2.66123464e+00 -2.56848724e-03\n",
            "  -1.38783848e+00  1.27463384e+00  7.46006238e-01 -5.49207450e+00\n",
            "   1.14803139e+00  1.91982338e+00]\n",
            " [ 1.43680817e+00  3.45210056e+00  5.67234662e-01 -8.76954448e-01\n",
            "  -8.16286579e-01 -2.02983187e-02 -1.90516869e+00  2.93086361e+00\n",
            "  -1.18639184e+00 -8.88660047e-01]\n",
            " [-1.95335341e-01 -1.13826783e-02 -1.17008117e-01 -8.23965570e-02\n",
            "   1.18960865e+00  1.13421187e+00 -1.56102497e+00 -1.39058191e+00\n",
            "  -2.23634122e+00  1.26559325e+00]\n",
            " [ 2.57550913e+00 -3.51282543e+00  1.96727875e+00 -2.32425498e+00\n",
            "  -1.46855266e+00 -2.69987223e-01  2.40323769e-01  1.65194153e+00\n",
            "   2.78674503e+00  3.65252934e-02]\n",
            " [-2.45260643e+00 -2.55125928e+00  1.38342555e+00 -2.61665116e+00\n",
            "  -1.21244900e+00 -9.01377444e-01 -3.47925865e-01  1.52714705e+00\n",
            "   3.11056596e+00 -5.18539201e+00]\n",
            " [-1.91869197e+00  3.39716591e+00  1.48655190e+00  5.97532844e-01\n",
            "   1.32530433e+00  1.00420712e+00 -1.10776076e+00 -2.35191532e+00\n",
            "   6.57740887e-01 -7.63172845e-01]\n",
            " [ 3.86706351e-01  6.92051021e-01  2.58445638e+00  1.27756325e+00\n",
            "   5.39257170e-01  3.18048575e+00 -1.18952795e+00  8.64570219e-01\n",
            "  -1.34968733e+00  2.63204783e-01]\n",
            " [-6.46398659e-01 -2.79896697e+00 -3.88581883e-01 -2.97586811e+00\n",
            "  -1.42974227e+00  2.51513922e+00 -1.47065508e+00 -4.80001464e+00\n",
            "  -8.39225115e-01  4.72546752e+00]\n",
            " [-1.94676076e-01 -1.05480819e+00  2.66291859e+00  1.48121712e+00\n",
            "   4.08555011e+00  3.18949066e-01 -3.79571347e+00  7.97498937e-01\n",
            "  -2.42302203e+00 -4.74918720e-01]\n",
            " [ 5.77683286e-03 -7.73072806e-01 -7.02828079e-01 -3.45713570e-01\n",
            "  -2.99713552e-01  1.69754586e+00 -4.28203016e+00 -1.17288686e+00\n",
            "   2.20522577e-01 -1.58637310e-01]\n",
            " [-5.33730752e-01  8.94735814e-01 -4.47391734e+00 -4.26233793e+00\n",
            "  -1.36968365e+00  2.97386407e+00  3.57219914e+00 -2.54428307e-01\n",
            "   1.43892088e+00  8.21601967e-01]\n",
            " [-9.35925239e-01 -1.00678803e-01  3.82643131e+00 -1.60483902e+00\n",
            "   1.85274469e+00  3.79361487e+00 -5.47506512e+00 -2.21545090e+00\n",
            "  -2.70906455e+00 -5.50339049e+00]\n",
            " [ 2.31491743e+00  2.53089381e+00  9.43349956e-01 -1.55281250e+00\n",
            "   1.12478704e+00  7.43498352e-01 -2.16590066e+00  2.46504491e+00\n",
            "  -1.49308346e+00 -1.89958590e+00]\n",
            " [ 3.52813789e-01 -2.91775716e+00 -1.78735711e+00 -2.68785504e+00\n",
            "  -3.74880159e+00 -5.71975733e-01 -8.53995477e-01 -3.93412975e+00\n",
            "   1.17619781e+00 -9.09574779e-01]\n",
            " [-1.41011450e+00 -1.85937587e+00 -2.23676825e+00 -1.02252952e-01\n",
            "   1.45481757e+00  3.00266421e+00 -1.26763554e+00 -2.00569307e+00\n",
            "  -2.19368969e-01 -1.75441492e+00]\n",
            " [-2.15240860e+00  3.52683433e-01  3.74568429e+00  9.67971423e-01\n",
            "  -1.58725692e+00 -1.44577097e+00 -3.93022440e-01 -4.42133705e+00\n",
            "   1.84609158e+00 -1.26497111e+00]\n",
            " [ 4.01920454e+00 -1.18398841e+00  1.04115493e+00  3.18254473e+00\n",
            "   1.20996304e-01  6.75016806e-01  1.20480921e+00  5.01304160e-02\n",
            "   1.88848048e+00  4.52533880e+00]\n",
            " [-9.12117202e-01  3.59614625e+00  2.24683458e+00 -1.65196700e+00\n",
            "  -9.30164446e-01 -2.39078612e+00  8.50655980e-01 -1.63897242e+00\n",
            "   1.39251266e+00 -9.44337487e-01]\n",
            " [-2.88488808e+00  3.86615734e+00 -6.67894084e-01  8.71862599e-01\n",
            "   6.75318733e-01 -7.87405787e-01  5.82482384e-01 -2.29516129e+00\n",
            "  -1.51065319e+00 -1.09078724e+00]\n",
            " [ 3.67826074e+00  8.08494390e-02  1.44306575e+00  1.18182496e-01\n",
            "   2.43419037e+00 -9.83661449e-01 -7.50545983e-02  3.49367701e+00\n",
            "  -1.06807615e+00  3.97104649e+00]\n",
            " [-1.22470832e+00  1.88706020e+00  3.58472584e+00  1.24325526e+00\n",
            "  -9.43264561e-01  6.60817936e-01 -2.40286096e+00 -5.28051800e+00\n",
            "  -1.81103678e+00 -1.43375805e+00]\n",
            " [-2.67206896e+00  3.32665064e+00  4.63107174e+00  3.19336781e+00\n",
            "  -1.30007641e+00  1.43031014e+00  3.06127184e-01  4.20408876e+00\n",
            "   5.82994919e-01 -2.72471381e-01]\n",
            " [ 1.92852612e-01  2.02101280e+00 -9.37003981e-01  1.45705469e+00\n",
            "   2.07553113e+00  2.77879456e+00  3.28080519e+00 -2.74266344e+00\n",
            "  -9.34317777e-01  2.57555219e+00]\n",
            " [-1.55094417e+00 -4.33757411e+00 -2.22953733e+00 -7.75633347e-01\n",
            "   1.71095837e+00  2.20069384e+00 -8.00878114e-01 -4.31063242e+00\n",
            "   4.18161574e-01 -4.80985099e+00]\n",
            " [-5.24611430e-01  8.61752265e-01 -9.25720360e-01 -1.47067373e+00\n",
            "   1.40659770e+00  1.50816816e+00 -3.02963913e-01  9.01381471e-01\n",
            "  -1.84847131e+00 -1.10884561e+00]\n",
            " [-4.48043959e+00 -4.69773903e+00 -4.62528713e+00 -1.34606334e+00\n",
            "   3.12526058e+00  4.57839892e+00  7.08484593e-01 -4.28985222e+00\n",
            "  -1.50267306e+00 -2.94794611e+00]\n",
            " [ 2.32326202e-01 -1.21103724e-01 -5.60389565e-01 -3.11216166e+00\n",
            "   3.85898985e+00  1.84176896e+00 -2.47003375e-01  6.63925266e-01\n",
            "  -1.96947180e+00 -2.59809269e+00]\n",
            " [-2.13980268e+00 -4.20264896e+00  1.27498676e+00 -1.28971107e+00\n",
            "   8.53499754e-01 -4.40706742e-01 -1.47860420e+00 -4.34577525e+00\n",
            "  -5.68703170e-01 -1.94789616e+00]\n",
            " [-2.58733001e+00  2.92982264e-01 -5.33227088e-01 -2.52987526e+00\n",
            "  -8.66690565e-01 -1.42029400e+00 -2.33284850e+00  3.85021030e-01\n",
            "  -6.72588098e-01  1.76401192e+00]\n",
            " [-4.01157441e+00 -1.07165863e+00  2.32153169e+00 -6.49324930e-02\n",
            "  -8.32360500e-01 -5.01575223e+00  1.50853497e+00 -3.58671325e+00\n",
            "   2.19803259e+00  8.93605365e-01]\n",
            " [-2.26575446e+00  1.59896358e+00  1.91344006e-02  1.59522154e-01\n",
            "   3.44818795e+00  1.11226652e+00  3.23751722e+00 -2.26095573e+00\n",
            "  -4.83922512e+00  2.74211186e+00]\n",
            " [ 3.79316369e-01 -1.66120142e-01 -3.09303537e+00  1.38407911e-01\n",
            "   1.44177456e+00  1.39644486e+00  2.88566774e+00 -1.62173545e-01\n",
            "   1.19526264e+00  3.71756003e+00]\n",
            " [-2.99306516e+00  2.90830834e+00  7.99326119e-01 -1.34721873e+00\n",
            "  -4.44963320e+00  3.91732286e-01 -2.76210853e+00 -2.73780005e+00\n",
            "   5.45247436e-01 -8.72561178e-01]\n",
            " [-1.27507922e+00 -2.03217857e+00 -3.72851642e-01 -2.73298978e+00\n",
            "   2.99865281e-01  9.81373649e-01 -4.95265600e-01 -2.42288003e+00\n",
            "  -2.33511278e+00  2.17212849e-01]\n",
            " [-1.27105324e+00 -1.87828851e+00  7.59374471e-01 -2.26732496e+00\n",
            "   2.42714506e+00  1.09422554e+00 -3.50744803e+00 -3.81847052e-01\n",
            "   6.95185367e-01  3.34632489e+00]\n",
            " [-3.14399920e+00 -4.12353060e+00 -4.04267669e+00 -1.75968220e+00\n",
            "   2.20805973e+00  5.68708094e+00 -3.70449346e+00 -4.32726693e+00\n",
            "  -6.60767710e-01 -9.58326877e-01]\n",
            " [-3.19526830e-01 -8.43251916e-01 -1.77814899e+00 -2.80072403e+00\n",
            "  -5.44852475e-01 -8.29895047e-01  4.48043181e-01  3.96087325e+00\n",
            "   1.17768533e+00 -2.29820218e-01]\n",
            " [ 1.32103899e-01 -1.39329310e+00 -3.70182270e+00 -3.53075531e+00\n",
            "  -2.19731444e+00  1.52497160e+00  1.48247427e+00 -1.77233039e-01\n",
            "   2.30962872e+00 -4.02416447e-02]\n",
            " [-1.58924286e+00 -2.50258140e+00  9.65139326e-01  8.54233997e-01\n",
            "  -1.17500639e+00  1.16058572e-02 -5.29300301e+00 -4.76878303e-01\n",
            "  -1.56827147e+00  1.29631773e-01]\n",
            " [ 1.27419734e-01  1.35786391e+00  7.60365424e-01  5.39839788e-01\n",
            "   2.36545146e-01  1.47049244e+00  4.31354990e-01 -2.06027319e+00\n",
            "   2.76536584e-01  1.33701899e+00]\n",
            " [-2.26867008e-01  3.68177478e+00  3.07633471e-01 -1.86527796e+00\n",
            "  -2.61318573e+00 -6.90140419e-01 -9.68224686e-02  9.48221355e-01\n",
            "   3.73907089e+00 -2.23318748e+00]\n",
            " [-1.23222620e+00  2.15545643e-01  7.19608723e-01 -6.68232526e-01\n",
            "  -9.07707766e-01  2.57028143e-01 -8.13594616e-01 -1.50398633e+00\n",
            "   1.38819289e+00 -1.19077295e+00]\n",
            " [ 4.08232629e-01 -7.47591578e-01 -1.84148399e-01  1.19067749e+00\n",
            "   1.64700339e-01  5.48226202e-01 -1.59525046e+00  4.35770769e-01\n",
            "   3.56163813e-02 -2.80497306e+00]\n",
            " [ 2.86917998e-01 -3.20160911e-01 -1.51367403e+00 -3.03917986e+00\n",
            "  -1.69270401e-01  1.38228893e+00  1.74064910e+00 -2.62997977e+00\n",
            "  -8.26788031e-01  1.65062568e+00]\n",
            " [-1.15042273e+00 -1.70502945e+00  1.33201026e+00 -7.14363841e-01\n",
            "  -1.69363842e-01 -2.85249131e+00 -6.50314956e-01 -2.84942451e+00\n",
            "   8.49195612e-01 -1.11742175e+00]\n",
            " [ 9.95423920e-01  2.04950030e+00  5.80354878e-01 -3.34526806e+00\n",
            "   2.29593540e+00  7.99480838e-01 -1.32840862e+00  1.84049193e+00\n",
            "  -1.66308025e+00  5.09056328e-01]\n",
            " [-2.99164375e-01 -7.15035374e-01  6.49066106e-01 -1.83383070e+00\n",
            "  -2.92812307e-01 -2.36119348e+00 -1.68781029e+00 -1.29007733e+00\n",
            "   5.82693024e-01 -7.89987361e-01]\n",
            " [ 4.41103049e+00 -5.18087778e+00 -4.35999904e+00 -1.89770105e+00\n",
            "   2.47413863e+00  2.77909094e+00  3.25807865e-01 -4.62869379e+00\n",
            "   1.43438855e-01  6.73582524e+00]\n",
            " [-1.22529772e+00 -1.48838271e+00 -3.74450392e+00 -3.83563329e+00\n",
            "  -1.44646892e+00  7.61736172e-01  7.55356204e-01 -1.80911338e-01\n",
            "   5.78923235e-01 -2.13881138e-01]\n",
            " [-2.19079584e+00  1.38940745e+00 -3.37526061e-01 -3.34410213e+00\n",
            "  -2.52893872e+00 -3.89535163e+00 -2.87782750e+00 -1.31480821e+00\n",
            "   3.56346414e-01 -2.14457309e-01]\n",
            " [-1.90230706e+00 -6.15537475e-01  1.57967904e-01 -1.90570686e+00\n",
            "  -1.71250556e+00 -1.43446588e+00 -2.39474256e+00 -4.78038996e-01\n",
            "   2.04965237e+00  3.96539609e-01]\n",
            " [-2.46364946e+00  2.38291165e+00 -9.22083235e-01 -6.04121962e-01\n",
            "  -2.79383483e+00 -4.45476952e-01  4.46882614e-01  8.48809631e-02\n",
            "   2.28326687e+00 -2.29631741e+00]\n",
            " [-4.46923679e+00 -2.59940277e+00 -4.86348749e+00 -1.57346788e+00\n",
            "  -4.27573524e-01  2.44973405e+00  1.27997556e+00 -5.59863700e+00\n",
            "  -2.06071056e+00 -1.46562571e+00]\n",
            " [-6.13303820e-01 -1.94519063e+00 -3.93128087e+00 -1.73120511e+00\n",
            "  -6.45248400e-02  1.47469624e+00  1.60429284e+00 -5.38433129e-01\n",
            "   1.04605676e+00  2.40483888e+00]\n",
            " [-3.91362523e+00 -4.25893740e-01 -4.50963684e+00 -2.81711611e+00\n",
            "   7.53138978e-01  7.27553968e-01  1.97371514e+00 -2.81315162e+00\n",
            "  -5.87239040e+00  2.04793507e-01]\n",
            " [ 2.37769187e+00 -1.27525835e+00  1.78499415e+00 -1.91753584e+00\n",
            "   3.67420564e+00  2.52091748e+00 -4.28660515e+00  3.01243686e-01\n",
            "  -6.81408985e-01 -8.95658592e-01]\n",
            " [-1.15158913e+00 -1.13044210e+00 -1.70658142e+00 -9.26164017e-01\n",
            "  -2.41326775e+00  2.27244574e-01  9.95677650e-01 -1.02866657e+00\n",
            "   1.16833750e+00 -8.90733382e-01]\n",
            " [ 1.23444866e+00  5.47246910e+00  6.99553426e-01  5.53833220e+00\n",
            "  -1.99400477e+00  1.53260906e-01 -1.75909901e+00  2.21673292e+00\n",
            "   3.37327022e+00  5.25841964e-01]\n",
            " [ 1.40757331e+00  2.00563114e+00  4.76670012e+00  2.42191385e+00\n",
            "   6.85882918e+00  1.69458642e+00  2.07390179e+00  1.43990104e-01\n",
            "  -4.29475813e+00  1.95662801e+00]\n",
            " [ 1.75867089e+00 -2.95505304e+00 -1.47947198e+00 -2.56695548e+00\n",
            "  -4.72120048e+00 -2.33743571e+00 -2.10024451e+00 -2.12826012e+00\n",
            "   1.26505163e+00 -1.01495285e+00]\n",
            " [-2.08416994e+00  4.82683621e+00  5.82015477e-01  2.61775948e+00\n",
            "   1.22941840e+00 -1.35523899e+00  2.36765696e+00  4.21120962e-01\n",
            "   1.58111482e+00  1.67792684e+00]\n",
            " [ 2.97204787e-01 -3.56788440e+00 -3.40418380e+00  2.73223052e-01\n",
            "   1.46530668e+00  9.56626602e-01  1.34516786e+00 -2.03674567e+00\n",
            "   7.34871510e-01  3.68067262e+00]\n",
            " [ 8.81072526e-01 -1.83842171e+00  1.50241528e+00 -2.15381967e+00\n",
            "   3.44523632e+00 -2.10173661e-01 -1.11910223e+00  5.80447779e-02\n",
            "   3.63802239e-01 -1.62884378e+00]\n",
            " [-2.27339149e+00  2.22915025e+00  3.72134037e+00  1.34800233e+00\n",
            "  -1.14667661e+00 -3.24084989e+00  3.31338114e+00 -4.12826127e+00\n",
            "   2.52097495e+00 -1.90997666e+00]\n",
            " [-4.98153583e-01 -1.48460025e+00  2.58828351e+00 -6.86539359e-01\n",
            "   1.32330219e+00  2.76591281e+00 -8.80255483e-01 -1.47075030e+00\n",
            "  -2.78377208e+00  1.64180899e+00]\n",
            " [-1.79400925e+00 -6.51151194e-02  2.51695012e+00 -8.41905030e-01\n",
            "  -1.14044050e+00  1.16853246e-01 -2.27073912e+00 -9.50935061e-01\n",
            "   9.46441639e-01  7.53604119e-01]\n",
            " [-2.75393158e+00  2.08922186e+00  8.40845854e-01 -4.86141293e+00\n",
            "  -2.74018954e+00 -3.47682835e+00 -5.19630459e+00 -1.33936326e+00\n",
            "  -8.05901882e-01  2.30176305e+00]\n",
            " [-2.12666871e+00  8.32406604e-01  9.94885670e-01 -9.33910728e-01\n",
            "  -2.61210832e+00 -2.07679295e+00 -1.08205896e+00 -3.17572436e+00\n",
            "   1.53142811e+00 -1.66405511e+00]\n",
            " [-3.05452256e+00 -8.70406981e-01  1.39919543e+00 -1.24247174e+00\n",
            "  -5.93572174e-01 -3.41542646e+00 -1.67951970e+00 -2.18074663e+00\n",
            "  -5.38104465e-01  1.30201612e+00]\n",
            " [ 1.38195048e+00 -5.61413442e+00  2.58815902e+00 -3.00509925e-01\n",
            "  -5.06328295e-01 -2.19477704e+00 -1.69293778e+00 -2.95591201e+00\n",
            "   7.81347882e-01  8.12285391e-01]\n",
            " [-1.73560940e+00  6.74600283e+00  1.29698205e+00 -3.65435873e+00\n",
            "  -2.94141105e+00 -2.26614700e+00 -3.59728295e-01 -1.05000151e+00\n",
            "   1.39452195e+00  3.46680910e-01]\n",
            " [-2.07672479e+00  3.43379481e+00 -2.27678337e+00  2.76631503e+00\n",
            "  -1.95480365e+00 -3.49416257e-01  4.52539038e-01 -1.99860758e+00\n",
            "  -5.78051129e-01  3.66008655e-01]\n",
            " [ 3.10881868e+00  1.97505269e-01 -7.87870425e-01  1.88068961e+00\n",
            "   1.53644824e+00  2.86695900e+00  1.52658145e+00 -2.82582133e+00\n",
            "   2.70483292e-01  3.35530043e+00]\n",
            " [-1.50547268e+00  8.61866347e-02 -2.93726690e+00 -1.07718076e+00\n",
            "  -1.49511554e-01  4.20853927e+00 -2.97676728e+00 -1.81218190e+00\n",
            "  -7.02205551e-01 -3.16253802e-01]\n",
            " [ 1.01099984e+00 -2.96227959e+00 -2.26209264e+00  5.47528649e-01\n",
            "  -5.28541139e-01  2.74938382e+00  4.47756000e+00 -2.68089590e+00\n",
            "   2.25013493e+00  7.35572111e+00]\n",
            " [ 8.21479732e-01 -3.33938045e+00 -7.61762076e-01 -2.39464008e+00\n",
            "  -2.16428810e+00 -8.02191236e-03 -3.78729431e-01 -2.38001581e+00\n",
            "   1.66806462e+00 -5.95300674e-01]\n",
            " [-1.22446723e+00  1.59634644e+00  3.25430734e+00  4.47977239e-01\n",
            "  -3.88571277e-01 -8.24803407e-01  1.50437208e+00 -8.19600528e-01\n",
            "   4.11593233e+00 -3.07912742e-01]\n",
            " [-1.39248852e+00 -1.30867335e+00 -1.74481480e+00 -7.34020787e-01\n",
            "   1.33761329e+00  1.21922979e+00 -1.61609483e-01 -1.56998186e+00\n",
            "  -1.07451105e+00 -9.31449016e-01]\n",
            " [-1.93129854e+00 -2.15729793e+00 -1.75879505e+00 -1.99261197e+00\n",
            "   2.34610992e+00  1.53381415e+00 -1.78057157e+00 -1.51527628e+00\n",
            "  -2.15887115e+00  3.89437402e-02]\n",
            " [-6.07505854e-01  1.37496837e+00  9.59757569e-01  5.30519946e-01\n",
            "  -3.61292717e+00 -1.37382366e+00 -2.01633948e-01 -2.16306403e+00\n",
            "   8.65861388e-01 -2.72142210e+00]\n",
            " [-2.21088730e+00  8.16493740e-01  2.45037959e+00  2.16711342e+00\n",
            "  -8.28452810e-02  2.22766390e-01  2.67904089e+00 -1.59806576e+00\n",
            "   8.94926931e-01 -1.44687772e+00]\n",
            " [-1.60104495e+00 -1.76846682e-01 -2.73143644e+00  6.24876400e-02\n",
            "  -5.76328922e-02  1.86962029e+00 -2.40101407e-01 -6.72378274e-01\n",
            "  -1.94524469e+00 -2.71668442e+00]\n",
            " [ 3.60939891e-01 -6.55189440e-02 -1.55840892e+00 -1.20763824e+00\n",
            "   1.31510197e+00  1.86863947e+00 -1.26121239e+00 -5.32617051e-01\n",
            "  -1.36259648e+00 -2.86112507e+00]\n",
            " [ 2.18111345e-01  9.67322313e-01 -1.50692259e+00  2.17936757e+00\n",
            "   3.31902334e-01  1.00806466e+00 -9.42128323e-01 -2.87873177e+00\n",
            "  -1.42732451e+00  3.62585220e-01]\n",
            " [-2.46210710e-01  2.09603619e+00  3.53273534e+00  1.65018135e+00\n",
            "   2.66397714e-01  1.05079540e+00  1.91825562e+00 -9.42036215e-01\n",
            "   2.07884300e+00 -2.03047167e+00]\n",
            " [-2.06789136e+00  6.61390542e-01  6.71942113e-01 -7.29331810e-01\n",
            "  -4.86945145e-01 -1.91428010e+00  2.83428880e-01 -3.51225597e-01\n",
            "   2.03090944e+00  1.44801439e-02]\n",
            " [-4.64417009e-01  1.50471242e+00 -5.80880634e-01  3.64189541e-01\n",
            "   3.82462535e-01  1.20569175e+00  1.44151019e+00 -7.43289415e-01\n",
            "  -7.43302497e-01  3.84390236e+00]\n",
            " [-1.68544754e+00  8.18822670e-03 -1.45624228e+00  4.28096947e-01\n",
            "  -1.44775422e+00  1.26424488e+00 -1.14675232e+00 -6.14950980e-01\n",
            "  -1.69432037e+00  2.16583745e+00]\n",
            " [ 7.80473431e-01 -8.22384271e-01  1.51648825e+00  1.83678440e+00\n",
            "  -1.16154966e+00 -1.08831194e+00 -2.44123796e+00  2.49694568e-01\n",
            "   7.08972503e-01 -1.97369343e+00]\n",
            " [-1.02962092e+00 -2.81733233e-02 -1.31865565e+00 -2.93128143e+00\n",
            "   1.42606731e+00 -9.76669883e-01  1.60522424e+00 -1.33824143e+00\n",
            "  -1.53922021e+00 -4.77403749e-01]]\n"
          ]
        }
      ]
    },
    {
      "cell_type": "code",
      "source": [
        "print(y)\n",
        "print(\"\\nNúmero de muestras clasificadas: \",len(y))\n",
        "print(\"Número de muestras clase-1: \",sum(y))\n",
        "print(\"Número de muestras clase-0: \",len(y)-sum(y))"
      ],
      "metadata": {
        "colab": {
          "base_uri": "https://localhost:8080/"
        },
        "id": "EvQ9Hdqnp9Kf",
        "outputId": "53a8af9b-473f-4fa6-ff78-6e63d5510b7d"
      },
      "execution_count": 42,
      "outputs": [
        {
          "output_type": "stream",
          "name": "stdout",
          "text": [
            "[1 1 1 1 1 0 0 1 1 0 0 1 1 0 0 1 1 1 1 1 0 1 1 0 1 0 0 0 1 0 0 1 0 1 1 1 1\n",
            " 0 0 0 1 0 0 1 1 1 0 0 1 1 0 0 1 0 0 1 0 0 0 0 0 0 1 0 1 1 0 1 1 0 1 0 1 0\n",
            " 1 0 0 0 0 0 0 1 0 1 0 0 0 1 1 0 0 1 1 1 0 0 1 1 1 1]\n",
            "\n",
            "Número de muestras clasificadas:  100\n",
            "Número de muestras clase-1:  50\n",
            "Número de muestras clase-0:  50\n"
          ]
        }
      ]
    },
    {
      "cell_type": "markdown",
      "source": [
        "## Perceptrón"
      ],
      "metadata": {
        "id": "fWOGcpKPuu-F"
      }
    },
    {
      "cell_type": "code",
      "source": [
        "# define el modelo\n",
        "modelo = Perceptron()\n",
        "print(modelo)"
      ],
      "metadata": {
        "colab": {
          "base_uri": "https://localhost:8080/"
        },
        "id": "v6UbTJlCnELc",
        "outputId": "0cd5de1b-44f1-4f19-fc8d-900eb2223fd2"
      },
      "execution_count": 43,
      "outputs": [
        {
          "output_type": "stream",
          "name": "stdout",
          "text": [
            "Perceptron()\n"
          ]
        }
      ]
    },
    {
      "cell_type": "code",
      "source": [
        "# ajusta el modelo\n",
        "modelo.fit(X, y)"
      ],
      "metadata": {
        "colab": {
          "base_uri": "https://localhost:8080/",
          "height": 75
        },
        "id": "OLmWagOSnFYx",
        "outputId": "8d2478b7-192e-473a-954f-884130b74db0"
      },
      "execution_count": 44,
      "outputs": [
        {
          "output_type": "execute_result",
          "data": {
            "text/plain": [
              "Perceptron()"
            ],
            "text/html": [
              "<style>#sk-container-id-3 {color: black;background-color: white;}#sk-container-id-3 pre{padding: 0;}#sk-container-id-3 div.sk-toggleable {background-color: white;}#sk-container-id-3 label.sk-toggleable__label {cursor: pointer;display: block;width: 100%;margin-bottom: 0;padding: 0.3em;box-sizing: border-box;text-align: center;}#sk-container-id-3 label.sk-toggleable__label-arrow:before {content: \"▸\";float: left;margin-right: 0.25em;color: #696969;}#sk-container-id-3 label.sk-toggleable__label-arrow:hover:before {color: black;}#sk-container-id-3 div.sk-estimator:hover label.sk-toggleable__label-arrow:before {color: black;}#sk-container-id-3 div.sk-toggleable__content {max-height: 0;max-width: 0;overflow: hidden;text-align: left;background-color: #f0f8ff;}#sk-container-id-3 div.sk-toggleable__content pre {margin: 0.2em;color: black;border-radius: 0.25em;background-color: #f0f8ff;}#sk-container-id-3 input.sk-toggleable__control:checked~div.sk-toggleable__content {max-height: 200px;max-width: 100%;overflow: auto;}#sk-container-id-3 input.sk-toggleable__control:checked~label.sk-toggleable__label-arrow:before {content: \"▾\";}#sk-container-id-3 div.sk-estimator input.sk-toggleable__control:checked~label.sk-toggleable__label {background-color: #d4ebff;}#sk-container-id-3 div.sk-label input.sk-toggleable__control:checked~label.sk-toggleable__label {background-color: #d4ebff;}#sk-container-id-3 input.sk-hidden--visually {border: 0;clip: rect(1px 1px 1px 1px);clip: rect(1px, 1px, 1px, 1px);height: 1px;margin: -1px;overflow: hidden;padding: 0;position: absolute;width: 1px;}#sk-container-id-3 div.sk-estimator {font-family: monospace;background-color: #f0f8ff;border: 1px dotted black;border-radius: 0.25em;box-sizing: border-box;margin-bottom: 0.5em;}#sk-container-id-3 div.sk-estimator:hover {background-color: #d4ebff;}#sk-container-id-3 div.sk-parallel-item::after {content: \"\";width: 100%;border-bottom: 1px solid gray;flex-grow: 1;}#sk-container-id-3 div.sk-label:hover label.sk-toggleable__label {background-color: #d4ebff;}#sk-container-id-3 div.sk-serial::before {content: \"\";position: absolute;border-left: 1px solid gray;box-sizing: border-box;top: 0;bottom: 0;left: 50%;z-index: 0;}#sk-container-id-3 div.sk-serial {display: flex;flex-direction: column;align-items: center;background-color: white;padding-right: 0.2em;padding-left: 0.2em;position: relative;}#sk-container-id-3 div.sk-item {position: relative;z-index: 1;}#sk-container-id-3 div.sk-parallel {display: flex;align-items: stretch;justify-content: center;background-color: white;position: relative;}#sk-container-id-3 div.sk-item::before, #sk-container-id-3 div.sk-parallel-item::before {content: \"\";position: absolute;border-left: 1px solid gray;box-sizing: border-box;top: 0;bottom: 0;left: 50%;z-index: -1;}#sk-container-id-3 div.sk-parallel-item {display: flex;flex-direction: column;z-index: 1;position: relative;background-color: white;}#sk-container-id-3 div.sk-parallel-item:first-child::after {align-self: flex-end;width: 50%;}#sk-container-id-3 div.sk-parallel-item:last-child::after {align-self: flex-start;width: 50%;}#sk-container-id-3 div.sk-parallel-item:only-child::after {width: 0;}#sk-container-id-3 div.sk-dashed-wrapped {border: 1px dashed gray;margin: 0 0.4em 0.5em 0.4em;box-sizing: border-box;padding-bottom: 0.4em;background-color: white;}#sk-container-id-3 div.sk-label label {font-family: monospace;font-weight: bold;display: inline-block;line-height: 1.2em;}#sk-container-id-3 div.sk-label-container {text-align: center;}#sk-container-id-3 div.sk-container {/* jupyter's `normalize.less` sets `[hidden] { display: none; }` but bootstrap.min.css set `[hidden] { display: none !important; }` so we also need the `!important` here to be able to override the default hidden behavior on the sphinx rendered scikit-learn.org. See: https://github.com/scikit-learn/scikit-learn/issues/21755 */display: inline-block !important;position: relative;}#sk-container-id-3 div.sk-text-repr-fallback {display: none;}</style><div id=\"sk-container-id-3\" class=\"sk-top-container\"><div class=\"sk-text-repr-fallback\"><pre>Perceptron()</pre><b>In a Jupyter environment, please rerun this cell to show the HTML representation or trust the notebook. <br />On GitHub, the HTML representation is unable to render, please try loading this page with nbviewer.org.</b></div><div class=\"sk-container\" hidden><div class=\"sk-item\"><div class=\"sk-estimator sk-toggleable\"><input class=\"sk-toggleable__control sk-hidden--visually\" id=\"sk-estimator-id-3\" type=\"checkbox\" checked><label for=\"sk-estimator-id-3\" class=\"sk-toggleable__label sk-toggleable__label-arrow\">Perceptron</label><div class=\"sk-toggleable__content\"><pre>Perceptron()</pre></div></div></div></div></div>"
            ]
          },
          "metadata": {},
          "execution_count": 44
        }
      ]
    },
    {
      "cell_type": "markdown",
      "source": [
        "##Prueba"
      ],
      "metadata": {
        "id": "RJ85saWRuy4i"
      }
    },
    {
      "cell_type": "code",
      "source": [
        "# crea un conjunto de datos de prueba\n",
        "prueba = [0.12777556,-3.64400522,-2.23268854,-1.82114386,1.75466361,0.1243966,1.03397657,2.35822076,1.01001752,0.56768485]\n",
        "print(prueba)"
      ],
      "metadata": {
        "colab": {
          "base_uri": "https://localhost:8080/"
        },
        "id": "nIUqIzc8nHwU",
        "outputId": "e2604153-0db8-42ad-c1c8-b5692e3ca9c4"
      },
      "execution_count": 45,
      "outputs": [
        {
          "output_type": "stream",
          "name": "stdout",
          "text": [
            "[0.12777556, -3.64400522, -2.23268854, -1.82114386, 1.75466361, 0.1243966, 1.03397657, 2.35822076, 1.01001752, 0.56768485]\n"
          ]
        }
      ]
    },
    {
      "cell_type": "markdown",
      "source": [
        "El algoritmo Perceptrón es un algoritmo de aprendizaje automático de clasificación de dos clases (binario).\n",
        "\n",
        "* Es un tipo de modelo de red neuronal, quizás el tipo más simple de modelo de red neuronal.\n",
        "* Consiste en un único nodo o neurona que toma una fila de datos como entrada y predice una etiqueta de clase.\n",
        "* Esto se logra calculando la suma ponderada de las entradas y un sesgo (establecido en 1).\n",
        "* La suma ponderada de las entradas del modelo se llama activación.\n",
        "* Activación = Pesos * Entradas + Sesgo\n",
        "* Si la activación es superior a 0,0, el modelo generará 1,0; de lo contrario, generará 0.0.\n",
        "  * Predicción 1: si activación > 0.0\n",
        "  * Predicción 0: si activación <= 0.0"
      ],
      "metadata": {
        "id": "fc0BLOsanjwc"
      }
    },
    {
      "cell_type": "code",
      "source": [
        "# realiza una predicción\n",
        "y_pred = modelo.predict([prueba])"
      ],
      "metadata": {
        "id": "17_7a-EenI8X"
      },
      "execution_count": 46,
      "outputs": []
    },
    {
      "cell_type": "code",
      "execution_count": 47,
      "metadata": {
        "colab": {
          "base_uri": "https://localhost:8080/"
        },
        "id": "_JGNrZbVm3C6",
        "outputId": "86c2a4fc-d880-4640-8a30-37ae8341c6bb"
      },
      "outputs": [
        {
          "output_type": "stream",
          "name": "stdout",
          "text": [
            "Clase predecida: 0\n"
          ]
        }
      ],
      "source": [
        "# Muestra la predicción\n",
        "print('Clase predecida: %d' % y_pred)"
      ]
    },
    {
      "cell_type": "markdown",
      "source": [
        "## Dividir conjunto de datos\n",
        "El conjunto original de datos se puede dividir en datos de entrenamiento y prueba utilizando: train_test_split de\n",
        "sklearn."
      ],
      "metadata": {
        "id": "9SwpChsOsUL_"
      }
    },
    {
      "cell_type": "code",
      "source": [
        "# divide el conjunto de datos entrenamiento y prueba\n",
        "from sklearn.model_selection import train_test_split\n",
        "# se divide en 70% entrenamiento y 30% de prueba\n",
        "X_train, X_test, y_train, y_test = train_test_split(X, y, test_size=0.3, random_state=7)"
      ],
      "metadata": {
        "id": "jeXhdUgVsVDv"
      },
      "execution_count": 48,
      "outputs": []
    },
    {
      "cell_type": "code",
      "source": [
        "print(\"Entrenamiento: \", len(X_train), \"%\")\n",
        "print(\"Prueba: \",len(X_test), \"%\")"
      ],
      "metadata": {
        "colab": {
          "base_uri": "https://localhost:8080/"
        },
        "id": "C2PE8Bups7uk",
        "outputId": "52daa5ac-1033-4e57-9cd5-95f072b8185c"
      },
      "execution_count": 49,
      "outputs": [
        {
          "output_type": "stream",
          "name": "stdout",
          "text": [
            "Entrenamiento:  70 %\n",
            "Prueba:  30 %\n"
          ]
        }
      ]
    }
  ]
}
