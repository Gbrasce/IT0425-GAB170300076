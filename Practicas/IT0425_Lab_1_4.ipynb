{
  "nbformat": 4,
  "nbformat_minor": 0,
  "metadata": {
    "colab": {
      "provenance": []
    },
    "kernelspec": {
      "name": "python3",
      "display_name": "Python 3"
    },
    "language_info": {
      "name": "python"
    }
  },
  "cells": [
    {
      "cell_type": "markdown",
      "source": [
        "#IT0425 - Introducción a la Inteligencia Artificial\n",
        "\n",
        "### Otoño 2023\n",
        "\n",
        "### IT0425_Lab_1-4\n",
        "\n",
        "**Profesor Enrique Naredo García**\n",
        "\n",
        "<font size = 2>\n",
        "©️ Todos los derechos reservados. All rights reserved.\n",
        "\n",
        "*Nota: El presente documento es una herramienta diseñada única y exclusivamente para los estudiantes de la asignatura arriba mencionada. Se recuerda no compartir esta información fuera de los integrantes registrados en este curso. La reproducción total o parcial de este documento requiere autorización por escrito del titular del copyright.*\n",
        "</font>"
      ],
      "metadata": {
        "id": "mxuUIVhLwPn4"
      }
    },
    {
      "cell_type": "markdown",
      "source": [
        "#Conjunto de datos"
      ],
      "metadata": {
        "id": "u0SXaiLU-pVv"
      }
    },
    {
      "cell_type": "markdown",
      "source": [
        "## Iris"
      ],
      "metadata": {
        "id": "UuxbJl-x-tFl"
      }
    },
    {
      "cell_type": "code",
      "execution_count": 14,
      "metadata": {
        "id": "GDPaIgwWwMeg"
      },
      "outputs": [],
      "source": [
        "from sklearn.datasets import load_iris\n",
        "# conjunto de datos\n",
        "iris = load_iris()"
      ]
    },
    {
      "cell_type": "code",
      "source": [
        "import numpy as np\n",
        "from sklearn.model_selection import train_test_split\n",
        "\n",
        "X = iris.data[:, (0, 1)] # petal length, petal width\n",
        "y = (iris.target == 0).astype(int)\n",
        "\n",
        "X_train, X_test, y_train, y_test = train_test_split(X, y, test_size=0.5, random_state=42)"
      ],
      "metadata": {
        "id": "2Op4w05xwgju"
      },
      "execution_count": 15,
      "outputs": []
    },
    {
      "cell_type": "code",
      "source": [
        "print(X_train)"
      ],
      "metadata": {
        "colab": {
          "base_uri": "https://localhost:8080/"
        },
        "id": "yM8vOT1fwuX9",
        "outputId": "0759a744-47b1-4d35-c6d6-37eb17110449"
      },
      "execution_count": 16,
      "outputs": [
        {
          "output_type": "stream",
          "name": "stdout",
          "text": [
            "[[5.4 3. ]\n",
            " [6.2 3.4]\n",
            " [5.5 2.3]\n",
            " [5.4 3.9]\n",
            " [5.  2.3]\n",
            " [6.4 2.7]\n",
            " [5.  3.3]\n",
            " [5.  3.2]\n",
            " [5.5 2.4]\n",
            " [6.7 3. ]\n",
            " [4.9 3.1]\n",
            " [5.8 2.8]\n",
            " [5.  3.4]\n",
            " [5.  3.5]\n",
            " [5.9 3.2]\n",
            " [5.1 2.5]\n",
            " [6.9 3.2]\n",
            " [6.  2.7]\n",
            " [6.1 2.6]\n",
            " [7.7 3. ]\n",
            " [5.5 2.5]\n",
            " [4.4 2.9]\n",
            " [4.3 3. ]\n",
            " [6.  2.2]\n",
            " [7.2 3.2]\n",
            " [4.6 3.1]\n",
            " [5.1 3.5]\n",
            " [4.4 3. ]\n",
            " [6.3 2.5]\n",
            " [6.3 3.4]\n",
            " [4.6 3.4]\n",
            " [6.8 3. ]\n",
            " [6.3 3.3]\n",
            " [4.7 3.2]\n",
            " [6.1 2.9]\n",
            " [6.5 2.8]\n",
            " [6.2 2.8]\n",
            " [7.  3.2]\n",
            " [6.4 3.2]\n",
            " [5.1 3.8]\n",
            " [6.9 3.1]\n",
            " [5.9 3. ]\n",
            " [6.5 3. ]\n",
            " [5.7 2.6]\n",
            " [5.2 2.7]\n",
            " [6.1 3. ]\n",
            " [4.5 2.3]\n",
            " [6.6 2.9]\n",
            " [5.5 2.6]\n",
            " [5.3 3.7]\n",
            " [5.6 3. ]\n",
            " [7.3 2.9]\n",
            " [6.7 3.3]\n",
            " [5.1 3.7]\n",
            " [4.9 2.4]\n",
            " [6.7 3.3]\n",
            " [7.2 3. ]\n",
            " [4.9 3.6]\n",
            " [6.7 3.1]\n",
            " [4.9 3. ]\n",
            " [6.9 3.1]\n",
            " [7.4 2.8]\n",
            " [6.3 2.9]\n",
            " [5.7 2.8]\n",
            " [6.5 3. ]\n",
            " [6.3 2.3]\n",
            " [6.4 2.9]\n",
            " [5.6 2.8]\n",
            " [5.9 3. ]\n",
            " [5.4 3.4]\n",
            " [6.1 2.8]\n",
            " [4.9 2.5]\n",
            " [5.8 4. ]\n",
            " [5.8 2.6]\n",
            " [7.1 3. ]]\n"
          ]
        }
      ]
    },
    {
      "cell_type": "code",
      "source": [
        "print(y_train)"
      ],
      "metadata": {
        "colab": {
          "base_uri": "https://localhost:8080/"
        },
        "id": "sh5Q46SYw305",
        "outputId": "45ca98d1-9e78-4a22-8ca3-88dc076bd5ee"
      },
      "execution_count": 17,
      "outputs": [
        {
          "output_type": "stream",
          "name": "stdout",
          "text": [
            "[0 0 0 1 0 0 1 1 0 0 1 0 1 1 0 0 0 0 0 0 0 1 1 0 0 1 1 1 0 0 1 0 0 1 0 0 0\n",
            " 0 0 1 0 0 0 0 0 0 1 0 0 1 0 0 0 1 0 0 0 1 0 1 0 0 0 0 0 0 0 0 0 1 0 0 1 0\n",
            " 0]\n"
          ]
        }
      ]
    },
    {
      "cell_type": "markdown",
      "source": [
        "## Otros Conjunto de Datos"
      ],
      "metadata": {
        "id": "m5AT0LilxnVG"
      }
    },
    {
      "cell_type": "code",
      "source": [
        "from sklearn.datasets import load_diabetes\n",
        "# conjunto de datos\n",
        "diabetes = load_diabetes"
      ],
      "metadata": {
        "id": "-5K5GD8lxm_y"
      },
      "execution_count": 18,
      "outputs": []
    },
    {
      "cell_type": "code",
      "source": [
        "from sklearn.datasets import load_wine\n",
        "# conjunto de datos\n",
        "wine  = load_wine"
      ],
      "metadata": {
        "id": "C-p27CxOyMDg"
      },
      "execution_count": 19,
      "outputs": []
    },
    {
      "cell_type": "code",
      "source": [
        "from sklearn.datasets import load_breast_cancer\n",
        "# conjunto de datos\n",
        "breast_cancer  = load_breast_cancer"
      ],
      "metadata": {
        "id": "yJZg3gQTyXWS"
      },
      "execution_count": 20,
      "outputs": []
    }
  ]
}
