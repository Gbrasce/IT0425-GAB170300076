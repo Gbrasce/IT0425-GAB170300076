{
  "nbformat": 4,
  "nbformat_minor": 0,
  "metadata": {
    "colab": {
      "provenance": []
    },
    "kernelspec": {
      "name": "python3",
      "display_name": "Python 3"
    },
    "language_info": {
      "name": "python"
    }
  },
  "cells": [
    {
      "cell_type": "markdown",
      "source": [
        "#IT0425 - Introducción a la Inteligencia Artificial\n",
        "\n",
        "### Otoño 2023\n",
        "\n",
        "### IT0425_Lab_1-5\n",
        "\n",
        "**Profesor Enrique Naredo García**\n",
        "\n",
        "<font size = 2>\n",
        "©️ Todos los derechos reservados. All rights reserved.\n",
        "\n",
        "*Nota: El presente documento es una herramienta diseñada única y exclusivamente para los estudiantes de la asignatura arriba mencionada. Se recuerda no compartir esta información fuera de los integrantes registrados en este curso. La reproducción total o parcial de este documento requiere autorización por escrito del titular del copyright.*\n",
        "</font>"
      ],
      "metadata": {
        "id": "Uon99Ls9Bd8i"
      }
    },
    {
      "cell_type": "markdown",
      "source": [
        "##Búsqueda en profundidad primero"
      ],
      "metadata": {
        "id": "bFRrI4ZLCGMm"
      }
    },
    {
      "cell_type": "markdown",
      "source": [
        "La búsqueda primero en profundidad (Depth First Search - DFS) o el primer recorrido en profundidad es un algoritmo recursivo para buscar todos los vértices de un gráfico o estructura de datos de árbol."
      ],
      "metadata": {
        "id": "J0YuGE5NH3md"
      }
    },
    {
      "cell_type": "markdown",
      "source": [
        "La búsqueda en profundidad (DFS) es un algoritmo para atravesar o buscar estructuras de datos de árboles o gráficos.\n",
        "* El algoritmo comienza en el nodo raíz.\n",
        "* Seleccionando algún nodo arbitrario como nodo raíz.\n",
        "* Explora lo más posible a lo largo de cada rama antes de retroceder.\n",
        "* Utiliza la estrategia último en entrar, primero en salir y, por lo tanto, se implementa mediante una pila."
      ],
      "metadata": {
        "id": "IunjuVyCHzO3"
      }
    },
    {
      "cell_type": "markdown",
      "source": [
        "Una implementación DFS estándar coloca cada vértice del gráfico en una de dos categorías:\n",
        "  * Visitado\n",
        "  * No visitado\n",
        "\n",
        "* El propósito del algoritmo es marcar cada vértice como visitado evitando ciclos.\n",
        "\n",
        "* El algoritmo DFS funciona de la siguiente manera:\n",
        "\n",
        "  * Comienza colocando cualquiera de los vértices del gráfico encima de una pila.\n",
        "  * Toma el elemento superior de la pila y agréguelo a la lista visitada.\n",
        "  * Crea una lista de los nodos adyacentes de ese vértice.\n",
        "  * Agrega los que no están en la lista visitada al principio de la pila.\n",
        "  * Sigue repitiendo los pasos 2 y 3 hasta que la pila esté vacía."
      ],
      "metadata": {
        "id": "qm6ntz65FV49"
      }
    },
    {
      "cell_type": "markdown",
      "source": [
        "\n",
        "\n",
        "Pseudocódigo:\n",
        "\n",
        "    DFS(G, u)\n",
        "        u.visited = true\n",
        "        for each v ∈ G.Adj[u]\n",
        "            if v.visited == false\n",
        "                DFS(G,v)\n",
        "        \n",
        "    init() {\n",
        "        For each u ∈ G\n",
        "            u.visited = false\n",
        "        For each u ∈ G\n",
        "          DFS(G, u)\n",
        "    }"
      ],
      "metadata": {
        "id": "ywvtniorCmUj"
      }
    },
    {
      "cell_type": "markdown",
      "source": [
        "##Ejemplo 1"
      ],
      "metadata": {
        "id": "i9eTOHFjzfKD"
      }
    },
    {
      "cell_type": "code",
      "source": [
        "# grafo usando diccionario\n",
        "# y la función conjuto: set\n",
        "grafo = {'0': set(['1', '2']),\n",
        "         '1': set(['0', '3', '4']),\n",
        "         '2': set(['0']),\n",
        "         '3': set(['1']),\n",
        "         '4': set(['2', '3'])}"
      ],
      "metadata": {
        "id": "xxExYJS8GmvO"
      },
      "execution_count": 1,
      "outputs": []
    },
    {
      "cell_type": "code",
      "source": [
        "# DFS\n",
        "def DFS(grafo, inicio, visitado=None):\n",
        "    if visitado is None:\n",
        "        visitado = set()\n",
        "    visitado.add(inicio)\n",
        "\n",
        "    #print(inicio)\n",
        "\n",
        "    for next in grafo[inicio] - visitado:\n",
        "        DFS(grafo, next, visitado)\n",
        "    return visitado"
      ],
      "metadata": {
        "id": "378savVnGk75"
      },
      "execution_count": 2,
      "outputs": []
    },
    {
      "cell_type": "code",
      "source": [
        "# Búsqueda DFS inciando en 0.\n",
        "DFS(grafo, '0')"
      ],
      "metadata": {
        "colab": {
          "base_uri": "https://localhost:8080/"
        },
        "id": "dMwkd2_iDt1G",
        "outputId": "a3c64402-60d0-48e7-8b05-9abc568bda1d"
      },
      "execution_count": 3,
      "outputs": [
        {
          "output_type": "execute_result",
          "data": {
            "text/plain": [
              "{'0', '1', '2', '3', '4'}"
            ]
          },
          "metadata": {},
          "execution_count": 3
        }
      ]
    },
    {
      "cell_type": "markdown",
      "source": [
        "##Ejemplo 2"
      ],
      "metadata": {
        "id": "BIkjKfWwCmX1"
      }
    },
    {
      "cell_type": "code",
      "source": [
        "# grafo usando diccionario\n",
        "grafito = {\n",
        "  'A' : ['B','C'],\n",
        "  'B' : ['D', 'E'],\n",
        "  'C' : ['F'],\n",
        "  'D' : [],\n",
        "  'E' : ['F'],\n",
        "  'F' : []\n",
        "}"
      ],
      "metadata": {
        "id": "KdbbsxPLCp8W"
      },
      "execution_count": 29,
      "outputs": []
    },
    {
      "cell_type": "code",
      "source": [
        "# imprime grafo\n",
        "print(grafito)"
      ],
      "metadata": {
        "colab": {
          "base_uri": "https://localhost:8080/"
        },
        "id": "-OxqVU_V4cKf",
        "outputId": "bbc7ab88-c9b1-43fe-805b-57d9dcf02087"
      },
      "execution_count": 30,
      "outputs": [
        {
          "output_type": "stream",
          "name": "stdout",
          "text": [
            "{'A': ['B', 'C'], 'B': ['D', 'E'], 'C': ['F'], 'D': [], 'E': ['F'], 'F': []}\n"
          ]
        }
      ]
    },
    {
      "cell_type": "code",
      "source": [
        "# función de búsqueda DFS\n",
        "def bfs(graph, node):\n",
        "\n",
        "  visitada = []\n",
        "  pila = [] # o cola\n",
        "\n",
        "  visitada.append(node)\n",
        "  pila.append(node)\n",
        "\n",
        "  while pila:\n",
        "    s = pila.pop(0)\n",
        "    print (s, end = \" \")\n",
        "\n",
        "    for neighbour in graph[s]:\n",
        "      if neighbour not in visitada:\n",
        "        visitada.append(neighbour)\n",
        "        pila.append(neighbour)"
      ],
      "metadata": {
        "id": "WtMfg_duCnXc"
      },
      "execution_count": 31,
      "outputs": []
    },
    {
      "cell_type": "code",
      "source": [
        "# Driver Code\n",
        "bfs(grafito, 'A')"
      ],
      "metadata": {
        "colab": {
          "base_uri": "https://localhost:8080/"
        },
        "id": "1be9IZX2CtMn",
        "outputId": "fee4a17a-8773-40c8-8ba9-a2c2e4dee113"
      },
      "execution_count": 32,
      "outputs": [
        {
          "output_type": "stream",
          "name": "stdout",
          "text": [
            "A B C D E F "
          ]
        }
      ]
    },
    {
      "cell_type": "markdown",
      "source": [
        "##Ejemplo 3"
      ],
      "metadata": {
        "id": "y0K4XUOaGfKM"
      }
    },
    {
      "cell_type": "code",
      "source": [
        "# librería\n",
        "from collections import defaultdict"
      ],
      "metadata": {
        "id": "tG2WW7oeBqWj"
      },
      "execution_count": 4,
      "outputs": []
    },
    {
      "cell_type": "code",
      "source": [
        "# Clase que representa un grafo directo\n",
        "# utilizando una lista de adyacencia\n",
        "class Grafo:\n",
        "\n",
        "\t# constructor\n",
        "\tdef __init__(self):\n",
        "\n",
        "\t\t# diccionario para guardar el grafo\n",
        "\t\tself.graph = defaultdict(list)\n",
        "\n",
        "\t# función para agregar un vertice al grafo\n",
        "\tdef agregaVertice(self, u, v):\n",
        "\t\tself.graph[u].append(v)\n",
        "\n",
        "\t# verifica si el nodo ya ha sido visitado\n",
        "\tdef VerifVisitado(self, v, visitado):\n",
        "\n",
        "\t\t# marca el nodo actual como visitado\n",
        "\t\tvisitado.add(v)\n",
        "\t\t# y lo imprime\n",
        "\t\tprint(v, end=' ')\n",
        "\n",
        "\t\t# Visita los vertices vecinos\n",
        "\t\tfor vecino in self.graph[v]:\n",
        "\t\t\tif vecino not in visitado:\n",
        "\t\t\t\tself.VerifVisitado(vecino, visitado)\n",
        "\n",
        "\t# función recursiva de DFS\n",
        "\tdef DFS(self, v):\n",
        "\n",
        "\t\t# para guardar los vertices visitados\n",
        "\t\tvisitado = set()\n",
        "\n",
        "\t\t# llama recursivamete la función\n",
        "\t\tself.VerifVisitado(v, visitado)"
      ],
      "metadata": {
        "id": "8ChYpdJSBtxP"
      },
      "execution_count": 15,
      "outputs": []
    },
    {
      "cell_type": "code",
      "execution_count": 16,
      "metadata": {
        "id": "Uf9UKEJmBZ27"
      },
      "outputs": [],
      "source": [
        "# crea un grafo\n",
        "g = Grafo()\n",
        "g.agregaVertice(0, 1)\n",
        "g.agregaVertice(0, 2)\n",
        "g.agregaVertice(1, 2)\n",
        "g.agregaVertice(2, 0)\n",
        "g.agregaVertice(2, 3)\n",
        "g.agregaVertice(3, 3)\n"
      ]
    },
    {
      "cell_type": "code",
      "source": [
        "# Búsqueda DFS aplicada al grafo\n",
        "print(\"Búsqueda primero en profundidad (Depth First Search - DFS). \\nIniciando en el vetice 2:\")\n",
        "g.DFS(2)"
      ],
      "metadata": {
        "colab": {
          "base_uri": "https://localhost:8080/"
        },
        "id": "XNfQKgMpgxz5",
        "outputId": "a5c5ecb3-75a4-4124-9e0a-fe5a360c2365"
      },
      "execution_count": 27,
      "outputs": [
        {
          "output_type": "stream",
          "name": "stdout",
          "text": [
            "Búsqueda primero en profundidad (Depth First Search - DFS). \n",
            "Iniciando en el vetice 2:\n",
            "2 0 1 3 "
          ]
        }
      ]
    }
  ]
}
