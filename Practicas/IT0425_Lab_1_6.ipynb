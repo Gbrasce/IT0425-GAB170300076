{
  "nbformat": 4,
  "nbformat_minor": 0,
  "metadata": {
    "colab": {
      "provenance": []
    },
    "kernelspec": {
      "name": "python3",
      "display_name": "Python 3"
    },
    "language_info": {
      "name": "python"
    }
  },
  "cells": [
    {
      "cell_type": "markdown",
      "source": [
        "#IT0425 - Introducción a la Inteligencia Artificial\n",
        "\n",
        "### Otoño 2023\n",
        "\n",
        "### IT0425_Lab_1-6\n",
        "\n",
        "**Enrique Naredo García**\n",
        "\n",
        "<font size = 2>\n",
        "©️ Todos los derechos reservados. All rights reserved.\n",
        "\n",
        "*Nota: El presente documento es una herramienta diseñada única y exclusivamente para los estudiantes de la asignatura arriba mencionada. Se recuerda no compartir esta información fuera de los integrantes registrados en este curso. La reproducción total o parcial de este documento requiere autorización por escrito del titular del copyright.*\n",
        "</font>"
      ],
      "metadata": {
        "id": "u87dL_uBfxOv"
      }
    },
    {
      "cell_type": "markdown",
      "source": [
        "# Cómputo Evolutivo"
      ],
      "metadata": {
        "id": "dzABXgoCgK0e"
      }
    },
    {
      "cell_type": "markdown",
      "source": [
        "Aquí tienen ejemplos de como se pueden implementar funciones para cómputo evolutivo."
      ],
      "metadata": {
        "id": "HI6BADbiARA1"
      }
    },
    {
      "cell_type": "markdown",
      "source": [
        "###Librerías"
      ],
      "metadata": {
        "id": "zA9b5GFGhpuq"
      }
    },
    {
      "cell_type": "code",
      "source": [
        "# librerías\n",
        "import random, math\n",
        "import numpy as np\n",
        "from numpy.random import randint\n",
        "from numpy.random import rand"
      ],
      "metadata": {
        "id": "xR4F_vfPyXgv"
      },
      "execution_count": 2,
      "outputs": []
    },
    {
      "cell_type": "markdown",
      "source": [
        "## Selección de frutas"
      ],
      "metadata": {
        "id": "f7pwLp4AhJfu"
      }
    },
    {
      "cell_type": "code",
      "execution_count": 3,
      "metadata": {
        "id": "FccMcduDmr8a",
        "colab": {
          "base_uri": "https://localhost:8080/"
        },
        "outputId": "3067481e-f9c9-41ca-d9b3-e46978a484ea"
      },
      "outputs": [
        {
          "output_type": "stream",
          "name": "stdout",
          "text": [
            "<class 'list'>\n",
            "['Platano', 'Pera', 'Manzana', 'Naranja']\n"
          ]
        }
      ],
      "source": [
        "# fenotipo\n",
        "Frutas = ['Platano','Pera','Manzana','Naranja']\n",
        "print(type(Frutas))\n",
        "print(Frutas)"
      ]
    },
    {
      "cell_type": "code",
      "source": [
        "# fenotipo, opción=0\n",
        "# primera opción\n",
        "Frutas[0]"
      ],
      "metadata": {
        "colab": {
          "base_uri": "https://localhost:8080/",
          "height": 35
        },
        "id": "9l0nQf8rqc25",
        "outputId": "e569e7b3-adb4-4461-e5a5-7648762f9132"
      },
      "execution_count": 4,
      "outputs": [
        {
          "output_type": "execute_result",
          "data": {
            "text/plain": [
              "'Platano'"
            ],
            "application/vnd.google.colaboratory.intrinsic+json": {
              "type": "string"
            }
          },
          "metadata": {},
          "execution_count": 4
        }
      ]
    },
    {
      "cell_type": "code",
      "source": [
        "# selección aleatoría de fenotipo\n",
        "print(random.choice(Frutas))"
      ],
      "metadata": {
        "colab": {
          "base_uri": "https://localhost:8080/"
        },
        "id": "AZSNgI-pqgqY",
        "outputId": "6f2c35be-0ccb-4f4a-b045-f24b54190d5f"
      },
      "execution_count": 5,
      "outputs": [
        {
          "output_type": "stream",
          "name": "stdout",
          "text": [
            "Naranja\n"
          ]
        }
      ]
    },
    {
      "cell_type": "code",
      "source": [
        "# selección aleatoría de índice (fenotipo)\n",
        "print(random.randint(1,4))"
      ],
      "metadata": {
        "colab": {
          "base_uri": "https://localhost:8080/"
        },
        "id": "xK-3WX20rEqa",
        "outputId": "5d3b83cb-997b-424d-b48b-6f66b5ab74d6"
      },
      "execution_count": 6,
      "outputs": [
        {
          "output_type": "stream",
          "name": "stdout",
          "text": [
            "3\n"
          ]
        }
      ]
    },
    {
      "cell_type": "markdown",
      "source": [
        "## Decimal a Binario"
      ],
      "metadata": {
        "id": "qBjmF0NsmiuX"
      }
    },
    {
      "cell_type": "markdown",
      "source": [
        "### Función-1: Cadena de caracteres"
      ],
      "metadata": {
        "id": "2-6GvccCrztv"
      }
    },
    {
      "cell_type": "code",
      "source": [
        "# usando el método bin\n",
        "bin(13)"
      ],
      "metadata": {
        "colab": {
          "base_uri": "https://localhost:8080/",
          "height": 35
        },
        "id": "0Yv7kFsGssKa",
        "outputId": "09a86ac5-1948-400d-d1d1-82925fd543ea"
      },
      "execution_count": 7,
      "outputs": [
        {
          "output_type": "execute_result",
          "data": {
            "text/plain": [
              "'0b1101'"
            ],
            "application/vnd.google.colaboratory.intrinsic+json": {
              "type": "string"
            }
          },
          "metadata": {},
          "execution_count": 7
        }
      ]
    },
    {
      "cell_type": "code",
      "source": [
        "# eliminando los 2 primeros caracteres\n",
        "B1 = bin(13)[2:]\n",
        "print(type(B1))\n",
        "print(B1)"
      ],
      "metadata": {
        "colab": {
          "base_uri": "https://localhost:8080/"
        },
        "id": "s2W7-Bt1r4PB",
        "outputId": "b612e0fa-4504-4ec2-fe67-594c94def32f"
      },
      "execution_count": 8,
      "outputs": [
        {
          "output_type": "stream",
          "name": "stdout",
          "text": [
            "<class 'str'>\n",
            "1101\n"
          ]
        }
      ]
    },
    {
      "cell_type": "markdown",
      "source": [
        "### Función-2: Cadena de caracteres"
      ],
      "metadata": {
        "id": "65olzRpJuqPY"
      }
    },
    {
      "cell_type": "code",
      "source": [
        "# usando format\n",
        "def decimal_A_binario(num_decimal):\n",
        "  binario = format(int(num_decimal), 'b')\n",
        "  return binario"
      ],
      "metadata": {
        "id": "5ZUCIOEut6Qx"
      },
      "execution_count": 9,
      "outputs": []
    },
    {
      "cell_type": "code",
      "source": [
        "# probando la función\n",
        "B2 = decimal_A_binario(4)\n",
        "print(type(B2))\n",
        "print(B2)"
      ],
      "metadata": {
        "colab": {
          "base_uri": "https://localhost:8080/"
        },
        "id": "PzkN8XwUvDxG",
        "outputId": "437862bc-7c20-4bc4-e8ff-44798c951cab"
      },
      "execution_count": 10,
      "outputs": [
        {
          "output_type": "stream",
          "name": "stdout",
          "text": [
            "<class 'str'>\n",
            "100\n"
          ]
        }
      ]
    },
    {
      "cell_type": "markdown",
      "source": [
        "### Función-3: Cadena de caracteres"
      ],
      "metadata": {
        "id": "tvIQephsvhJY"
      }
    },
    {
      "cell_type": "code",
      "source": [
        "# convierte entero a cadena\n",
        "def decAbin(numero: int):\n",
        "    cadena = \"\"\n",
        "    # si el número es cero\n",
        "    if numero == 0:\n",
        "      return 0\n",
        "    # mientras sea mayor que cero, convierte a bits\n",
        "    while numero:\n",
        "      # actualiza cadena Sets each bit to 1 if both bits are 1\n",
        "      cadena += str(numero&1)\n",
        "      # convierte a bits y desplaza 1 bit a la derecha\n",
        "      numero = numero >> 1\n",
        "    # regresa cadena binaria invertida\n",
        "    return cadena[::-1]"
      ],
      "metadata": {
        "id": "zcaFo5Yjs96k"
      },
      "execution_count": 11,
      "outputs": []
    },
    {
      "cell_type": "code",
      "source": [
        "B3 = decAbin(13)\n",
        "print(type(B3))\n",
        "print(B3)"
      ],
      "metadata": {
        "colab": {
          "base_uri": "https://localhost:8080/"
        },
        "id": "smdw5eGDtkFG",
        "outputId": "bf74d06a-7ac3-440b-e12f-5e01a3156018"
      },
      "execution_count": 12,
      "outputs": [
        {
          "output_type": "stream",
          "name": "stdout",
          "text": [
            "<class 'str'>\n",
            "1101\n"
          ]
        }
      ]
    },
    {
      "cell_type": "markdown",
      "source": [
        "### Función-4: Lista de enteros"
      ],
      "metadata": {
        "id": "KKjNigB4nJL4"
      }
    },
    {
      "cell_type": "code",
      "source": [
        "# función decimal a binario\n",
        "def decBinario(dec):\n",
        "  # la lista para guardar los módulos\n",
        "  modulos = []\n",
        "  # mientras el número de entrada sea diferente de cero\n",
        "  while dec != 0:\n",
        "    # paso 1: dividimos entre 2\n",
        "    modulo = dec % 2\n",
        "    # división \"entera\"\n",
        "    cociente = dec // 2\n",
        "    # guardamos el módulo calculado\n",
        "    modulos.append(modulo)\n",
        "    # el cociente pasa a ser el número de entrada\n",
        "    dec = cociente\n",
        "  # regresa lista de bits\n",
        "  return modulos"
      ],
      "metadata": {
        "id": "6IkVc6iclli6"
      },
      "execution_count": 13,
      "outputs": []
    },
    {
      "cell_type": "code",
      "source": [
        "# prueba función\n",
        "B4 = decBinario(4)\n",
        "print(type(B4))\n",
        "print(type(B4[0]))\n",
        "print(B4)"
      ],
      "metadata": {
        "colab": {
          "base_uri": "https://localhost:8080/"
        },
        "id": "pllMHoqWmWSo",
        "outputId": "81e7a0c2-9320-468f-deb4-fde5b5f7f8b0"
      },
      "execution_count": 14,
      "outputs": [
        {
          "output_type": "stream",
          "name": "stdout",
          "text": [
            "<class 'list'>\n",
            "<class 'int'>\n",
            "[0, 0, 1]\n"
          ]
        }
      ]
    },
    {
      "cell_type": "markdown",
      "source": [
        "### Función-5: Entero"
      ],
      "metadata": {
        "id": "Yy3RzqaVm9Iv"
      }
    },
    {
      "cell_type": "code",
      "source": [
        "# función decimal a binario\n",
        "def decimal_a_binario(decimal):\n",
        "  # número binario\n",
        "  binario = 0\n",
        "  # inicia multiplicando por 1\n",
        "  multiplicador = 1\n",
        "  # ciclo mientras sea diferente a cero\n",
        "  while decimal != 0:\n",
        "    # se almacena el módulo ordenado base 10\n",
        "    binario = binario + decimal % 2 * multiplicador\n",
        "    # división \"entera\"\n",
        "    decimal //= 2\n",
        "    # multiplica por base 10 (10, 100, 1000, etc.)\n",
        "    multiplicador *= 10\n",
        "  # regresa lista de bits\n",
        "  return binario"
      ],
      "metadata": {
        "id": "8E6y0v2Sn6uc"
      },
      "execution_count": 15,
      "outputs": []
    },
    {
      "cell_type": "code",
      "source": [
        "# ejemplos de uso\n",
        "B5 = decimal_a_binario(13)\n",
        "print(type(B5))\n",
        "print(B5)"
      ],
      "metadata": {
        "colab": {
          "base_uri": "https://localhost:8080/"
        },
        "id": "7tLyJgqQpwn0",
        "outputId": "72905d5c-6ba4-4963-aadb-9e8c4b7001e6"
      },
      "execution_count": 16,
      "outputs": [
        {
          "output_type": "stream",
          "name": "stdout",
          "text": [
            "<class 'int'>\n",
            "1101\n"
          ]
        }
      ]
    },
    {
      "cell_type": "markdown",
      "source": [],
      "metadata": {
        "id": "pmsSp21mB_92"
      }
    },
    {
      "cell_type": "markdown",
      "source": [
        "##Mutación"
      ],
      "metadata": {
        "id": "3B2uIAu4gbTh"
      }
    },
    {
      "cell_type": "markdown",
      "source": [
        "Ejemplos para implementar mutaciones de bits."
      ],
      "metadata": {
        "id": "LFmWpZ1yB8Sh"
      }
    },
    {
      "cell_type": "markdown",
      "source": [
        "###Ejemplo-1"
      ],
      "metadata": {
        "id": "l6TUBoMP1Rcx"
      }
    },
    {
      "cell_type": "code",
      "source": [
        "# Mutación\n",
        "# corre varias veces el código\n",
        "b1 = '111111'\n",
        "M1 = ''.join([\"1\" if random.random() > 0.1 else \"0\" for _ in b1])\n",
        "print(type(M1))\n",
        "print(M1)"
      ],
      "metadata": {
        "colab": {
          "base_uri": "https://localhost:8080/"
        },
        "id": "3ri7pciuwrNZ",
        "outputId": "d928abf8-16bc-440c-dba6-0f744306e18a"
      },
      "execution_count": 17,
      "outputs": [
        {
          "output_type": "stream",
          "name": "stdout",
          "text": [
            "<class 'str'>\n",
            "111101\n"
          ]
        }
      ]
    },
    {
      "cell_type": "code",
      "source": [
        "# Mutación\n",
        "# corre varias veces el código\n",
        "b2 = '000000'\n",
        "M2 = ''.join([\"0\" if random.random() < 0.85 else \"1\" for _ in b2])\n",
        "print(type(M2))\n",
        "print(M2)"
      ],
      "metadata": {
        "colab": {
          "base_uri": "https://localhost:8080/"
        },
        "id": "8UfNTJR975sV",
        "outputId": "4b0f9328-d528-4d78-e4f6-4bfba5b82756"
      },
      "execution_count": 18,
      "outputs": [
        {
          "output_type": "stream",
          "name": "stdout",
          "text": [
            "<class 'str'>\n",
            "010010\n"
          ]
        }
      ]
    },
    {
      "cell_type": "markdown",
      "source": [
        "###Ejemplo-2"
      ],
      "metadata": {
        "id": "sSPA-pwF1ZSQ"
      }
    },
    {
      "cell_type": "code",
      "source": [
        "# mutación con enteros\n",
        "def OrShiftBit(bits):\n",
        "  conv_d = 0\n",
        "  for x in range(bits.bit_length()):\n",
        "    mutFactor = 0.3\n",
        "    # desplaza un bit aleatorio y aplica OR\n",
        "    conv_d |= bool(random.random() > mutFactor) << x\n",
        "  return conv_d"
      ],
      "metadata": {
        "id": "9YqUxBrP0mpF"
      },
      "execution_count": 62,
      "outputs": []
    },
    {
      "cell_type": "code",
      "source": [
        "# ejemplo de uso\n",
        "# corre varias veces el código\n",
        "print(OrShiftBit(46))"
      ],
      "metadata": {
        "colab": {
          "base_uri": "https://localhost:8080/"
        },
        "id": "bum5tNGs3Dvv",
        "outputId": "2eaf1840-7d7e-46b7-99c1-807f8df8ae5c"
      },
      "execution_count": 63,
      "outputs": [
        {
          "output_type": "stream",
          "name": "stdout",
          "text": [
            "63\n"
          ]
        }
      ]
    },
    {
      "cell_type": "markdown",
      "source": [
        "###Ejemplo-3\n"
      ],
      "metadata": {
        "id": "KLeVdV-V4ZFK"
      }
    },
    {
      "cell_type": "code",
      "source": [
        "# invierte bits en posiciones\n",
        "def invierte(bits, pos1, pos2):\n",
        "  bits[pos1], bits[pos2] = bits[pos2], bits[pos1]\n",
        "  return bits"
      ],
      "metadata": {
        "id": "qD907iIp9k19"
      },
      "execution_count": 143,
      "outputs": []
    },
    {
      "cell_type": "code",
      "source": [
        "b3 = [1, 1, 0, 1, 0]\n",
        "x = np.array(b3)\n",
        "pos1 = 0 # 1\n",
        "pos2 = 2 # 0\n",
        "\n",
        "invierte(b3, pos1, pos2)"
      ],
      "metadata": {
        "colab": {
          "base_uri": "https://localhost:8080/"
        },
        "id": "DAYdaM5CINCB",
        "outputId": "841c3f8f-18cd-4a1e-e285-38119e27f710"
      },
      "execution_count": 144,
      "outputs": [
        {
          "output_type": "execute_result",
          "data": {
            "text/plain": [
              "[0, 1, 1, 1, 0]"
            ]
          },
          "metadata": {},
          "execution_count": 144
        }
      ]
    },
    {
      "cell_type": "markdown",
      "source": [
        "###Ejemplo-4"
      ],
      "metadata": {
        "id": "sP-Cp5Qy6DS9"
      }
    },
    {
      "cell_type": "code",
      "source": [
        "# invierte todos los bits\n",
        "def inverse(B):\n",
        "  return B[::-1]"
      ],
      "metadata": {
        "id": "vBdEYOyY9pba"
      },
      "execution_count": 145,
      "outputs": []
    },
    {
      "cell_type": "code",
      "source": [
        "b4 = [1, 1, 0, 1, 0]\n",
        "b4 = np.array(b4)\n",
        "inverse(b4)"
      ],
      "metadata": {
        "colab": {
          "base_uri": "https://localhost:8080/"
        },
        "id": "VR5rqZniIdEF",
        "outputId": "fc5c1706-c790-40ed-f6ef-7f1902479541"
      },
      "execution_count": 146,
      "outputs": [
        {
          "output_type": "execute_result",
          "data": {
            "text/plain": [
              "array([0, 1, 0, 1, 1])"
            ]
          },
          "metadata": {},
          "execution_count": 146
        }
      ]
    },
    {
      "cell_type": "markdown",
      "source": [
        "## Cruce"
      ],
      "metadata": {
        "id": "uFjK8ET-69dL"
      }
    },
    {
      "cell_type": "code",
      "source": [
        "# Cruce de 1 punto con 2 padres\n",
        "def cruce1punto(P1, P2):\n",
        "  # convierte cadena en lista\n",
        "\tH1 = list(P1)\n",
        "\tH2 = list(P2)\n",
        "  # selecciona punto de cruce\n",
        "\tpuntoCruce = random.randint(0, len(P1)-1)\n",
        "  # reliza el cruce\n",
        "\tfor i in range(puntoCruce, len(P1)):\n",
        "\t\tH1[i], H2[i] = H2[i], H1[i]\n",
        "  # une en una cadena\n",
        "\tH1 = ''.join(H1)\n",
        "\tH2 = ''.join(H2)\n",
        "  # regresa los hijos\n",
        "\treturn H1, H2\n",
        "\n",
        "\n",
        "\n"
      ],
      "metadata": {
        "id": "R79kt3nQ7BJN"
      },
      "execution_count": 176,
      "outputs": []
    },
    {
      "cell_type": "code",
      "source": [
        "from numpy.lib.twodim_base import histogram2d\n",
        "# genotipos (cadena de caracteres)\n",
        "P1 = '1100110110110011'\n",
        "P2 = '1000110011011111'\n",
        "\n",
        "h1, h2 = cruce1punto(P1, P2)\n",
        "\n",
        "print(\"Padres:\")\n",
        "print(P1)\n",
        "print(P2, \"\\n\")\n",
        "\n",
        "print(\"Hijos:\")\n",
        "print(h1)\n",
        "print(h2)"
      ],
      "metadata": {
        "colab": {
          "base_uri": "https://localhost:8080/"
        },
        "id": "jZMxxh6C8bT8",
        "outputId": "7b4ee457-274d-4238-ccb4-188dd6a2e49b"
      },
      "execution_count": 177,
      "outputs": [
        {
          "output_type": "stream",
          "name": "stdout",
          "text": [
            "Padres:\n",
            "1100110110110011\n",
            "1000110011011111 \n",
            "\n",
            "Hijos:\n",
            "1100110110111111\n",
            "1000110011010011\n"
          ]
        }
      ]
    }
  ]
}
