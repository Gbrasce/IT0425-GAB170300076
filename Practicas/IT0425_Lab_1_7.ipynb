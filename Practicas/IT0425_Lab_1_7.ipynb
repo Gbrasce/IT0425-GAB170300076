{
  "nbformat": 4,
  "nbformat_minor": 0,
  "metadata": {
    "colab": {
      "provenance": []
    },
    "kernelspec": {
      "name": "python3",
      "display_name": "Python 3"
    },
    "language_info": {
      "name": "python"
    }
  },
  "cells": [
    {
      "cell_type": "markdown",
      "source": [
        "#IT0425 - Introducción a la Inteligencia Artificial\n",
        "\n",
        "### Otoño 2023\n",
        "\n",
        "### IT0425_Lab_1-7\n",
        "\n",
        "**Profesor Enrique Naredo García**\n",
        "\n",
        "<font size = 2>\n",
        "©️ Todos los derechos reservados. All rights reserved.\n",
        "\n",
        "*Nota: El presente documento es una herramienta diseñada única y exclusivamente para los estudiantes de la asignatura arriba mencionada. Se recuerda no compartir esta información fuera de los integrantes registrados en este curso. La reproducción total o parcial de este documento requiere autorización por escrito del titular del copyright.*\n",
        "</font>"
      ],
      "metadata": {
        "id": "OGi0SdwCHiLq"
      }
    },
    {
      "cell_type": "markdown",
      "source": [
        "# Búsqueda en amplitud"
      ],
      "metadata": {
        "id": "CGam9pMjRyJo"
      }
    },
    {
      "cell_type": "markdown",
      "source": [
        "\n",
        "La búsqueda en amplitud (Breadth-first search - BFS) es un algoritmo para atravesar o buscar estructuras de datos de árboles o gráficos.\n",
        "\n",
        "* Comienza en la raíz del árbol.\n",
        "* O algún nodo arbitrario de un gráfico.\n",
        "* A veces denominado \"clave de búsqueda\".\n",
        "* Explora todos los nodos vecinos en la profundidad actual.\n",
        "* Antes de pasar a los nodos en el siguiente nivel de profundidad.\n",
        "* Se implementa mediante una cola."
      ],
      "metadata": {
        "id": "UOsWOjwRRpm4"
      }
    },
    {
      "cell_type": "markdown",
      "source": [
        "##Ejemplo-1"
      ],
      "metadata": {
        "id": "ZwNslTjM_aGn"
      }
    },
    {
      "cell_type": "code",
      "source": [
        "# crea un grafo en forma de diccionario\n",
        "grafin = {0: [1, 2], 1: [2], 2: [3], 3: [1, 2]}"
      ],
      "metadata": {
        "id": "Qs8s2tTMDfF4"
      },
      "execution_count": 6,
      "outputs": []
    },
    {
      "cell_type": "code",
      "source": [
        "# librería para manejar contenedores\n",
        "import collections\n",
        "\n",
        "# BFS\n",
        "def BFS1(grafito, raiz):\n",
        "  # nodo visitado y cola\n",
        "  visitado, cola = set(), collections.deque([raiz])\n",
        "  visitado.add(raiz)\n",
        "  # ciclo\n",
        "  while cola:\n",
        "    # obtiene un vertice de la cola\n",
        "    vertice = cola.popleft()\n",
        "    print(str(vertice) + \" \", end=\"\")\n",
        "    # verifica que todos los vertices sean visitados\n",
        "    for vecino in grafito[vertice]:\n",
        "      if vecino not in visitado:\n",
        "        visitado.add(vecino)\n",
        "        cola.append(vecino)\n"
      ],
      "metadata": {
        "id": "MV4kHpHGTsA3"
      },
      "execution_count": 7,
      "outputs": []
    },
    {
      "cell_type": "code",
      "source": [
        "# prueba el algo\n",
        "print(\"Utilizando el algoritmo BFS: \")\n",
        "BFS1(grafin, 0)"
      ],
      "metadata": {
        "colab": {
          "base_uri": "https://localhost:8080/"
        },
        "id": "OBugPilvTwZ9",
        "outputId": "8f6a88f0-0ef4-42e7-89c7-7c4305edfaaa"
      },
      "execution_count": 8,
      "outputs": [
        {
          "output_type": "stream",
          "name": "stdout",
          "text": [
            "Utilizando el algoritmo BFS: \n",
            "0 1 2 3 "
          ]
        }
      ]
    },
    {
      "cell_type": "markdown",
      "source": [
        "##Ejemplo-2"
      ],
      "metadata": {
        "id": "Q2RR75xQTpCq"
      }
    },
    {
      "cell_type": "code",
      "source": [
        "# Grafo\n",
        "grafon = {\n",
        "    'A': ['B', 'C', 'D'],\n",
        "    'B': ['A'],\n",
        "    'C': ['A', 'D'],\n",
        "    'D': ['A', 'C', 'E'],\n",
        "    'E': ['D'],\n",
        "}"
      ],
      "metadata": {
        "id": "3wRUIv4iUXMp"
      },
      "execution_count": 4,
      "outputs": []
    },
    {
      "cell_type": "code",
      "source": [
        "# imprime grafo\n",
        "print(grafon)"
      ],
      "metadata": {
        "colab": {
          "base_uri": "https://localhost:8080/"
        },
        "id": "7IIKN0V25xxU",
        "outputId": "9284655d-ac1d-41f6-d6bc-89d99b72e09c"
      },
      "execution_count": null,
      "outputs": [
        {
          "output_type": "stream",
          "name": "stdout",
          "text": [
            "{'A': ['B', 'C', 'D'], 'B': ['A'], 'C': ['A', 'D'], 'D': ['A', 'C', 'E'], 'E': ['D']}\n"
          ]
        }
      ]
    },
    {
      "cell_type": "code",
      "source": [
        "# BFS\n",
        "def BFS2(grafon, node):\n",
        "\n",
        "  # vertices con \"False\" no han sido visitados\n",
        "  visitado = [False] * (len(grafon))\n",
        "\n",
        "  # incializa la variable cola\n",
        "  cola = []\n",
        "\n",
        "  # agrega nodo inicial\n",
        "  visitado.append(node)\n",
        "  cola.append(node)\n",
        "\n",
        "  # ciclo\n",
        "  while cola:\n",
        "    # elimina el vertice en el indice=0\n",
        "    v = cola.pop(0)\n",
        "    print(v, end=\" \")\n",
        "\n",
        "    # verifica que todos los vertices sean visitados\n",
        "    for vecino in grafon[v]:\n",
        "      if vecino not in visitado:\n",
        "        visitado.append(vecino)\n",
        "        cola.append(vecino)"
      ],
      "metadata": {
        "id": "fVMw9u3cUUC8"
      },
      "execution_count": 2,
      "outputs": []
    },
    {
      "cell_type": "code",
      "source": [
        "# probando el algo\n",
        "BFS2(grafon, 'A')"
      ],
      "metadata": {
        "colab": {
          "base_uri": "https://localhost:8080/"
        },
        "id": "pAKTP4NEUZt1",
        "outputId": "d6afea1e-91eb-44f7-bf51-58b18dc85ffa"
      },
      "execution_count": 5,
      "outputs": [
        {
          "output_type": "stream",
          "name": "stdout",
          "text": [
            "A B C D E "
          ]
        }
      ]
    },
    {
      "cell_type": "markdown",
      "source": [
        "##Ejemplo-3"
      ],
      "metadata": {
        "id": "tDb-sNExURz4"
      }
    },
    {
      "cell_type": "code",
      "source": [
        "# librerías\n",
        "from collections import defaultdict"
      ],
      "metadata": {
        "id": "IEcJx9RbSZdh"
      },
      "execution_count": null,
      "outputs": []
    },
    {
      "cell_type": "code",
      "execution_count": null,
      "metadata": {
        "id": "97NwdPRYHfwW"
      },
      "outputs": [],
      "source": [
        "# clase para implementar un grafo directo\n",
        "# utilizando una lista de adyacencia\n",
        "\n",
        "class Grafote:\n",
        "\n",
        "\t# constructor\n",
        "\tdef __init__(self):\n",
        "\t\t# diccionario para almacenar el grafo\n",
        "\t\tself.grafito = defaultdict(list)\n",
        "\n",
        "\t# agregar vertice\n",
        "\tdef agregaVertice(self, u, v):\n",
        "\t\tself.grafito[u].append(v)\n",
        "\n",
        "\t# Breadth-first search\n",
        "\tdef BFS(self, s):\n",
        "\t\t# marca los vertices como no visitados\n",
        "\t\tvisitado = [False] * (max(self.grafito) + 1)\n",
        "\n",
        "\t\t# crea una cola\n",
        "\t\tcola = []\n",
        "\n",
        "\t\t# marca como visitado\n",
        "\t\tcola.append(s)\n",
        "\t\tvisitado[s] = True\n",
        "\n",
        "\t\t# ciclo\n",
        "\t\twhile cola:\n",
        "\n",
        "\t\t\t# obtiene un vertice\n",
        "\t\t\ts = cola.pop(0)\n",
        "\t \t\t# y lo imprime\n",
        "\t\t\tprint(s, end=\" \")\n",
        "\n",
        "\t\t\t# verifica que todos los vertices sean visitados\n",
        "\t\t\tfor i in self.grafito[s]:\n",
        "\t\t\t\tif visitado[i] == False:\n",
        "\t\t\t\t\tcola.append(i)\n",
        "\t\t\t\t\tvisitado[i] = True\n"
      ]
    },
    {
      "cell_type": "code",
      "source": [
        "# grafo\n",
        "g = Grafote()\n",
        "g.agregaVertice(0, 1)\n",
        "g.agregaVertice(0, 2)\n",
        "g.agregaVertice(1, 2)\n",
        "g.agregaVertice(2, 0)\n",
        "g.agregaVertice(2, 3)\n",
        "g.agregaVertice(3, 3)\n"
      ],
      "metadata": {
        "id": "MbbykmTzShvK"
      },
      "execution_count": null,
      "outputs": []
    },
    {
      "cell_type": "code",
      "source": [
        "# prueba Breadth-first search\n",
        "n = 1\n",
        "\n",
        "print(\"Aplicación del algortimo Breadth First Traversal\"\\\n",
        "\t\t\t\"\\niniciando desde el vertíce n =\", n)\n",
        "\n",
        "g.BFS(n)"
      ],
      "metadata": {
        "colab": {
          "base_uri": "https://localhost:8080/"
        },
        "id": "0SZ6UEHvSmov",
        "outputId": "4ad273c2-0fb0-472b-c185-efcd98007207"
      },
      "execution_count": null,
      "outputs": [
        {
          "output_type": "stream",
          "name": "stdout",
          "text": [
            "Aplicación del algortimo Breadth First Traversal\n",
            "iniciando desde el vertíce n = 1\n",
            "1 2 0 3 "
          ]
        }
      ]
    }
  ]
}