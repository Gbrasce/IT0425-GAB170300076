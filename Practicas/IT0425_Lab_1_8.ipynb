{
  "nbformat": 4,
  "nbformat_minor": 0,
  "metadata": {
    "colab": {
      "provenance": []
    },
    "kernelspec": {
      "name": "python3",
      "display_name": "Python 3"
    },
    "language_info": {
      "name": "python"
    }
  },
  "cells": [
    {
      "cell_type": "markdown",
      "source": [
        "#IT0425 - Introducción a la Inteligencia Artificial\n",
        "\n",
        "### Otoño 2023\n",
        "\n",
        "### IT0425_Lab_1-8\n",
        "\n",
        "**Profesor Enrique Naredo García**\n",
        "\n",
        "<font size = 2>\n",
        "©️ Todos los derechos reservados. All rights reserved.\n",
        "\n",
        "*Nota: El presente documento es una herramienta diseñada única y exclusivamente para los estudiantes de la asignatura arriba mencionada. Se recuerda no compartir esta información fuera de los integrantes registrados en este curso. La reproducción total o parcial de este documento requiere autorización por escrito del titular del copyright.*\n",
        "</font>"
      ],
      "metadata": {
        "id": "IxKsEVlk4rKZ"
      }
    },
    {
      "cell_type": "markdown",
      "source": [
        "#Algoritmo de búsqueda A*"
      ],
      "metadata": {
        "id": "-DxUcp_Ko-ou"
      }
    },
    {
      "cell_type": "markdown",
      "source": [
        "La [heurística de búsqueda A*](https://es.wikipedia.org/wiki/Algoritmo_de_b%C3%BAsqueda_A*) (pronunciado \"A asterisco\", \"A estrella\" o \"A star\" en inglés) se clasifica dentro de los algoritmos de búsqueda en grafos de tipo heurístico o informado.\n",
        "\n",
        "* Presentado por primera vez en 1968 por Peter E. Hart, Nils J. Nilsson y Bertram Raphael.\n",
        "\n",
        "* El algoritmo A* encuentra soluciones, siempre y cuando se cumplan unas determinadas condiciones.\n",
        "\n",
        "* El algoritmo selecciona el camino de menor costo entre un estado inicial y otro final."
      ],
      "metadata": {
        "id": "onMC_0KznxG6"
      }
    },
    {
      "cell_type": "markdown",
      "source": [
        "El algoritmo A* utiliza una función de evaluación\n",
        "$$f (n) = g (n) + h(n)$$\n",
        "\n",
        "* donde $g(n)$, es el costo real del camino recorrido para llegar a un nodo (estado).\n",
        "* y $h(n)$, es el valor heurístico del nodo (estado) a evaluar hasta el estado final (objetivo)."
      ],
      "metadata": {
        "id": "SNmOynmhtMRS"
      }
    },
    {
      "cell_type": "markdown",
      "source": [
        "En este ejemplo, se muestra la implementación del algoritmo A* en Python."
      ],
      "metadata": {
        "id": "uu3zf9obpuTG"
      }
    },
    {
      "cell_type": "code",
      "source": [
        "# librerías\n",
        "from copy import deepcopy\n",
        "import numpy as np\n",
        "import time"
      ],
      "metadata": {
        "id": "r8EpKAK44RYS"
      },
      "execution_count": null,
      "outputs": []
    },
    {
      "cell_type": "code",
      "source": [
        "# estado inicial (lista)\n",
        "inicial = [2, 8, 3, 1, 6, 4, 7, 0, 5]"
      ],
      "metadata": {
        "id": "liGj1IwJ4j4d"
      },
      "execution_count": null,
      "outputs": []
    },
    {
      "cell_type": "code",
      "source": [
        "# convierte a matriz de 3x3\n",
        "inic_3x3 = np.array(inicial).reshape(3,3)\n",
        "print(inic_3x3)"
      ],
      "metadata": {
        "colab": {
          "base_uri": "https://localhost:8080/"
        },
        "id": "AxnooMAo-Jk6",
        "outputId": "2ce0742f-4417-4f13-f1a2-01b4f57295b0"
      },
      "execution_count": null,
      "outputs": [
        {
          "output_type": "stream",
          "name": "stdout",
          "text": [
            "[[2 8 3]\n",
            " [1 6 4]\n",
            " [7 0 5]]\n"
          ]
        }
      ]
    },
    {
      "cell_type": "code",
      "source": [
        "# muestra matriz sin corchetes\n",
        "print(str(inic_3x3).replace('[', ' ').replace(']', ''))"
      ],
      "metadata": {
        "colab": {
          "base_uri": "https://localhost:8080/"
        },
        "id": "ENAtCaua85WO",
        "outputId": "84c410e7-0c35-4a78-c316-6ed3c0e32159"
      },
      "execution_count": null,
      "outputs": [
        {
          "output_type": "stream",
          "name": "stdout",
          "text": [
            "  2 8 3\n",
            "  1 6 4\n",
            "  7 0 5\n"
          ]
        }
      ]
    },
    {
      "cell_type": "code",
      "source": [
        "# estado final\n",
        "final = [1, 2, 3, 8, 0, 4, 7, 6, 5]\n",
        "\n",
        "# convierte a matriz de 3x3\n",
        "final_3x3 = np.array(final).reshape(3,3)\n",
        "\n",
        "# muestra matriz sin corchetes\n",
        "print(str(final_3x3).replace('[', ' ').replace(']', ''))\n"
      ],
      "metadata": {
        "colab": {
          "base_uri": "https://localhost:8080/"
        },
        "id": "5eVfmL-O4lXu",
        "outputId": "315c2d00-18bb-433c-e129-2c1cd4ad7edc"
      },
      "execution_count": null,
      "outputs": [
        {
          "output_type": "stream",
          "name": "stdout",
          "text": [
            "  1 2 3\n",
            "  8 0 4\n",
            "  7 6 5\n"
          ]
        }
      ]
    },
    {
      "cell_type": "code",
      "source": [
        "# se usa tablero porque se actualiza con cada movimiento\n",
        "tablero = inicial"
      ],
      "metadata": {
        "id": "J7VF5koPlaYf"
      },
      "execution_count": null,
      "outputs": []
    },
    {
      "cell_type": "code",
      "source": [
        "# coordenadas\n",
        "def coordenadas(tablero):\n",
        "    pos = np.array(range(9))\n",
        "    for p, q in enumerate(tablero):\n",
        "      pos[q] = p\n",
        "    return pos\n"
      ],
      "metadata": {
        "id": "Qb-TfiaB4ZlG"
      },
      "execution_count": null,
      "outputs": []
    },
    {
      "cell_type": "code",
      "source": [
        "# solo de prueba\n",
        "def coordenadas2(tablero):\n",
        "    pos = np.array(range(9))\n",
        "    print(pos)\n",
        "    for p, q in enumerate(tablero):\n",
        "      print(p,q)\n",
        "      pos[q] = p\n",
        "      print(pos)\n",
        "    return pos"
      ],
      "metadata": {
        "id": "qlwkqEDyvzFN"
      },
      "execution_count": null,
      "outputs": []
    },
    {
      "cell_type": "code",
      "source": [
        "# muestra como opera enumerate\n",
        "coordenadas2(tablero)\n",
        "# indices -> [0, 1, 2, 3, 4, 5, 6, 7, 8]\n",
        "# tablero -> [2, 8, 3, 1, 6, 4, 7, 0, 5]\n",
        "# 1er iteración: tablero[0]=>2\n",
        "# pos[0]=2, tablero[2]=0\n",
        "# 2da iteración: tablero[1]=>8\n",
        "# pos[1]=8, tablero[8]=1"
      ],
      "metadata": {
        "colab": {
          "base_uri": "https://localhost:8080/"
        },
        "id": "Rq_3XC76tuSC",
        "outputId": "0917cc4c-d51f-447a-ff6f-19a4cd1e5a05"
      },
      "execution_count": null,
      "outputs": [
        {
          "output_type": "stream",
          "name": "stdout",
          "text": [
            "[0 1 2 3 4 5 6 7 8]\n",
            "0 2\n",
            "[0 1 0 3 4 5 6 7 8]\n",
            "1 8\n",
            "[0 1 0 3 4 5 6 7 1]\n",
            "2 3\n",
            "[0 1 0 2 4 5 6 7 1]\n",
            "3 1\n",
            "[0 3 0 2 4 5 6 7 1]\n",
            "4 6\n",
            "[0 3 0 2 4 5 4 7 1]\n",
            "5 4\n",
            "[0 3 0 2 5 5 4 7 1]\n",
            "6 7\n",
            "[0 3 0 2 5 5 4 6 1]\n",
            "7 0\n",
            "[7 3 0 2 5 5 4 6 1]\n",
            "8 5\n",
            "[7 3 0 2 5 8 4 6 1]\n"
          ]
        },
        {
          "output_type": "execute_result",
          "data": {
            "text/plain": [
              "array([7, 3, 0, 2, 5, 8, 4, 6, 1])"
            ]
          },
          "metadata": {},
          "execution_count": 9
        }
      ]
    },
    {
      "cell_type": "code",
      "source": [
        "# verifica la mejor solución\n",
        "def mejorSolucion(estado):\n",
        "    mejor = np.array([], int).reshape(-1, 9)\n",
        "    contador = len(estado) - 1\n",
        "    while contador != -1:\n",
        "        mejor = np.insert(mejor, 0, estado[contador]['tablero'], 0)\n",
        "        contador = (estado[contador]['nodo_padre'])\n",
        "    return mejor.reshape(-1, 3, 3)"
      ],
      "metadata": {
        "id": "hgm81esh4SwS"
      },
      "execution_count": null,
      "outputs": []
    },
    {
      "cell_type": "code",
      "source": [
        "# heurística: cantidad de cuadros (números) mal colocados\n",
        "def malColocados(tablero, final):\n",
        "    costo_mc = np.sum(tablero != final) - 1\n",
        "    return costo_mc if costo_mc > 0 else 0"
      ],
      "metadata": {
        "id": "k_CCUNDc4YUU"
      },
      "execution_count": null,
      "outputs": []
    },
    {
      "cell_type": "code",
      "source": [
        "# utiliza la heurística de cuadros mal colocados\n",
        "def Algo_UnaEstrellita(tablero, final):\n",
        "  movimientos = np.array([\n",
        "            ('N', [0, 1, 2], -3),\n",
        "            ('S', [6, 7, 8],  3),\n",
        "            ('O', [0, 3, 6], -1),\n",
        "            ('E', [2, 5, 8],  1)],\n",
        "            dtype = [('mueve',  str, 1),('posicion', list),('enfrente', int)]\n",
        "          )\n",
        "  # distancia\n",
        "  dist_estado = [('tablero',  list),('nodo_padre', int),('gn', int),('hn',  int)]\n",
        "  # costo a la meta\n",
        "  costo_meta = coordenadas(final)\n",
        "  # inicializa el nodo padre\n",
        "  nodo_padre = -1\n",
        "  # gn=costo_mov\n",
        "  gn = 0\n",
        "  # hn=valor_heuristico\n",
        "  hn = malColocados(coordenadas(tablero), costo_meta)\n",
        "  # estado actual\n",
        "  estado = np.array([(tablero, nodo_padre, gn, hn)], dist_estado)\n",
        "  # colas prioritarias con posicion como \"key\" y fn como \"valor\"\n",
        "  prioridad_cola = [('posicion', int),('fn', int)]\n",
        "  # prioridad\n",
        "  prioridad = np.array([(0, hn)], prioridad_cola)\n",
        "  # ciclo infinito (continuo)\n",
        "  while True:\n",
        "    # actualización de la prioridad\n",
        "    prioridad = np.sort(prioridad, kind='mergesort', order=['fn', 'posicion'])\n",
        "    # la más alta prioridad\n",
        "    posicion, fn = prioridad[0]\n",
        "    # ordena la prioridad de la cola, selecciona el 1er elemento por explorar\n",
        "    prioridad = np.delete(prioridad, 0, 0)\n",
        "    # actualiza heurística\n",
        "    tablero, nodo_padre, gn, hn = estado[posicion]\n",
        "    # y el tablero\n",
        "    tablero = np.array(tablero)\n",
        "    # hueco\n",
        "    hueco = int(np.where(tablero == 0)[0])\n",
        "    # siguiente valor de gn\n",
        "    gn = gn + 1\n",
        "    # contador\n",
        "    c = 1\n",
        "    # incia conteo de tiempo (reloj)\n",
        "    tiempo_inicial = time.time()\n",
        "    # ciclo de movimientos\n",
        "    for s in movimientos:\n",
        "      # contador\n",
        "      c = c + 1\n",
        "      # verifica que el hueco no este en la posición actual\n",
        "      if hueco not in s['posicion']:\n",
        "        # realiza una copia del estado actual del rompecabezas\n",
        "        estados_sinExplorar = deepcopy(tablero)\n",
        "        # entonces visita los estados sin explorar\n",
        "        estados_sinExplorar[hueco], estados_sinExplorar[hueco + s['enfrente']] =\\\n",
        "                   estados_sinExplorar[hueco + s['enfrente']], estados_sinExplorar[hueco]\n",
        "        # si no existe estados por explorar\n",
        "        if ~(np.all(list(estado['tablero']) == estados_sinExplorar, 1)).any():\n",
        "          # finaliza reloj\n",
        "          tiempo_final = time.time()\n",
        "          # compara el tiempo de ejecución\n",
        "          if (( tiempo_final - tiempo_inicial ) > 2):\n",
        "            # si es mayor a 2 seg, imprime:\n",
        "            print(\" El rompecabezas no se puede resolver.\\n\")\n",
        "            # y sale del ciclo for\n",
        "            break\n",
        "          # verifica los cuadros mal colocados\n",
        "          hn = malColocados(coordenadas(estados_sinExplorar), costo_meta)\n",
        "          # genera y agrega un nuevo estado a la cola\n",
        "          q = np.array([(estados_sinExplorar, posicion, gn, hn)], dist_estado)\n",
        "          # actualiza el estado actual\n",
        "          estado = np.append(estado, q, 0)\n",
        "          # fn es la sumatoria de los costos para moverse al nodo\n",
        "          fn = gn + hn\n",
        "          # actualiza el nuevo estado\n",
        "          q = np.array([(len(estado) - 1, fn)], prioridad_cola)\n",
        "          # asigna nueva prioridad al estado\n",
        "          prioridad = np.append(prioridad, q, 0)\n",
        "          # compara el estado actual al final (objtivo)\n",
        "          if np.array_equal(estados_sinExplorar, final):\n",
        "            # imprime que si se puede resolver\n",
        "            print(' El rompecabezas si se puede resolver. \\n')\n",
        "            # regresa el estado y su prioridad\n",
        "            return estado, len(prioridad)\n",
        "  # regresa el estado y su prioridad\n",
        "  return estado, len(prioridad)\n"
      ],
      "metadata": {
        "id": "PbhiW1mC4IXc"
      },
      "execution_count": null,
      "outputs": []
    },
    {
      "cell_type": "code",
      "source": [
        "# prueba algoritmo\n",
        "estado, visitado = Algo_UnaEstrellita(inicial, final)"
      ],
      "metadata": {
        "id": "PjXP7zOv7VOO",
        "colab": {
          "base_uri": "https://localhost:8080/"
        },
        "outputId": "e4337958-d0a7-481c-ac1a-a901708b8f51"
      },
      "execution_count": null,
      "outputs": [
        {
          "output_type": "stream",
          "name": "stdout",
          "text": [
            " El rompecabezas si se puede resolver. \n",
            "\n"
          ]
        }
      ]
    },
    {
      "cell_type": "code",
      "source": [
        "# verifica la mejor secuencia de movimientos\n",
        "mejorSecuencia = mejorSolucion(estado)"
      ],
      "metadata": {
        "id": "aDfxItKu7XP8"
      },
      "execution_count": null,
      "outputs": []
    },
    {
      "cell_type": "code",
      "source": [
        "# imprime la mejor secuencia\n",
        "print(str(mejorSecuencia).replace('[', ' ').replace(']', ''))"
      ],
      "metadata": {
        "colab": {
          "base_uri": "https://localhost:8080/"
        },
        "id": "F0AgT_Bu7ZV4",
        "outputId": "b99a3f2d-2c2e-4d28-c7bb-b8a313aeccd2"
      },
      "execution_count": null,
      "outputs": [
        {
          "output_type": "stream",
          "name": "stdout",
          "text": [
            "   2 8 3\n",
            "   1 6 4\n",
            "   7 0 5\n",
            "\n",
            "   2 8 3\n",
            "   1 0 4\n",
            "   7 6 5\n",
            "\n",
            "   2 0 3\n",
            "   1 8 4\n",
            "   7 6 5\n",
            "\n",
            "   0 2 3\n",
            "   1 8 4\n",
            "   7 6 5\n",
            "\n",
            "   1 2 3\n",
            "   0 8 4\n",
            "   7 6 5\n",
            "\n",
            "   1 2 3\n",
            "   8 0 4\n",
            "   7 6 5\n"
          ]
        }
      ]
    },
    {
      "cell_type": "code",
      "source": [
        "# muestra la cantidad total de movimientos\n",
        "totalMovimientos = len(mejorSecuencia) - 1\n",
        "print('\\nMovimientos para resolver el rompecabezas:',totalMovimientos)"
      ],
      "metadata": {
        "colab": {
          "base_uri": "https://localhost:8080/"
        },
        "id": "B1I6qFgcogEe",
        "outputId": "ad911847-19d6-4963-e6db-4c1f0d21b9f9"
      },
      "execution_count": null,
      "outputs": [
        {
          "output_type": "stream",
          "name": "stdout",
          "text": [
            "\n",
            "Movimientos para resolver el rompecabezas: 5\n"
          ]
        }
      ]
    },
    {
      "cell_type": "code",
      "source": [
        "# muestra el número de nodos visitados\n",
        "numVisitados = len(estado) - visitado\n",
        "print('Total de nodos visitados: ',numVisitados, \"\\n\")"
      ],
      "metadata": {
        "colab": {
          "base_uri": "https://localhost:8080/"
        },
        "id": "f5JclsTV4iNO",
        "outputId": "ec9e3b59-3805-4645-d976-6dec9eea6934"
      },
      "execution_count": null,
      "outputs": [
        {
          "output_type": "stream",
          "name": "stdout",
          "text": [
            "Total de nodos visitados:  6 \n",
            "\n"
          ]
        }
      ]
    }
  ]
}