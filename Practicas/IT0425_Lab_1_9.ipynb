{
  "nbformat": 4,
  "nbformat_minor": 0,
  "metadata": {
    "colab": {
      "provenance": []
    },
    "kernelspec": {
      "name": "python3",
      "display_name": "Python 3"
    },
    "language_info": {
      "name": "python"
    }
  },
  "cells": [
    {
      "cell_type": "markdown",
      "source": [
        "#IT0425 - Introducción a la Inteligencia Artificial\n",
        "\n",
        "### Otoño 2023\n",
        "\n",
        "### IT0425_Lab_1-9\n",
        "\n",
        "**Profesor Enrique Naredo García**\n",
        "\n",
        "<font size = 2>\n",
        "©️ Todos los derechos reservados. All rights reserved.\n",
        "\n",
        "*Nota: El presente documento es una herramienta diseñada única y exclusivamente para los estudiantes de la asignatura arriba mencionada. Se recuerda no compartir esta información fuera de los integrantes registrados en este curso. La reproducción total o parcial de este documento requiere autorización por escrito del titular del copyright.*\n",
        "</font>"
      ],
      "metadata": {
        "id": "J1TmdEMkJU8I"
      }
    },
    {
      "cell_type": "markdown",
      "source": [
        "## Juego del Gato en Python"
      ],
      "metadata": {
        "id": "pqgL95V4BWKL"
      }
    },
    {
      "cell_type": "markdown",
      "source": [
        "Este es un ejemplo usando input para interactuar con el usuario."
      ],
      "metadata": {
        "id": "Qb8K3NZjI5C0"
      }
    },
    {
      "cell_type": "markdown",
      "source": [
        "##Tablero"
      ],
      "metadata": {
        "id": "ZPAPaR5wH0vQ"
      }
    },
    {
      "cell_type": "code",
      "source": [
        "# lista vacia de 9 espacios\n",
        "lista = [\" \" for x in range(9)]\n",
        "print(lista)"
      ],
      "metadata": {
        "colab": {
          "base_uri": "https://localhost:8080/"
        },
        "id": "tgU3UKymBUoP",
        "outputId": "881e1e4e-29ab-4db3-ee40-996e5505a185"
      },
      "execution_count": 1,
      "outputs": [
        {
          "output_type": "stream",
          "name": "stdout",
          "text": [
            "[' ', ' ', ' ', ' ', ' ', ' ', ' ', ' ', ' ']\n"
          ]
        }
      ]
    },
    {
      "cell_type": "code",
      "source": [
        "# define tablero\n",
        "fila1 = \"| {} | {} | {} |\".format(lista[0], lista[1], lista[2])\n",
        "fila2 = \"| {} | {} | {} |\".format(lista[3], lista[4], lista[5])\n",
        "fila3 = \"| {} | {} | {} |\".format(lista[6], lista[7], lista[8])"
      ],
      "metadata": {
        "id": "MNVqFFLPDWfR"
      },
      "execution_count": 2,
      "outputs": []
    },
    {
      "cell_type": "code",
      "source": [
        "# imprime tablero\n",
        "print()\n",
        "print('+---+---+---+')\n",
        "print(fila1)\n",
        "print('+---+---+---+')\n",
        "print(fila2)\n",
        "print('+---+---+---+')\n",
        "print(fila3)\n",
        "print('+---+---+---+')\n",
        "print()"
      ],
      "metadata": {
        "colab": {
          "base_uri": "https://localhost:8080/"
        },
        "id": "yCWnMg8NBdyv",
        "outputId": "f922733f-8c03-410a-ccbe-16311db7f74e"
      },
      "execution_count": 3,
      "outputs": [
        {
          "output_type": "stream",
          "name": "stdout",
          "text": [
            "\n",
            "+---+---+---+\n",
            "|   |   |   |\n",
            "+---+---+---+\n",
            "|   |   |   |\n",
            "+---+---+---+\n",
            "|   |   |   |\n",
            "+---+---+---+\n",
            "\n"
          ]
        }
      ]
    },
    {
      "cell_type": "markdown",
      "source": [
        "##Jugador 1"
      ],
      "metadata": {
        "id": "68TQKaT6H3Mg"
      }
    },
    {
      "cell_type": "code",
      "source": [
        "# jugador 1, juega con \"X\"\n",
        "seleccion1 = int(input(\"Selecciona del 1 al 9: \").strip())\n",
        "print(\"seleccionaste el: \", seleccion1)"
      ],
      "metadata": {
        "colab": {
          "base_uri": "https://localhost:8080/"
        },
        "id": "KCx65VabGNdO",
        "outputId": "5e4c1990-1000-42c6-c764-2a7b0e4be386"
      },
      "execution_count": 4,
      "outputs": [
        {
          "output_type": "stream",
          "name": "stdout",
          "text": [
            "Selecciona del 1 al 9: 2\n",
            "seleccionaste el:  2\n"
          ]
        }
      ]
    },
    {
      "cell_type": "code",
      "source": [
        "# asigna selección en tablero\n",
        "# de jugador 1 que juega con \"X\"\n",
        "lista[seleccion1-1] = \"X\""
      ],
      "metadata": {
        "id": "Ozu_gcWjiqWe"
      },
      "execution_count": 5,
      "outputs": []
    },
    {
      "cell_type": "code",
      "source": [
        "# muestra la lista\n",
        "print(lista)"
      ],
      "metadata": {
        "colab": {
          "base_uri": "https://localhost:8080/"
        },
        "id": "r8kmAGAVkUaM",
        "outputId": "e9116511-1318-4f18-ebbf-c7b0e54444e4"
      },
      "execution_count": 6,
      "outputs": [
        {
          "output_type": "stream",
          "name": "stdout",
          "text": [
            "[' ', 'X', ' ', ' ', ' ', ' ', ' ', ' ', ' ']\n"
          ]
        }
      ]
    },
    {
      "cell_type": "code",
      "source": [
        "# define tablero\n",
        "fila1 = \"| {} | {} | {} |\".format(lista[0], lista[1], lista[2])\n",
        "fila2 = \"| {} | {} | {} |\".format(lista[3], lista[4], lista[5])\n",
        "fila3 = \"| {} | {} | {} |\".format(lista[6], lista[7], lista[8])"
      ],
      "metadata": {
        "id": "Blvly1vCkkwh"
      },
      "execution_count": 7,
      "outputs": []
    },
    {
      "cell_type": "code",
      "source": [
        "# imprime tablero\n",
        "print()\n",
        "print('+---+---+---+')\n",
        "print(fila1)\n",
        "print('+---+---+---+')\n",
        "print(fila2)\n",
        "print('+---+---+---+')\n",
        "print(fila3)\n",
        "print('+---+---+---+')\n",
        "print()"
      ],
      "metadata": {
        "colab": {
          "base_uri": "https://localhost:8080/"
        },
        "id": "1RSfOEYPjN2y",
        "outputId": "465d4d77-a7b8-4c6c-bafc-bcb6432e9e8f"
      },
      "execution_count": 8,
      "outputs": [
        {
          "output_type": "stream",
          "name": "stdout",
          "text": [
            "\n",
            "+---+---+---+\n",
            "|   | X |   |\n",
            "+---+---+---+\n",
            "|   |   |   |\n",
            "+---+---+---+\n",
            "|   |   |   |\n",
            "+---+---+---+\n",
            "\n"
          ]
        }
      ]
    },
    {
      "cell_type": "code",
      "source": [
        "# jugador 2, juega con \"O\"\n",
        "seleccion2 = int(input(\"Selecciona del 1 al 9: \").strip())\n",
        "print(\"seleccionaste el: \", seleccion2)"
      ],
      "metadata": {
        "id": "eqCewOIpGcTP",
        "colab": {
          "base_uri": "https://localhost:8080/"
        },
        "outputId": "88af4fb5-4a6c-4bc0-c8e7-9f73086a1e25"
      },
      "execution_count": 9,
      "outputs": [
        {
          "output_type": "stream",
          "name": "stdout",
          "text": [
            "Selecciona del 1 al 9: 5\n",
            "seleccionaste el:  5\n"
          ]
        }
      ]
    },
    {
      "cell_type": "markdown",
      "source": [
        "##Jugador 2"
      ],
      "metadata": {
        "id": "dMT6PpJ3H-DV"
      }
    },
    {
      "cell_type": "code",
      "source": [
        "# asigna selección en tablero\n",
        "# de jugador 2 que juega con \"O\"\n",
        "lista[seleccion2-1] = \"O\""
      ],
      "metadata": {
        "id": "RPMVxeVTjwyW"
      },
      "execution_count": 10,
      "outputs": []
    },
    {
      "cell_type": "code",
      "source": [
        "# muestra la lista\n",
        "print(lista)"
      ],
      "metadata": {
        "colab": {
          "base_uri": "https://localhost:8080/"
        },
        "id": "6bi6BXzYkOPc",
        "outputId": "ad07299e-2a8d-4378-a74d-044a6bdcb4a8"
      },
      "execution_count": 11,
      "outputs": [
        {
          "output_type": "stream",
          "name": "stdout",
          "text": [
            "[' ', 'X', ' ', ' ', 'O', ' ', ' ', ' ', ' ']\n"
          ]
        }
      ]
    },
    {
      "cell_type": "code",
      "source": [
        "# define tablero\n",
        "fila1 = \"| {} | {} | {} |\".format(lista[0], lista[1], lista[2])\n",
        "fila2 = \"| {} | {} | {} |\".format(lista[3], lista[4], lista[5])\n",
        "fila3 = \"| {} | {} | {} |\".format(lista[6], lista[7], lista[8])"
      ],
      "metadata": {
        "id": "aK45mp70knGP"
      },
      "execution_count": 12,
      "outputs": []
    },
    {
      "cell_type": "code",
      "source": [
        "# imprime tablero\n",
        "print()\n",
        "print('+---+---+---+')\n",
        "print(fila1)\n",
        "print('+---+---+---+')\n",
        "print(fila2)\n",
        "print('+---+---+---+')\n",
        "print(fila3)\n",
        "print('+---+---+---+')\n",
        "print()"
      ],
      "metadata": {
        "colab": {
          "base_uri": "https://localhost:8080/"
        },
        "id": "ldN9htOZjwvP",
        "outputId": "20313b60-41a7-4ee9-d114-5c72cd8fd46a"
      },
      "execution_count": 13,
      "outputs": [
        {
          "output_type": "stream",
          "name": "stdout",
          "text": [
            "\n",
            "+---+---+---+\n",
            "|   | X |   |\n",
            "+---+---+---+\n",
            "|   | O |   |\n",
            "+---+---+---+\n",
            "|   |   |   |\n",
            "+---+---+---+\n",
            "\n"
          ]
        }
      ]
    },
    {
      "cell_type": "markdown",
      "source": [
        "##Formas de ganar"
      ],
      "metadata": {
        "id": "Dpit9J_zIahg"
      }
    },
    {
      "cell_type": "code",
      "source": [
        "# jugador 1, juega con \"X\"\n",
        "letra_X = \"X\"\n",
        "# jugador 2, juega con \"O\"\n",
        "letra_O = \"O\""
      ],
      "metadata": {
        "id": "pGlSIAHQnIVr"
      },
      "execution_count": 15,
      "outputs": []
    },
    {
      "cell_type": "code",
      "source": [
        "# asigna simbolo a jugador 1\n",
        "simbolo = letra_X\n",
        "# asigna simbolo a jugador 2\n",
        "#simbolo = letra_O"
      ],
      "metadata": {
        "id": "5EN7g_PknlKX"
      },
      "execution_count": 16,
      "outputs": []
    },
    {
      "cell_type": "code",
      "source": [
        "# checa si jugador gana horizontalmente\n",
        "(lista[0] == simbolo and lista[1] == simbolo and lista[2] == simbolo) or \\\n",
        "(lista[3] == simbolo and lista[4] == simbolo and lista[5] == simbolo) or \\\n",
        "(lista[6] == simbolo and lista[7] == simbolo and lista[8] == simbolo)\n"
      ],
      "metadata": {
        "colab": {
          "base_uri": "https://localhost:8080/"
        },
        "id": "NiG8lqT6m5dp",
        "outputId": "c05754ac-d163-4af8-ee98-d2cad550d383"
      },
      "execution_count": 17,
      "outputs": [
        {
          "output_type": "execute_result",
          "data": {
            "text/plain": [
              "False"
            ]
          },
          "metadata": {},
          "execution_count": 17
        }
      ]
    },
    {
      "cell_type": "code",
      "source": [
        "# checa si jugador gana diagonalmente\n",
        "(lista[0] == simbolo and lista[4] == simbolo and lista[8] == simbolo) or \\\n",
        "(lista[2] == simbolo and lista[4] == simbolo and lista[6] == simbolo)"
      ],
      "metadata": {
        "colab": {
          "base_uri": "https://localhost:8080/"
        },
        "id": "GZohwJ5zn6YG",
        "outputId": "b4f6debc-c92b-4a3f-de5e-bc88687caad2"
      },
      "execution_count": 18,
      "outputs": [
        {
          "output_type": "execute_result",
          "data": {
            "text/plain": [
              "False"
            ]
          },
          "metadata": {},
          "execution_count": 18
        }
      ]
    },
    {
      "cell_type": "code",
      "source": [
        "if \" \" not in lista:\n",
        "  print(\"Juego terminado.\")"
      ],
      "metadata": {
        "id": "9uyLdUe3pTPE"
      },
      "execution_count": 19,
      "outputs": []
    }
  ]
}