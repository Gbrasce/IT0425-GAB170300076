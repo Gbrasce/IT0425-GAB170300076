{
  "nbformat": 4,
  "nbformat_minor": 0,
  "metadata": {
    "colab": {
      "provenance": []
    },
    "kernelspec": {
      "name": "python3",
      "display_name": "Python 3"
    },
    "language_info": {
      "name": "python"
    }
  },
  "cells": [
    {
      "cell_type": "markdown",
      "source": [
        "#IT0425 - Introducción a la Inteligencia Artificial\n",
        "\n",
        "### Otoño 2023\n",
        "\n",
        "### IT0425_Lab_2.1\n",
        "\n",
        "**Profesor Enrique Naredo García**\n",
        "\n",
        "<font size = 2>\n",
        "©️ Todos los derechos reservados. All rights reserved.\n",
        "\n",
        "*Nota: El presente documento es una herramienta diseñada única y exclusivamente para los estudiantes de la asignatura arriba mencionada. Se recuerda no compartir esta información fuera de los integrantes registrados en este curso. La reproducción total o parcial de este documento requiere autorización por escrito del titular del copyright.*\n",
        "</font>"
      ],
      "metadata": {
        "id": "GofErTFr6ine"
      }
    },
    {
      "cell_type": "markdown",
      "source": [
        "## Lógica Proposicional"
      ],
      "metadata": {
        "id": "SrpDdKxdDdgd"
      }
    },
    {
      "cell_type": "markdown",
      "source": [
        "La [lógica proposicional](https://es.wikipedia.org/wiki/L%C3%B3gica_proposicional), también llamada lógica de enunciados, lógica de orden cero o cálculo proposicional, es un sistema formal cuyos elementos más simples representan proposiciones o enunciados, y cuyas constantes lógicas, llamadas conectivas lógicas, representan operaciones sobre proposiciones, capaces de formar otras proposiciones de mayor complejidad."
      ],
      "metadata": {
        "id": "EooqjD-a68Vv"
      }
    },
    {
      "cell_type": "markdown",
      "source": [
        "Una proposición es una oración que declara un hecho que es Verdadero o Falso.\n"
      ],
      "metadata": {
        "id": "Wzg_k3vSU0D_"
      }
    },
    {
      "cell_type": "code",
      "source": [
        "# proposición lógica\n",
        "p = \"Hoy es viernes\"\n",
        "print(p)"
      ],
      "metadata": {
        "id": "tiCfESHnR_Zl",
        "colab": {
          "base_uri": "https://localhost:8080/"
        },
        "outputId": "a5e69aeb-447c-4c7c-a2d4-16811bd9f24b"
      },
      "execution_count": 1,
      "outputs": [
        {
          "output_type": "stream",
          "name": "stdout",
          "text": [
            "Hoy es viernes\n"
          ]
        }
      ]
    },
    {
      "cell_type": "markdown",
      "source": [
        "**Ejemplo - Proposiciones**\n",
        "\n",
        "* Atlanta is the capital of Iowa.\n",
        "* 1 + 1 es 2.\n",
        "* 1 + 1 es 3.\n",
        "\n",
        "**Estas no son proposiciones**\n",
        "\n",
        "* Cuanto cuesta este pastel?\n",
        "* Esta oración es falsa.\n",
        "\n"
      ],
      "metadata": {
        "id": "D0urEsPWU6Fn"
      }
    },
    {
      "cell_type": "markdown",
      "source": [
        "\n",
        "La lógica proposicional consiste en un conjunto de reglas formales para combinar proposiciones con el fin de derivar nuevas proposiciones.\n",
        "\n",
        "* En Python, podemos usar variables booleanas (típicamente $p$\n",
        "y $q$) para representar proposiciones y definir funciones para cada regla proposicional.\n",
        "\n",
        "* Cada regla se puede implementar usando los operadores booleanos (and, or, not) discutidos en la sección sobre operadores y expresiones.\n",
        "\n",
        "* Una tabla de verdad es un método para mostrar los valores de verdad de proposiciones compuestas utilizando los valores de verdad de sus componentes.\n",
        "\n",
        "* Por lo general, se crea con filas que representan posibles valores de verdad y columnas que representan las proposiciones.\n"
      ],
      "metadata": {
        "id": "BHsTM7MqU6Md"
      }
    },
    {
      "cell_type": "markdown",
      "source": [
        "### Negación\n",
        "\n",
        "La negación es un enunciado que tiene el valor de verdad opuesto.\n",
        "\n",
        "* La negación de una proposición $p$, denotada por $¬p$, es la proposición \"No es el caso, que $p$\".\n",
        "\n",
        "* Por ejemplo, la negación de la proposición \"Hoy es viernes\", sería; \"No se da el caso de que hoy sea viernes\" o más sucintamente; \"Hoy no es viernes\"."
      ],
      "metadata": {
        "id": "Mhx-2dVhVQJW"
      }
    },
    {
      "cell_type": "markdown",
      "source": [
        "|    p    |    ¬p    |\n",
        "| :-----: | :------: |\n",
        "| True    | False    |\n",
        "|\tFalse   | True     |\n",
        "\n",
        "\n"
      ],
      "metadata": {
        "id": "qeGhMuvZVe1J"
      }
    },
    {
      "cell_type": "markdown",
      "source": [
        "**Ejercicio**\n",
        "\n",
        "Repitan la tabla de verdad anterior en la siguiente celda utilizando palabras en español."
      ],
      "metadata": {
        "id": "Ah_HyrC-CR_N"
      }
    },
    {
      "cell_type": "markdown",
      "source": [
        "**-> Aquí creen la tabla de verdad y eliminen este comentario**"
      ],
      "metadata": {
        "id": "Hje1YY04CSrd"
      }
    },
    {
      "cell_type": "markdown",
      "source": [
        "**Ejemplo 2 - Negación en Python**\n",
        "\n",
        "El siguiente código imprime la tabla de verdad para la negación. Intente predecir los nombres de las variables, los valores y los tipos de datos en diferentes pasos de la ejecución."
      ],
      "metadata": {
        "id": "0jLU0J4hWr-B"
      }
    },
    {
      "cell_type": "code",
      "source": [
        "# Negación\n",
        "def negacion(p):\n",
        "    return not p\n",
        "\n",
        "print(\"p    a\")\n",
        "for p in [True, False]:\n",
        "    a = negacion(p)\n",
        "    print(p, a)"
      ],
      "metadata": {
        "colab": {
          "base_uri": "https://localhost:8080/"
        },
        "id": "lplNjWzcR_XO",
        "outputId": "84576264-c603-4eaf-9395-a3d6441e32f8"
      },
      "execution_count": 2,
      "outputs": [
        {
          "output_type": "stream",
          "name": "stdout",
          "text": [
            "p    a\n",
            "True False\n",
            "False True\n"
          ]
        }
      ]
    },
    {
      "cell_type": "markdown",
      "source": [
        "### Conjunción\n",
        "\n",
        "Sean $p$ y $q$ proposiciones.\n",
        "\n",
        "La conjunción de $p$ y $q$, denotada en matemáticas por $p∧q$, es Verdadera cuando tanto $p$ como $q$ son Verdaderas, Falsa en caso contrario.\n",
        "\n",
        "* \"Soy una roca **y** soy una isla\"."
      ],
      "metadata": {
        "id": "7cWGf5p6TIMc"
      }
    },
    {
      "cell_type": "markdown",
      "source": [
        "|    p    |    q     |    p∧q  |\n",
        "| :-----: | :------: |:------: |\n",
        "| True    | True     | True    |\n",
        "| True    | False    | False   |\n",
        "| False   | True     | False   |\n",
        "| False   | False    | False   |\n"
      ],
      "metadata": {
        "id": "sltcYyrxW1Rw"
      }
    },
    {
      "cell_type": "markdown",
      "source": [
        "**Ejercicio**\n",
        "\n",
        "Repitan la tabla de verdad anterior en la siguiente celda utilizando palabras en español."
      ],
      "metadata": {
        "id": "HWVfJ9ObCwvf"
      }
    },
    {
      "cell_type": "markdown",
      "source": [
        "**-> Aquí creen la tabla de verdad y eliminen este comentario**"
      ],
      "metadata": {
        "id": "U7Lm6unfCwvf"
      }
    },
    {
      "cell_type": "markdown",
      "source": [
        "**Ejemplo 3 - Conjunción en Python**\n",
        "\n",
        "El siguiente código imprime la tabla de verdad para la conjunción.\n",
        "\n",
        "Intente predecir los nombres de las variables, los valores y los tipos de datos en diferentes pasos de la ejecución."
      ],
      "metadata": {
        "id": "KpUgbpb8X6dU"
      }
    },
    {
      "cell_type": "code",
      "source": [
        "# conjunción\n",
        "def conjuncion(p, q):\n",
        "    return p and q\n",
        "\n",
        "print(\"p    q    a\")\n",
        "for p in [True, False]:\n",
        "    for q in [True, False]:\n",
        "        a = conjuncion(p, q)\n",
        "        print(p, q, a)"
      ],
      "metadata": {
        "id": "QdSpqltER_S3",
        "colab": {
          "base_uri": "https://localhost:8080/"
        },
        "outputId": "3f7d1b63-9c86-480e-8563-e6021ec94415"
      },
      "execution_count": 3,
      "outputs": [
        {
          "output_type": "stream",
          "name": "stdout",
          "text": [
            "p    q    a\n",
            "True True True\n",
            "True False False\n",
            "False True False\n",
            "False False False\n"
          ]
        }
      ]
    },
    {
      "cell_type": "markdown",
      "source": [
        "###Disyunción\n",
        "\n",
        "* Sea $p$ y $q$ sean proposiciones.\n",
        "\n",
        "* La disyunción de $p$ y $q$, denotada en matemáticas por $p∨q$, es Verdadera cuando al menos uno de $p$ y $q$ son Verdaderos, y es Falsa en caso contrario.\n",
        "\n",
        "* \"Estudió mucho **o** es extremadamente brillante\"."
      ],
      "metadata": {
        "id": "tdgbnuxpTcKU"
      }
    },
    {
      "cell_type": "markdown",
      "source": [
        "|    p    |    q     |    p∨q  |\n",
        "| :-----: | :------: |:------: |\n",
        "| True    | True     | True    |\n",
        "| True    | False    | True    |\n",
        "| False   | True     | True    |\n",
        "| False   | False    | False   |"
      ],
      "metadata": {
        "id": "gdfpPCavYUWp"
      }
    },
    {
      "cell_type": "markdown",
      "source": [
        "**Ejercicio**\n",
        "\n",
        "Repitan la tabla de verdad anterior en la siguiente celda utilizando palabras en español."
      ],
      "metadata": {
        "id": "rqS3JFFxCzkq"
      }
    },
    {
      "cell_type": "markdown",
      "source": [
        "**-> Aquí creen la tabla de verdad y eliminen este comentario**"
      ],
      "metadata": {
        "id": "QCpGQnw9Czkr"
      }
    },
    {
      "cell_type": "markdown",
      "source": [
        "**Ejemplo 4 - Disyunción en Python**\n",
        "\n",
        "El siguiente código imprime la tabla de verdad para la disyunción.\n",
        "\n",
        "Intente predecir los nombres de las variables, los valores y los tipos de datos en diferentes pasos de la ejecución."
      ],
      "metadata": {
        "id": "dWfW1vBtYH2_"
      }
    },
    {
      "cell_type": "code",
      "source": [
        "# disyunción\n",
        "def disjuncion(p, q):\n",
        "    return p or q\n",
        "\n",
        "print(\"p    q    a\")\n",
        "for p in [True, False]:\n",
        "    for q in [True, False]:\n",
        "        a = disjuncion(p, q)\n",
        "        print(p, q, a)"
      ],
      "metadata": {
        "id": "7d6YSNhxR_RO",
        "colab": {
          "base_uri": "https://localhost:8080/"
        },
        "outputId": "4c9c5dab-cca8-4fab-f0c4-3460db1ad820"
      },
      "execution_count": 4,
      "outputs": [
        {
          "output_type": "stream",
          "name": "stdout",
          "text": [
            "p    q    a\n",
            "True True True\n",
            "True False True\n",
            "False True True\n",
            "False False False\n"
          ]
        }
      ]
    },
    {
      "cell_type": "markdown",
      "source": [
        "### Disyunción exclusiva\n",
        "\n",
        "Sean p y q proposiciones.\n",
        "\n",
        "La disyunción exclusiva de $p$ y $q$ (también conocida como $xor$, denotada en matemáticas por $p⊕q$, es Verdadera cuando exactamente uno de $p$ y $q$ son Verdaderos, Falsa en caso contrario.\n",
        "\n",
        "* La disyunción exclusiva puede pensarse como una u otra, pero no como ambas.\n",
        "\n",
        "* \"Toma 2 aspririnas o 2 tylenol\"."
      ],
      "metadata": {
        "id": "gMvDm0eiKEVn"
      }
    },
    {
      "cell_type": "markdown",
      "source": [
        "**Ejercicio**\n",
        "\n",
        "En la siguiente celda completa la tabla correspondiente a la disyunción exclusiva."
      ],
      "metadata": {
        "id": "5BRmwO_F-0RP"
      }
    },
    {
      "cell_type": "markdown",
      "source": [
        "|    p    |    q     |    p⊕q  |\n",
        "| :-----: | :------: |:------: |\n",
        "| True    | True     | False   |\n"
      ],
      "metadata": {
        "id": "lf_LI7kRKQiK"
      }
    },
    {
      "cell_type": "markdown",
      "source": [
        "**Ejercicio - Disyunción exclusiva en Python**\n",
        "\n",
        "En ell siguiente código complete las instrucciones para que se imprima la tabla de verdad de la disyunción exclusiva."
      ],
      "metadata": {
        "id": "PKVyBmIKKosB"
      }
    },
    {
      "cell_type": "code",
      "source": [
        "# disyunción exclusiva\n",
        "def XOR(p, q):\n",
        "    return (p and not q) or (not p and q)\n",
        "\n",
        "print(\"p    q    a\")\n",
        "for p in [True, False]:\n",
        "    for q in [True, False]:\n",
        "        a = XOR(p, q)\n",
        "        print(p, q, a)"
      ],
      "metadata": {
        "id": "rZGwuZ1aR_PY",
        "colab": {
          "base_uri": "https://localhost:8080/"
        },
        "outputId": "ff9d387e-a5d1-4fd2-b58c-cbf3ac7a89a9"
      },
      "execution_count": 7,
      "outputs": [
        {
          "output_type": "stream",
          "name": "stdout",
          "text": [
            "p    q    a\n",
            "True True False\n",
            "True False True\n",
            "False True True\n",
            "False False False\n"
          ]
        }
      ]
    }
  ]
}
