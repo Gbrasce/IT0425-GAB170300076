{
  "nbformat": 4,
  "nbformat_minor": 0,
  "metadata": {
    "colab": {
      "provenance": []
    },
    "kernelspec": {
      "name": "python3",
      "display_name": "Python 3"
    },
    "language_info": {
      "name": "python"
    }
  },
  "cells": [
    {
      "cell_type": "markdown",
      "source": [
        "#IT0425 - Introducción a la Inteligencia Artificial\n",
        "\n",
        "### Otoño 2023\n",
        "\n",
        "### IT0425_Lab_2.9\n",
        "\n",
        "**Profesor Enrique Naredo García**\n",
        "\n",
        "<font size = 2>\n",
        "©️ Todos los derechos reservados. All rights reserved.\n",
        "\n",
        "*Nota: El presente documento es una herramienta diseñada única y exclusivamente para los estudiantes de la asignatura arriba mencionada. Se recuerda no compartir esta información fuera de los integrantes registrados en este curso. La reproducción total o parcial de este documento requiere autorización por escrito del titular del copyright.*\n",
        "</font>"
      ],
      "metadata": {
        "id": "vzwvRW9UyCb3"
      }
    },
    {
      "cell_type": "markdown",
      "source": [
        "#Clasificación de SPAM"
      ],
      "metadata": {
        "id": "2BjQfWTR_Ml5"
      }
    },
    {
      "cell_type": "markdown",
      "source": [
        "El concepto de \"[spam](http://archive.ics.uci.edu/dataset/94/spambase)\" es diverso: anuncios de productos/sitios web, esquemas para ganar dinero rápidamente, cartas en cadena, pornografía, etc.\n",
        "\n",
        "* El conjunto de datos es obtenido de la página de UCI Machine Learning Repository.\n",
        "* La colección de correos electrónicos no deseados provino del administrador de correo (UCI) y de personas que habían enviado spam.\n",
        "* La tarea de clasificación de este conjunto de datos es determinar si un correo electrónico determinado es spam o no.\n",
        "* Para más información sobre spam: Cranor, Lorrie F., LaMacchia, Brian A. Spam!, Communications of the ACM, 41(8):74-83, 1998.\n",
        "* El rendimiento típico es de aproximadamente un 7 % de error de clasificación errónea.\n",
        "* Los falsos positivos (marcar el correo bueno como spam) son muy indeseables.\n",
        "* Si insistimos en cero falsos positivos en el conjunto de entrenamiento/prueba, entre el 20 y el 25 % del spam pasó por el filtro.\n",
        "* Consulta también el Informe técnico exclusivo interno de Hewlett-Packard. Versión externa próximamente."
      ],
      "metadata": {
        "id": "dQ9yjsWF_qX3"
      }
    },
    {
      "cell_type": "markdown",
      "source": [
        "La colección de [spam](https://www.kaggle.com/datasets/uciml/sms-spam-collection-dataset) de SMS es un conjunto de mensajes SMS etiquetados que se han recopilado para la investigación de spam de SMS.\n",
        "* Contiene un conjunto de mensajes SMS en inglés de 5.574 mensajes, etiquetados según sean ham (legítimos) o spam.\n",
        "* The files contain one message per line.\n",
        "* Cada línea está compuesta por dos columnas: v1 contiene la etiqueta (ham o spam) y v2 contiene el texto sin formato."
      ],
      "metadata": {
        "id": "DLAorXBf-cL3"
      }
    },
    {
      "cell_type": "markdown",
      "source": [
        "## DEAP\n",
        "[DEAP](https://deap.readthedocs.io/en/master/index.html) es un novedoso marco de cálculo evolutivo para la creación rápida de prototipos y pruebas de ideas.\n",
        "* Busca hacer explícitos los algoritmos y transparentes las estructuras de datos.\n",
        "* Funciona en perfecta armonía con mecanismos de paralelización como el multiprocesamiento y SCOOP.\n",
        "* La siguiente documentación presenta los conceptos clave y muchas características para construir sus propias evoluciones."
      ],
      "metadata": {
        "id": "8QbVx3ybA-Ec"
      }
    },
    {
      "cell_type": "code",
      "source": [
        "!pip install deap"
      ],
      "metadata": {
        "colab": {
          "base_uri": "https://localhost:8080/"
        },
        "id": "G71EtUc7yIoD",
        "outputId": "47b51d71-c347-4714-a708-8261766b6925"
      },
      "execution_count": 1,
      "outputs": [
        {
          "output_type": "stream",
          "name": "stdout",
          "text": [
            "Requirement already satisfied: deap in /usr/local/lib/python3.10/dist-packages (1.4.1)\n",
            "Requirement already satisfied: numpy in /usr/local/lib/python3.10/dist-packages (from deap) (1.23.5)\n"
          ]
        }
      ]
    },
    {
      "cell_type": "code",
      "source": [
        "# librerías DEAP\n",
        "from deap import algorithms\n",
        "from deap import base\n",
        "from deap import creator\n",
        "from deap import tools\n",
        "from deap import gp"
      ],
      "metadata": {
        "id": "eTWL9Y1syMgc"
      },
      "execution_count": 2,
      "outputs": []
    },
    {
      "cell_type": "code",
      "source": [
        "# librerías estándar\n",
        "import random\n",
        "import operator\n",
        "import csv\n",
        "import itertools\n",
        "import numpy\n",
        "from functools import partial"
      ],
      "metadata": {
        "id": "qR9SCy8uyOEp"
      },
      "execution_count": 3,
      "outputs": []
    },
    {
      "cell_type": "code",
      "source": [
        "# montar drive\n",
        "from google.colab import drive\n",
        "drive.mount('/content/drive/');"
      ],
      "metadata": {
        "colab": {
          "base_uri": "https://localhost:8080/"
        },
        "id": "bs2zByIHya6T",
        "outputId": "885b60d9-ce4a-479c-9af8-7922d8f3ce2a"
      },
      "execution_count": 4,
      "outputs": [
        {
          "output_type": "stream",
          "name": "stdout",
          "text": [
            "Drive already mounted at /content/drive/; to attempt to forcibly remount, call drive.mount(\"/content/drive/\", force_remount=True).\n"
          ]
        }
      ]
    },
    {
      "cell_type": "code",
      "source": [
        "# obtener datos\n",
        "with open(\"/content/drive/MyDrive/Datasets/spambase.csv\") as spambase:\n",
        "    spamReader = csv.reader(spambase)\n",
        "    spam = list(list(float(elem) for elem in row) for row in spamReader)"
      ],
      "metadata": {
        "id": "TyD7wZDqyUMX"
      },
      "execution_count": 5,
      "outputs": []
    },
    {
      "cell_type": "code",
      "source": [
        "# define un conjunto de (funciones) primitivas para GP\n",
        "pset = gp.PrimitiveSetTyped(\"MAIN\", itertools.repeat(float, 57), bool, \"IN\")"
      ],
      "metadata": {
        "id": "FKC-DGa_0r-c"
      },
      "execution_count": 6,
      "outputs": []
    },
    {
      "cell_type": "code",
      "source": [
        "# agrega operadores Booleanos\n",
        "pset.addPrimitive(operator.and_, [bool, bool], bool)\n",
        "pset.addPrimitive(operator.or_, [bool, bool], bool)\n",
        "pset.addPrimitive(operator.not_, [bool], bool)\n"
      ],
      "metadata": {
        "id": "9_Sjfca80tp7"
      },
      "execution_count": 7,
      "outputs": []
    },
    {
      "cell_type": "code",
      "source": [
        "# agrega operaciones aritméticas\n",
        "pset.addPrimitive(operator.add, [float,float], float)\n",
        "pset.addPrimitive(operator.sub, [float,float], float)\n",
        "pset.addPrimitive(operator.mul, [float,float], float)"
      ],
      "metadata": {
        "id": "h5ku1G4a0yFi"
      },
      "execution_count": 9,
      "outputs": []
    },
    {
      "cell_type": "code",
      "source": [
        "# define una division protegida\n",
        "def protectedDiv(left, right):\n",
        "    try: return left / right\n",
        "    except ZeroDivisionError: return 1"
      ],
      "metadata": {
        "id": "z1ttcl-s0vPw"
      },
      "execution_count": 8,
      "outputs": []
    },
    {
      "cell_type": "code",
      "source": [
        "# agrega la division protegida\n",
        "pset.addPrimitive(protectedDiv, [float,float], float)"
      ],
      "metadata": {
        "id": "F11Rrd3HCBpQ"
      },
      "execution_count": null,
      "outputs": []
    },
    {
      "cell_type": "code",
      "source": [
        "# agrega operadores de comparación\n",
        "pset.addPrimitive(operator.lt, [float, float], bool)\n",
        "pset.addPrimitive(operator.eq, [float, float], bool)"
      ],
      "metadata": {
        "id": "ltDuWCxtCSw6"
      },
      "execution_count": null,
      "outputs": []
    },
    {
      "cell_type": "code",
      "source": [
        "# define una función if-then-else\n",
        "def if_then_else(input, output1, output2):\n",
        "    if input: return output1\n",
        "    else: return output2"
      ],
      "metadata": {
        "id": "H3Qf8uT30zoy"
      },
      "execution_count": 10,
      "outputs": []
    },
    {
      "cell_type": "code",
      "source": [
        "# agrega la función if-then-else\n",
        "pset.addPrimitive(if_then_else, [bool, float, float], float)"
      ],
      "metadata": {
        "id": "C1fdPGiq02Fv"
      },
      "execution_count": 11,
      "outputs": []
    },
    {
      "cell_type": "code",
      "source": [
        "# terminales: conjunto de datos\n",
        "pset.addEphemeralConstant(\"rand100\", partial(random.uniform, 0, 100), float)\n",
        "pset.addTerminal(False, bool)\n",
        "pset.addTerminal(True, bool)"
      ],
      "metadata": {
        "id": "pL0vRto_031Q"
      },
      "execution_count": 12,
      "outputs": []
    },
    {
      "cell_type": "code",
      "source": [
        "# función para asignar fitness (medidad de aptitud - calidad)\n",
        "creator.create(\"FitnessMax\", base.Fitness, weights=(1.0,))\n",
        "creator.create(\"Individual\", gp.PrimitiveTree, fitness=creator.FitnessMax)"
      ],
      "metadata": {
        "id": "wdZR-3iJ05pW"
      },
      "execution_count": 13,
      "outputs": []
    },
    {
      "cell_type": "code",
      "source": [
        "# crea toolbox\n",
        "toolbox = base.Toolbox()\n",
        "toolbox.register(\"expr\", gp.genHalfAndHalf, pset=pset, min_=1, max_=2)\n",
        "toolbox.register(\"individual\", tools.initIterate, creator.Individual, toolbox.expr)\n",
        "toolbox.register(\"population\", tools.initRepeat, list, toolbox.individual)\n",
        "toolbox.register(\"compile\", gp.compile, pset=pset)"
      ],
      "metadata": {
        "id": "Bxswe04C07G0"
      },
      "execution_count": 14,
      "outputs": []
    },
    {
      "cell_type": "code",
      "source": [
        "# función para evaluar individuos\n",
        "def evalSpambase(individual):\n",
        "    # transforma el árbol en una función (método en programación)\n",
        "    func = toolbox.compile(expr=individual)\n",
        "    # toma n muestras del conjunto de datos\n",
        "    n = 400\n",
        "    spam_samp = random.sample(spam, n)\n",
        "    # suma los mails correctamente clasificados\n",
        "    result = sum(bool(func(*mail[:57])) is bool(mail[57]) for mail in spam_samp)\n",
        "    return result,\n"
      ],
      "metadata": {
        "id": "RMuRD82909AM"
      },
      "execution_count": 15,
      "outputs": []
    },
    {
      "cell_type": "code",
      "source": [
        "# agrega en la toolbox operadores genéticos\n",
        "toolbox.register(\"evaluate\", evalSpambase)\n",
        "toolbox.register(\"select\", tools.selTournament, tournsize=3)\n",
        "toolbox.register(\"mate\", gp.cxOnePoint)\n",
        "toolbox.register(\"expr_mut\", gp.genFull, min_=0, max_=2)\n",
        "toolbox.register(\"mutate\", gp.mutUniform, expr=toolbox.expr_mut, pset=pset)"
      ],
      "metadata": {
        "id": "fa5A7eyN0_GB"
      },
      "execution_count": 16,
      "outputs": []
    },
    {
      "cell_type": "code",
      "source": [
        "# población\n",
        "random.seed(7)\n",
        "pop = toolbox.population(n=100)\n",
        "hof = tools.HallOfFame(1)"
      ],
      "metadata": {
        "id": "BYkXziGe1F5K"
      },
      "execution_count": 17,
      "outputs": []
    },
    {
      "cell_type": "code",
      "source": [
        "# estadísticos\n",
        "stats = tools.Statistics(lambda ind: ind.fitness.values)\n",
        "stats.register(\"avg\", numpy.mean)\n",
        "stats.register(\"std\", numpy.std)\n",
        "stats.register(\"min\", numpy.min)\n",
        "stats.register(\"max\", numpy.max)"
      ],
      "metadata": {
        "id": "_xzQfMgHD1d0"
      },
      "execution_count": null,
      "outputs": []
    },
    {
      "cell_type": "code",
      "execution_count": 18,
      "metadata": {
        "colab": {
          "base_uri": "https://localhost:8080/"
        },
        "id": "UbHoApZ1yB5K",
        "outputId": "7f88c04e-39bf-4cf0-e641-1e6aa5d82ae1"
      },
      "outputs": [
        {
          "output_type": "stream",
          "name": "stdout",
          "text": [
            "gen\tnevals\n",
            "0  \t100   \n",
            "1  \t49    \n",
            "2  \t69    \n",
            "3  \t57    \n",
            "4  \t70    \n",
            "5  \t64    \n",
            "6  \t64    \n",
            "7  \t55    \n",
            "8  \t55    \n",
            "9  \t55    \n",
            "10 \t67    \n",
            "11 \t67    \n",
            "12 \t51    \n",
            "13 \t50    \n",
            "14 \t58    \n",
            "15 \t59    \n",
            "16 \t59    \n",
            "17 \t64    \n",
            "18 \t61    \n",
            "19 \t61    \n",
            "20 \t56    \n",
            "21 \t63    \n",
            "22 \t54    \n",
            "23 \t57    \n",
            "24 \t65    \n",
            "25 \t66    \n",
            "26 \t62    \n",
            "27 \t45    \n",
            "28 \t61    \n",
            "29 \t66    \n",
            "30 \t71    \n",
            "31 \t56    \n",
            "32 \t56    \n",
            "33 \t67    \n",
            "34 \t54    \n",
            "35 \t65    \n",
            "36 \t56    \n",
            "37 \t64    \n",
            "38 \t61    \n",
            "39 \t71    \n",
            "40 \t59    \n"
          ]
        }
      ],
      "source": [
        "# corre algoritmo\n",
        "algorithms.eaSimple(pop, toolbox, cxpb=0.5, mutpb=0.2, ngen=40, halloffame=hof);"
      ]
    },
    {
      "cell_type": "code",
      "source": [
        "# best (mejor)\n",
        "bests = tools.selBest(pop, k=1)\n",
        "print(bests[0])\n",
        "print(bests[0].fitness)"
      ],
      "metadata": {
        "colab": {
          "base_uri": "https://localhost:8080/"
        },
        "id": "7-y-Xo8K1oAN",
        "outputId": "186ac808-f950-41d7-f8d2-ce2affcf323a"
      },
      "execution_count": 19,
      "outputs": [
        {
          "output_type": "stream",
          "name": "stdout",
          "text": [
            "lt(mul(if_then_else(False, IN14, IN24), add(IN24, mul(IN35, mul(if_then_else(lt(IN10, IN30), IN14, IN24), add(IN49, IN20))))), IN52)\n",
            "(344.0,)\n"
          ]
        }
      ]
    },
    {
      "cell_type": "markdown",
      "source": [
        "##Árbol"
      ],
      "metadata": {
        "id": "TqKGZtzH6sG9"
      }
    },
    {
      "cell_type": "code",
      "source": [
        "# instala networkx\n",
        "!pip install networkx;"
      ],
      "metadata": {
        "colab": {
          "base_uri": "https://localhost:8080/"
        },
        "id": "IL54xTRt1lVd",
        "outputId": "b258457f-0ea1-4e5d-b7e8-d4cd4026d867"
      },
      "execution_count": 20,
      "outputs": [
        {
          "output_type": "stream",
          "name": "stdout",
          "text": [
            "Requirement already satisfied: networkx in /usr/local/lib/python3.10/dist-packages (3.1)\n"
          ]
        }
      ]
    },
    {
      "cell_type": "code",
      "source": [
        "# instala dependencias\n",
        "!apt install libgraphviz-dev"
      ],
      "metadata": {
        "colab": {
          "base_uri": "https://localhost:8080/"
        },
        "id": "u9RDFKG_558r",
        "outputId": "0c65e223-c5f3-49f8-e547-5e121acd24b1"
      },
      "execution_count": 21,
      "outputs": [
        {
          "output_type": "stream",
          "name": "stdout",
          "text": [
            "Reading package lists... Done\n",
            "Building dependency tree... Done\n",
            "Reading state information... Done\n",
            "libgraphviz-dev is already the newest version (2.42.2-6).\n",
            "0 upgraded, 0 newly installed, 0 to remove and 18 not upgraded.\n"
          ]
        }
      ]
    },
    {
      "cell_type": "code",
      "source": [
        "# instala pygraphviz\n",
        "!pip install pygraphviz"
      ],
      "metadata": {
        "colab": {
          "base_uri": "https://localhost:8080/"
        },
        "id": "iXqjDchA5TAE",
        "outputId": "465d1c8e-e61c-402b-fbb3-63aa1b1964b2"
      },
      "execution_count": 22,
      "outputs": [
        {
          "output_type": "stream",
          "name": "stdout",
          "text": [
            "Requirement already satisfied: pygraphviz in /usr/local/lib/python3.10/dist-packages (1.11)\n"
          ]
        }
      ]
    },
    {
      "cell_type": "code",
      "source": [
        "# librerías para grafos\n",
        "import networkx as nx\n",
        "from networkx.drawing.nx_agraph import graphviz_layout\n",
        "import matplotlib.pyplot as plt\n",
        "import pygraphviz"
      ],
      "metadata": {
        "id": "nn0znM4d2hs4"
      },
      "execution_count": 23,
      "outputs": []
    },
    {
      "cell_type": "code",
      "source": [
        "# define grafo\n",
        "nodes, edges, labels = gp.graph(bests[0])\n",
        "graph = nx.Graph()\n",
        "graph.add_nodes_from(nodes)\n",
        "graph.add_edges_from(edges)\n",
        "pos = graphviz_layout(graph, prog=\"dot\")"
      ],
      "metadata": {
        "id": "JhWnoXfU6K8m"
      },
      "execution_count": 24,
      "outputs": []
    },
    {
      "cell_type": "code",
      "source": [
        "# grafíca grafo\n",
        "plt.figure(figsize=(7,7))\n",
        "nx.draw_networkx_nodes(graph, pos, node_size=900, node_color=\"w\")\n",
        "nx.draw_networkx_edges(graph, pos)\n",
        "nx.draw_networkx_labels(graph, pos, labels)\n",
        "plt.axis(\"off\")\n",
        "plt.show()"
      ],
      "metadata": {
        "colab": {
          "base_uri": "https://localhost:8080/",
          "height": 576
        },
        "id": "7a1-InmT1lRk",
        "outputId": "c92fd615-efc1-46eb-a224-758279500d20"
      },
      "execution_count": 25,
      "outputs": [
        {
          "output_type": "display_data",
          "data": {
            "text/plain": [
              "<Figure size 700x700 with 1 Axes>"
            ],
            "image/png": "[encoded data removed]"
          },
          "metadata": {}
        }
      ]
    }
  ]
}