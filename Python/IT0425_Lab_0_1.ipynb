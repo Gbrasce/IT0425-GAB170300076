{
  "nbformat": 4,
  "nbformat_minor": 0,
  "metadata": {
    "colab": {
      "provenance": []
    },
    "kernelspec": {
      "name": "python3",
      "display_name": "Python 3"
    },
    "language_info": {
      "name": "python"
    }
  },
  "cells": [
    {
      "cell_type": "markdown",
      "source": [
        "#IT0425 - Introducción a la Inteligencia Artificial\n",
        "\n",
        "### Otoño 2023\n",
        "\n",
        "### IT0425_Lab_0-1\n",
        "\n",
        "**Profesor Enrique Naredo García**\n",
        "\n",
        "<font size = 2>\n",
        "©️ Todos los derechos reservados. All rights reserved.\n",
        "\n",
        "*Nota: El presente documento es una herramienta diseñada única y exclusivamente para los estudiantes de la asignatura arriba mencionada. Se recuerda no compartir esta información fuera de los integrantes registrados en este curso. La reproducción total o parcial de este documento requiere autorización por escrito del titular del copyright.*\n",
        "</font>"
      ],
      "metadata": {
        "id": "jij6pVV1HsUZ"
      }
    },
    {
      "cell_type": "markdown",
      "metadata": {
        "id": "JLpPSD9Z8pBO"
      },
      "source": [
        "# Python Basics"
      ]
    },
    {
      "cell_type": "markdown",
      "metadata": {
        "id": "CLNU1zRpEwgi"
      },
      "source": [
        "### Markdown Examples"
      ]
    },
    {
      "cell_type": "markdown",
      "metadata": {
        "id": "XEiC0hkaE74A"
      },
      "source": [
        "This is **bold**.\n",
        "\n",
        "This is *italic*.\n",
        "\n",
        "This is ~strikethrough~."
      ]
    },
    {
      "cell_type": "markdown",
      "metadata": {
        "id": "tNFS8gVRFLXS"
      },
      "source": [
        "Mathematical Equations\n",
        "\n",
        "$\\sqrt{3x-1}+(1+x)^2$\n",
        "\n",
        "$e^x=\\sum_{i=0}^\\infty \\frac{1}{i!}x^i$"
      ]
    },
    {
      "cell_type": "markdown",
      "metadata": {
        "id": "PRq1ZrpU9kNC"
      },
      "source": [
        "### Python Comments"
      ]
    },
    {
      "cell_type": "code",
      "metadata": {
        "id": "XnuvhtLg9npr"
      },
      "source": [
        "# This is a single line comment"
      ],
      "execution_count": 1,
      "outputs": []
    },
    {
      "cell_type": "code",
      "metadata": {
        "id": "v4LN70Yq-CEm",
        "colab": {
          "base_uri": "https://localhost:8080/",
          "height": 35
        },
        "outputId": "8ba7420d-778b-45ab-df1a-b48fafb1b96a"
      },
      "source": [
        "'''\n",
        "THIS IS A MULTILINE COMMENT\n",
        "USING STRING LITERALS!\n",
        "'''"
      ],
      "execution_count": 2,
      "outputs": [
        {
          "output_type": "execute_result",
          "data": {
            "text/plain": [
              "'\\nTHIS IS A MULTILINE COMMENT\\nUSING STRING LITERALS!\\n'"
            ],
            "application/vnd.google.colaboratory.intrinsic+json": {
              "type": "string"
            }
          },
          "metadata": {},
          "execution_count": 2
        }
      ]
    },
    {
      "cell_type": "code",
      "metadata": {
        "id": "7cfq_n8U-bNp",
        "colab": {
          "base_uri": "https://localhost:8080/",
          "height": 35
        },
        "outputId": "3313c49d-7980-4b09-ac32-dc2c0b591c76"
      },
      "source": [
        "\"\"\"\n",
        "This is a comment\n",
        "written in\n",
        "more than just one line\n",
        "\"\"\""
      ],
      "execution_count": 3,
      "outputs": [
        {
          "output_type": "execute_result",
          "data": {
            "text/plain": [
              "'\\nThis is a comment\\nwritten in\\nmore than just one line\\n'"
            ],
            "application/vnd.google.colaboratory.intrinsic+json": {
              "type": "string"
            }
          },
          "metadata": {},
          "execution_count": 3
        }
      ]
    },
    {
      "cell_type": "markdown",
      "metadata": {
        "id": "vhRIJ7OD5iaS"
      },
      "source": [
        "### Python Indentation"
      ]
    },
    {
      "cell_type": "code",
      "metadata": {
        "id": "5m8_yPXz5Vgz",
        "colab": {
          "base_uri": "https://localhost:8080/"
        },
        "outputId": "eb52d266-7aa5-4d78-8ce6-29dd9dd1b926"
      },
      "source": [
        "## Good indentation\n",
        "\n",
        "if 10 > 5:\n",
        "  print(\"Ten is greater than five!\")"
      ],
      "execution_count": 4,
      "outputs": [
        {
          "output_type": "stream",
          "name": "stdout",
          "text": [
            "Ten is greater than five!\n"
          ]
        }
      ]
    },
    {
      "cell_type": "code",
      "metadata": {
        "id": "r3ezf2th8wqd",
        "colab": {
          "base_uri": "https://localhost:8080/",
          "height": 143
        },
        "outputId": "ab910426-e0b6-4b65-cadd-10df698c4d73"
      },
      "source": [
        "## Wrong indentation\n",
        "# add blank spaces to get the right indentation\n",
        "\n",
        "if 10 > 5:\n",
        "print(\"Ten is greater than five!\")"
      ],
      "execution_count": 5,
      "outputs": [
        {
          "output_type": "error",
          "ename": "IndentationError",
          "evalue": "ignored",
          "traceback": [
            "\u001b[0;36m  File \u001b[0;32m\"<ipython-input-5-0c3a2f89da0e>\"\u001b[0;36m, line \u001b[0;32m5\u001b[0m\n\u001b[0;31m    print(\"Ten is greater than five!\")\u001b[0m\n\u001b[0m    ^\u001b[0m\n\u001b[0;31mIndentationError\u001b[0m\u001b[0;31m:\u001b[0m expected an indented block after 'if' statement on line 4\n"
          ]
        }
      ]
    },
    {
      "cell_type": "markdown",
      "metadata": {
        "id": "_vz_Eylu9Ij6"
      },
      "source": [
        "### Python Variables"
      ]
    },
    {
      "cell_type": "code",
      "metadata": {
        "id": "hFE6bW7e9N3X"
      },
      "source": [
        "x = 10\n",
        "y = \"Hello, Friend!\""
      ],
      "execution_count": 6,
      "outputs": []
    },
    {
      "cell_type": "code",
      "metadata": {
        "id": "ctn4HhFW-_M0"
      },
      "source": [
        "z = \"Celtics\"\n",
        "# is the same as\n",
        "z = 'Celtics'"
      ],
      "execution_count": 7,
      "outputs": []
    },
    {
      "cell_type": "code",
      "metadata": {
        "id": "iKYY8GOQ_UAa"
      },
      "source": [
        "a = 4\n",
        "# is NOT the same as\n",
        "A = 4"
      ],
      "execution_count": 8,
      "outputs": []
    },
    {
      "cell_type": "code",
      "metadata": {
        "id": "DqAs1TeI_xXY"
      },
      "source": [
        "# Legal variable names\n",
        "\n",
        "myvar   = \"Anything\"\n",
        "my_var  = \"Anything\"\n",
        "_my_var = \"Anything\"\n",
        "myVar   = \"Anything\"\n",
        "MYVAR   = \"Anything\"\n",
        "myvar2  = \"Anything\""
      ],
      "execution_count": 9,
      "outputs": []
    },
    {
      "cell_type": "code",
      "metadata": {
        "id": "rYeVoiVIAHZE"
      },
      "source": [
        "# Camel Case\n",
        "myVariableName = \"Something\""
      ],
      "execution_count": 10,
      "outputs": []
    },
    {
      "cell_type": "code",
      "metadata": {
        "id": "2SxZ4LsFATuG"
      },
      "source": [
        "# Pascal Case\n",
        "MyVariableName = \"Something\""
      ],
      "execution_count": 11,
      "outputs": []
    },
    {
      "cell_type": "code",
      "metadata": {
        "id": "KTTOCto2Aha_"
      },
      "source": [
        "# Snake Case\n",
        "my_variable_name = \"Something\""
      ],
      "execution_count": 12,
      "outputs": []
    },
    {
      "cell_type": "code",
      "metadata": {
        "id": "Pi4inIHgApVE",
        "colab": {
          "base_uri": "https://localhost:8080/",
          "height": 143
        },
        "outputId": "6b7e5999-d7fc-4fa8-c3a7-4c30a0d02df6"
      },
      "source": [
        "# Invent your own case\n",
        "my_Variable-NAME = \"Something\""
      ],
      "execution_count": 13,
      "outputs": [
        {
          "output_type": "error",
          "ename": "SyntaxError",
          "evalue": "ignored",
          "traceback": [
            "\u001b[0;36m  File \u001b[0;32m\"<ipython-input-13-bf51a23b4787>\"\u001b[0;36m, line \u001b[0;32m2\u001b[0m\n\u001b[0;31m    my_Variable-NAME = \"Something\"\u001b[0m\n\u001b[0m    ^\u001b[0m\n\u001b[0;31mSyntaxError\u001b[0m\u001b[0;31m:\u001b[0m cannot assign to expression here. Maybe you meant '==' instead of '='?\n"
          ]
        }
      ]
    },
    {
      "cell_type": "code",
      "metadata": {
        "id": "McJxzxxeBEAu",
        "colab": {
          "base_uri": "https://localhost:8080/"
        },
        "outputId": "58db2c59-7360-4641-c79f-cb7f5c5ae40d"
      },
      "source": [
        "# Many Values to Multiple Variables\n",
        "alpha, beta, gamma = \"Anything\", \"Something\", \"Whatever\"\n",
        "print(alpha)\n",
        "print(beta)\n",
        "print(gamma)"
      ],
      "execution_count": 14,
      "outputs": [
        {
          "output_type": "stream",
          "name": "stdout",
          "text": [
            "Anything\n",
            "Something\n",
            "Whatever\n"
          ]
        }
      ]
    },
    {
      "cell_type": "code",
      "metadata": {
        "id": "Q1-y_vo3BfXC",
        "colab": {
          "base_uri": "https://localhost:8080/"
        },
        "outputId": "929aa2f5-5c9c-4b9b-cb31-e6e44fb9ad09"
      },
      "source": [
        "# One Value to Multiple Variables\n",
        "alpha = beta = gamma = \"Everything\"\n",
        "print(alpha)\n",
        "print(beta)\n",
        "print(gamma)"
      ],
      "execution_count": 15,
      "outputs": [
        {
          "output_type": "stream",
          "name": "stdout",
          "text": [
            "Everything\n",
            "Everything\n",
            "Everything\n"
          ]
        }
      ]
    }
  ]
}
