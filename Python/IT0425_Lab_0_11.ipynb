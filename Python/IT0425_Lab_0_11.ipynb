{
  "nbformat": 4,
  "nbformat_minor": 0,
  "metadata": {
    "colab": {
      "provenance": []
    },
    "kernelspec": {
      "name": "python3",
      "display_name": "Python 3"
    },
    "language_info": {
      "name": "python"
    }
  },
  "cells": [
    {
      "cell_type": "markdown",
      "metadata": {
        "id": "HSOQRTToa-OX"
      },
      "source": [
        "#IT0425 - Introducción a la Inteligencia Artificial\n",
        "\n",
        "### Otoño 2023\n",
        "\n",
        "### IT0425_Lab_0-11\n",
        "\n",
        "**Profesor Enrique Naredo García**\n",
        "\n",
        "<font size = 2>\n",
        "©️ Todos los derechos reservados. All rights reserved.\n",
        "\n",
        "*Nota: El presente documento es una herramienta diseñada única y exclusivamente para los estudiantes de la asignatura arriba mencionada. Se recuerda no compartir esta información fuera de los integrantes registrados en este curso. La reproducción total o parcial de este documento requiere autorización por escrito del titular del copyright.*\n",
        "</font>"
      ]
    },
    {
      "cell_type": "markdown",
      "metadata": {
        "id": "IHknF0wiQUZL"
      },
      "source": [
        "# Matplotlib exercises"
      ]
    },
    {
      "cell_type": "code",
      "metadata": {
        "id": "Di6gjJFQkVX4"
      },
      "source": [
        "import numpy as np\n",
        "import matplotlib.pyplot as plt"
      ],
      "execution_count": null,
      "outputs": []
    },
    {
      "cell_type": "markdown",
      "metadata": {
        "id": "WZvDCqcVkVX7"
      },
      "source": [
        "# Problem 1\n",
        "Plot a scatter plot of Data using the first column as x and the first column as y, using red points."
      ]
    },
    {
      "cell_type": "code",
      "metadata": {
        "id": "Jm62Xq6pkVX7"
      },
      "source": [
        "#input\n",
        "x=np.random.randn(15)\n",
        "Data=np.hstack([x[:,None],x[:,None]])"
      ],
      "execution_count": null,
      "outputs": []
    },
    {
      "cell_type": "markdown",
      "metadata": {
        "id": "OsB6k6QBkVX7"
      },
      "source": [
        "# Problem 2\n",
        "Plot a scatter plot of Data using the first column as x and the first column as y,\n",
        "and add the label \"x\" and \"y\" to the respective columns using `fontsize` 14."
      ]
    },
    {
      "cell_type": "markdown",
      "metadata": {
        "id": "mEuOjzMdkVX8"
      },
      "source": [
        "# Problem 4\n",
        "Plot the graph of the function $\\cos(8 x)$ for $x \\in[0,1]$ and add the label \"x\" and \"cos(8x)\" to the respective columns using `fontsize` 14."
      ]
    },
    {
      "cell_type": "markdown",
      "metadata": {
        "id": "D0TN4Qq9kVX8"
      },
      "source": [
        "# Problem 5\n",
        "Plot the histogram of Data using 30 bins."
      ]
    },
    {
      "cell_type": "code",
      "metadata": {
        "id": "9dV03B5skVX8"
      },
      "source": [
        "#input\n",
        "Data=np.random.randn(2000)"
      ],
      "execution_count": null,
      "outputs": []
    }
  ]
}
