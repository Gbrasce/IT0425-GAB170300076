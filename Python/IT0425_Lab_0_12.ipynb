{
  "nbformat": 4,
  "nbformat_minor": 0,
  "metadata": {
    "colab": {
      "provenance": []
    },
    "kernelspec": {
      "name": "python3",
      "display_name": "Python 3"
    },
    "language_info": {
      "name": "python"
    }
  },
  "cells": [
    {
      "cell_type": "markdown",
      "metadata": {
        "id": "sz4D-VNWbazq"
      },
      "source": [
        "#IT0425 - Introducción a la Inteligencia Artificial\n",
        "\n",
        "### Otoño 2023\n",
        "\n",
        "### IT0425_Lab_0-12\n",
        "\n",
        "**Profesor Enrique Naredo García**\n",
        "\n",
        "<font size = 2>\n",
        "©️ Todos los derechos reservados. All rights reserved.\n",
        "\n",
        "*Nota: El presente documento es una herramienta diseñada única y exclusivamente para los estudiantes de la asignatura arriba mencionada. Se recuerda no compartir esta información fuera de los integrantes registrados en este curso. La reproducción total o parcial de este documento requiere autorización por escrito del titular del copyright.*\n",
        "</font>"
      ]
    },
    {
      "cell_type": "markdown",
      "metadata": {
        "id": "IHknF0wiQUZL"
      },
      "source": [
        "# Matplotlib exercises"
      ]
    },
    {
      "cell_type": "code",
      "metadata": {
        "id": "j9NB1-3DPk4L"
      },
      "source": [
        "import numpy as np\n",
        "import matplotlib.pyplot as plt"
      ],
      "execution_count": null,
      "outputs": []
    },
    {
      "cell_type": "markdown",
      "metadata": {
        "id": "ZjI7csMTkVX9"
      },
      "source": [
        "# Problem 6\n",
        "Bar plot of x and money below"
      ]
    },
    {
      "cell_type": "code",
      "metadata": {
        "id": "95JQc1s3kVX9"
      },
      "source": [
        "#input\n",
        "x = np.arange(4)\n",
        "money = [1.5e5, 2.5e6, 5.5e6, 2.0e7]"
      ],
      "execution_count": null,
      "outputs": []
    },
    {
      "cell_type": "markdown",
      "metadata": {
        "id": "VQ9d5MyIkVX-"
      },
      "source": [
        "# Problem 7\n",
        "Plot the graph of the function $\\cos(8 x)$ in red and $x^2$ in blue for $x \\in[0,1]$ and add the label \"x\" and \"f(x)\" to the respective columns using `fontsize` 14."
      ]
    },
    {
      "cell_type": "markdown",
      "metadata": {
        "id": "kp3JyYtLkVX-"
      },
      "source": [
        "# Problem 8\n",
        "Plot the graph of the function $\\cos(8 x)$ in red and $x^2$ in blue for $x \\in[0,1]$ and add a legend\n",
        "with labels \"cos(8x)\" and \"$x^2$\""
      ]
    },
    {
      "cell_type": "markdown",
      "metadata": {
        "id": "DMygQKpHkVX-"
      },
      "source": [
        "# Problem 9\n",
        "Generate samples from the <a href=\"https://en.wikipedia.org/wiki/Laplace_distribution\">Laplace distribution</a> (use `np.random.laplace(0,2,100)`), and then plot a histogram of the samples using 30 bins."
      ]
    },
    {
      "cell_type": "markdown",
      "metadata": {
        "id": "bGJ_zmebkVX_"
      },
      "source": [
        "# Problem 10\n",
        "Plot the graph of the 2D function $e^{-x^2-y^2}$  for $x,y \\in[-3,3]$."
      ]
    }
  ]
}
