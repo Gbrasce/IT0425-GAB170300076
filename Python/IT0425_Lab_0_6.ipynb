{
  "nbformat": 4,
  "nbformat_minor": 0,
  "metadata": {
    "colab": {
      "provenance": []
    },
    "kernelspec": {
      "name": "python3",
      "display_name": "Python 3"
    },
    "language_info": {
      "name": "python"
    }
  },
  "cells": [
    {
      "cell_type": "markdown",
      "metadata": {
        "id": "DpnmKmf-T7zi"
      },
      "source": [
        "#IT0425 - Introducción a la Inteligencia Artificial\n",
        "\n",
        "### Otoño 2023\n",
        "\n",
        "### IT0425_Lab_0-6\n",
        "\n",
        "**Profesor Enrique Naredo García**\n",
        "\n",
        "<font size = 2>\n",
        "©️ Todos los derechos reservados. All rights reserved.\n",
        "\n",
        "*Nota: El presente documento es una herramienta diseñada única y exclusivamente para los estudiantes de la asignatura arriba mencionada. Se recuerda no compartir esta información fuera de los integrantes registrados en este curso. La reproducción total o parcial de este documento requiere autorización por escrito del titular del copyright.*\n",
        "</font>"
      ]
    },
    {
      "cell_type": "markdown",
      "metadata": {
        "id": "PFvNOA7si2d_"
      },
      "source": [
        "# Numpy"
      ]
    },
    {
      "cell_type": "markdown",
      "metadata": {
        "id": "_JcEGZQDi2eC"
      },
      "source": [
        "\n",
        "This part focuses on Numpy, see <a href=\"https://numpy.org/doc/stable/user/quickstart.html\">numpy quickstart tutorial</a>, which I encourage you to reference throughout the course.\n",
        "\n",
        "\n",
        "Some problems about numpy\n",
        "\n"
      ]
    },
    {
      "cell_type": "markdown",
      "metadata": {
        "id": "B3kV5EJgi2eD"
      },
      "source": [
        "# Problem 1\n",
        "\n",
        "Create a null vector of size 10 (that is a vector that includes 10 zeros) and print it"
      ]
    },
    {
      "cell_type": "code",
      "metadata": {
        "id": "4joqyqsCi2eD"
      },
      "source": [
        "#solution\n",
        "import numpy as np\n",
        "Z = np.zeros(10)\n",
        "print(Z)"
      ],
      "execution_count": null,
      "outputs": []
    },
    {
      "cell_type": "markdown",
      "metadata": {
        "id": "Rt9bieP8i2eF"
      },
      "source": [
        "# Problem 2\n",
        "Create a null vector of size 10 but the fifth value which is 1"
      ]
    },
    {
      "cell_type": "markdown",
      "metadata": {
        "id": "S5olPsQKi2eF"
      },
      "source": [
        "# Problem 3\n",
        "Create a vector with all integer values ranging from 10 to 49.\n",
        "\n",
        "Hint\n",
        "\n",
        "    You can use a loop with range(10,49)"
      ]
    },
    {
      "cell_type": "markdown",
      "metadata": {
        "id": "mLZtIlQti2eF"
      },
      "source": [
        "# Problem 4\n",
        " Create a 3x3 matrix with values ranging from 0 to 8"
      ]
    },
    {
      "cell_type": "markdown",
      "metadata": {
        "id": "F9SJOjgMi2eG"
      },
      "source": [
        "# Problem 5\n",
        "Create a 3x3x3 array with random values.\n",
        "\n",
        "Hint\n",
        "\n",
        "    You can use np.random.random"
      ]
    }
  ]
}
