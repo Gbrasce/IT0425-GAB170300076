{
  "nbformat": 4,
  "nbformat_minor": 0,
  "metadata": {
    "colab": {
      "provenance": []
    },
    "kernelspec": {
      "name": "python3",
      "display_name": "Python 3"
    },
    "language_info": {
      "name": "python"
    }
  },
  "cells": [
    {
      "cell_type": "markdown",
      "metadata": {
        "id": "r9vRZxggUbg6"
      },
      "source": [
        "#IT0425 - Introducción a la Inteligencia Artificial\n",
        "\n",
        "### Otoño 2023\n",
        "\n",
        "### IT0425_Lab_0-7\n",
        "\n",
        "**Profesor Enrique Naredo García**\n",
        "\n",
        "<font size = 2>\n",
        "©️ Todos los derechos reservados. All rights reserved.\n",
        "\n",
        "*Nota: El presente documento es una herramienta diseñada única y exclusivamente para los estudiantes de la asignatura arriba mencionada. Se recuerda no compartir esta información fuera de los integrantes registrados en este curso. La reproducción total o parcial de este documento requiere autorización por escrito del titular del copyright.*\n",
        "</font>"
      ]
    },
    {
      "cell_type": "markdown",
      "metadata": {
        "id": "PFvNOA7si2d_"
      },
      "source": [
        "# Numpy"
      ]
    },
    {
      "cell_type": "markdown",
      "metadata": {
        "id": "_JcEGZQDi2eC"
      },
      "source": [
        "\n",
        "This part focuses on Numpy, see <a href=\"https://numpy.org/doc/stable/user/quickstart.html\">numpy quickstart tutorial</a>, which I encourage you to reference throughout the course.\n",
        "\n",
        "\n",
        "Some problems about numpy\n",
        "\n"
      ]
    },
    {
      "cell_type": "markdown",
      "metadata": {
        "id": "eGjXvhYEi2eG"
      },
      "source": [
        "# Problem 6\n",
        "Create a 10x10 array with random values and find the minimum and maximum values"
      ]
    },
    {
      "cell_type": "markdown",
      "metadata": {
        "id": "mzF2KFJdi2eG"
      },
      "source": [
        "# Problem 7\n",
        "Create a random vector of size 30 and find the mean value"
      ]
    },
    {
      "cell_type": "markdown",
      "metadata": {
        "id": "8hbO1bKni2eH"
      },
      "source": [
        "# Problem 8\n",
        "Create a 5x5 matrix with values 1,2,3,4 just below the diagonal"
      ]
    },
    {
      "cell_type": "markdown",
      "metadata": {
        "id": "XRUmWno7i2eH"
      },
      "source": [
        "# Problem 9\n",
        "Create a random vector of size 10 and sort it\n"
      ]
    },
    {
      "cell_type": "markdown",
      "metadata": {
        "id": "A1xyFNONi2eH"
      },
      "source": [
        "# Problem 10\n",
        "\n",
        "Subtract the mean of each row of a matrix (Use `X = np.random.rand(5, 10)` to generate the array)"
      ]
    }
  ]
}
